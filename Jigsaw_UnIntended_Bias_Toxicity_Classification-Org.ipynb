{
 "cells": [
  {
   "cell_type": "markdown",
   "metadata": {
    "colab_type": "text",
    "id": "p7AD0CE2Aptg"
   },
   "source": [
    "<p style=\"font-size:36px;text-align:center\"> <b>Jigsaw Unintended Bias in Toxicity Classification</b> </p>"
   ]
  },
  {
   "cell_type": "markdown",
   "metadata": {
    "colab_type": "text",
    "id": "hQBCy93KApth"
   },
   "source": [
    "## 1. Business Problem"
   ]
  },
  {
   "cell_type": "markdown",
   "metadata": {
    "colab_type": "text",
    "id": "KAgKxyynApti"
   },
   "source": [
    "### Source : https://www.kaggle.com/c/jigsaw-unintended-bias-in-toxicity-classification\n",
    "### Problem Statement : \n",
    "#### Classify the given comments based on toxicity level. If target > .5 label as 1 (Toxic) else 0 ( Intoxic )"
   ]
  },
  {
   "cell_type": "markdown",
   "metadata": {
    "colab_type": "text",
    "id": "wY6wd-heAptj"
   },
   "source": [
    "### 1.1 Background"
   ]
  },
  {
   "cell_type": "markdown",
   "metadata": {
    "colab_type": "text",
    "id": "92NMd1QSAptk"
   },
   "source": [
    "\n",
    "At the end of 2017 the Civil Comments platform shut down and chose make their ~2m public comments from their platform available in a lasting open archive so that researchers could understand and improve civility in online conversations for years to come. Jigsaw sponsored this effort and extended annotation of this data by human raters for various toxic conversational attributes.\n",
    "\n",
    "In the data supplied for this competition, the text of the individual comment is found in the comment_text column. Each comment in Train has a toxicity label (target), and models should predict the target toxicity for the Test data. This attribute (and all others) are fractional values which represent the fraction of human raters who believed the attribute applied to the given comment. For evaluation, test set examples with target >= 0.5 will be considered to be in the positive class (toxic).\n",
    "\n",
    "The data also has several additional toxicity subtype attributes. Models do not need to predict these attributes for the competition, they are included as an additional avenue for research. Subtype attributes are:\n",
    "\n",
    "severe_toxicity\n",
    "obscene\n",
    "threat\n",
    "insult\n",
    "identity_attack\n",
    "sexual_explicit\n",
    "Additionally, a subset of comments have been labelled with a variety of identity attributes, representing the identities that are mentioned in the comment. The columns corresponding to identity attributes are listed below. Only identities with more than 500 examples in the test set (combined public and private) will be included in the evaluation calculation. These identities are shown in bold.\n",
    "\n",
    "male\n",
    "female\n",
    "transgender\n",
    "other_gender\n",
    "heterosexual\n",
    "homosexual_gay_or_lesbian\n",
    "bisexual\n",
    "other_sexual_orientation\n",
    "christian\n",
    "jewish\n",
    "muslim\n",
    "hindu\n",
    "buddhist\n",
    "atheist\n",
    "other_religion\n",
    "black\n",
    "white\n",
    "asian\n",
    "latino\n",
    "other_race_or_ethnicity\n",
    "physical_disability\n",
    "intellectual_or_learning_disability\n",
    "psychiatric_or_mental_illness\n",
    "other_disability\n",
    "Note that the data contains different comments that can have the exact same text. Different comments that have the same text may have been labeled with different targets or subgroups."
   ]
  },
  {
   "cell_type": "markdown",
   "metadata": {
    "colab_type": "text",
    "id": "hGE5zheAAptk"
   },
   "source": [
    "### 1.2. Real-world/Business objectives and constraints."
   ]
  },
  {
   "cell_type": "markdown",
   "metadata": {
    "colab_type": "text",
    "id": "XCeC91TfAptl"
   },
   "source": [
    "* No low-latency requirement.\n",
    "* Interpretability is important.\n",
    "* Sentiment Analysis of the comments has to be done.\n",
    "* Probability of a data-point belonging to each class is needed."
   ]
  },
  {
   "cell_type": "markdown",
   "metadata": {
    "colab_type": "text",
    "id": "-OmT5Z0MAptm"
   },
   "source": [
    "# 2. Machine Learning Problem Formulation"
   ]
  },
  {
   "cell_type": "markdown",
   "metadata": {
    "colab_type": "text",
    "id": "ZnyXhjN4Aptn"
   },
   "source": [
    "## 2.1. Data"
   ]
  },
  {
   "cell_type": "markdown",
   "metadata": {
    "colab_type": "text",
    "id": "Lf54Xk0tApto"
   },
   "source": [
    "### 2.1.1. Data Overview"
   ]
  },
  {
   "cell_type": "markdown",
   "metadata": {
    "colab_type": "text",
    "id": "oZh3kVOfApto"
   },
   "source": [
    "* We have two data files: In the data supplied for problem, the text of the individual comment is found in the comment_text column. Each comment in Train has a toxicity label (target), and models should predict the target toxicity for the Test data.\n",
    "* Data file's information:\n",
    "\n",
    "* train.csv : ('id', 'target', 'comment_text', 'severe_toxicity', 'obscene','identity_attack', 'insult', 'threat', 'asian', 'atheist', 'bisexual', 'black', 'buddhist', 'christian', 'female', 'heterosexual', 'hindu', 'homosexual_gay_or_lesbian', 'intellectual_or_learning_disability', 'jewish', 'latino', 'male', 'muslim', 'other_disability', 'other_gender', 'other_race_or_ethnicity', 'other_religion', 'other_sexual_orientation', 'physical_disability',      'psychiatric_or_mental_illness', 'transgender', 'white', 'created_date', 'publication_id', 'parent_id', 'article_id', 'rating', 'funny', 'wow', 'sad', 'likes', 'disagree', 'sexual_explicit', 'identity_annotator_count', 'toxicity_annotator_count')\n",
    "\n",
    "* test.csv : ('id', 'comment_text')"
   ]
  },
  {
   "cell_type": "code",
   "execution_count": 1,
   "metadata": {
    "colab": {
     "base_uri": "https://localhost:8080/",
     "height": 125
    },
    "colab_type": "code",
    "executionInfo": {
     "elapsed": 24509,
     "status": "ok",
     "timestamp": 1564760877909,
     "user": {
      "displayName": "Sonali",
      "photoUrl": "https://lh6.googleusercontent.com/-29UuJKP2sCU/AAAAAAAAAAI/AAAAAAAAFFE/Z_0wtF2tqiQ/s64/photo.jpg",
      "userId": "16260148040418897175"
     },
     "user_tz": -330
    },
    "id": "aPcyAFb6A7QT",
    "outputId": "7548a465-1a36-4d7d-ea7c-87c093e2de64"
   },
   "outputs": [],
   "source": [
    "# from google.colab import drive\n",
    "# drive.mount('/content/drive')"
   ]
  },
  {
   "cell_type": "markdown",
   "metadata": {
    "colab_type": "text",
    "id": "vR974ry4Aptv"
   },
   "source": [
    "# 3) Exploratory Data Analysis"
   ]
  },
  {
   "cell_type": "markdown",
   "metadata": {
    "colab_type": "text",
    "id": "UwWTxOQ5Aptv"
   },
   "source": [
    "### 3.1) Reading train and test dataset"
   ]
  },
  {
   "cell_type": "code",
   "execution_count": 1,
   "metadata": {
    "colab": {},
    "colab_type": "code",
    "id": "VyKRsLb7Aptw"
   },
   "outputs": [],
   "source": [
    "# Importing the libraries\n",
    "\n",
    "import pandas as pd\n",
    "import matplotlib.pyplot as plt"
   ]
  },
  {
   "cell_type": "code",
   "execution_count": 2,
   "metadata": {
    "colab": {
     "base_uri": "https://localhost:8080/",
     "height": 485
    },
    "colab_type": "code",
    "executionInfo": {
     "elapsed": 15252,
     "status": "ok",
     "timestamp": 1564771163399,
     "user": {
      "displayName": "Sonali",
      "photoUrl": "https://lh6.googleusercontent.com/-29UuJKP2sCU/AAAAAAAAAAI/AAAAAAAAFFE/Z_0wtF2tqiQ/s64/photo.jpg",
      "userId": "16260148040418897175"
     },
     "user_tz": -330
    },
    "id": "bhgoNz64Aptz",
    "outputId": "283afe2e-1fc3-466c-cd54-732c5da964ea"
   },
   "outputs": [
    {
     "name": "stdout",
     "output_type": "stream",
     "text": [
      "Train dataframe shape: (1804874, 45)\n"
     ]
    },
    {
     "data": {
      "text/html": [
       "<div>\n",
       "<style scoped>\n",
       "    .dataframe tbody tr th:only-of-type {\n",
       "        vertical-align: middle;\n",
       "    }\n",
       "\n",
       "    .dataframe tbody tr th {\n",
       "        vertical-align: top;\n",
       "    }\n",
       "\n",
       "    .dataframe thead th {\n",
       "        text-align: right;\n",
       "    }\n",
       "</style>\n",
       "<table border=\"1\" class=\"dataframe\">\n",
       "  <thead>\n",
       "    <tr style=\"text-align: right;\">\n",
       "      <th></th>\n",
       "      <th>id</th>\n",
       "      <th>target</th>\n",
       "      <th>comment_text</th>\n",
       "      <th>severe_toxicity</th>\n",
       "      <th>obscene</th>\n",
       "      <th>identity_attack</th>\n",
       "      <th>insult</th>\n",
       "      <th>threat</th>\n",
       "      <th>asian</th>\n",
       "      <th>atheist</th>\n",
       "      <th>...</th>\n",
       "      <th>article_id</th>\n",
       "      <th>rating</th>\n",
       "      <th>funny</th>\n",
       "      <th>wow</th>\n",
       "      <th>sad</th>\n",
       "      <th>likes</th>\n",
       "      <th>disagree</th>\n",
       "      <th>sexual_explicit</th>\n",
       "      <th>identity_annotator_count</th>\n",
       "      <th>toxicity_annotator_count</th>\n",
       "    </tr>\n",
       "  </thead>\n",
       "  <tbody>\n",
       "    <tr>\n",
       "      <th>0</th>\n",
       "      <td>59848</td>\n",
       "      <td>0.000000</td>\n",
       "      <td>This is so cool. It's like, 'would you want yo...</td>\n",
       "      <td>0.000000</td>\n",
       "      <td>0.0</td>\n",
       "      <td>0.000000</td>\n",
       "      <td>0.00000</td>\n",
       "      <td>0.0</td>\n",
       "      <td>NaN</td>\n",
       "      <td>NaN</td>\n",
       "      <td>...</td>\n",
       "      <td>2006</td>\n",
       "      <td>rejected</td>\n",
       "      <td>0</td>\n",
       "      <td>0</td>\n",
       "      <td>0</td>\n",
       "      <td>0</td>\n",
       "      <td>0</td>\n",
       "      <td>0.0</td>\n",
       "      <td>0</td>\n",
       "      <td>4</td>\n",
       "    </tr>\n",
       "    <tr>\n",
       "      <th>1</th>\n",
       "      <td>59849</td>\n",
       "      <td>0.000000</td>\n",
       "      <td>Thank you!! This would make my life a lot less...</td>\n",
       "      <td>0.000000</td>\n",
       "      <td>0.0</td>\n",
       "      <td>0.000000</td>\n",
       "      <td>0.00000</td>\n",
       "      <td>0.0</td>\n",
       "      <td>NaN</td>\n",
       "      <td>NaN</td>\n",
       "      <td>...</td>\n",
       "      <td>2006</td>\n",
       "      <td>rejected</td>\n",
       "      <td>0</td>\n",
       "      <td>0</td>\n",
       "      <td>0</td>\n",
       "      <td>0</td>\n",
       "      <td>0</td>\n",
       "      <td>0.0</td>\n",
       "      <td>0</td>\n",
       "      <td>4</td>\n",
       "    </tr>\n",
       "    <tr>\n",
       "      <th>2</th>\n",
       "      <td>59852</td>\n",
       "      <td>0.000000</td>\n",
       "      <td>This is such an urgent design problem; kudos t...</td>\n",
       "      <td>0.000000</td>\n",
       "      <td>0.0</td>\n",
       "      <td>0.000000</td>\n",
       "      <td>0.00000</td>\n",
       "      <td>0.0</td>\n",
       "      <td>NaN</td>\n",
       "      <td>NaN</td>\n",
       "      <td>...</td>\n",
       "      <td>2006</td>\n",
       "      <td>rejected</td>\n",
       "      <td>0</td>\n",
       "      <td>0</td>\n",
       "      <td>0</td>\n",
       "      <td>0</td>\n",
       "      <td>0</td>\n",
       "      <td>0.0</td>\n",
       "      <td>0</td>\n",
       "      <td>4</td>\n",
       "    </tr>\n",
       "    <tr>\n",
       "      <th>3</th>\n",
       "      <td>59855</td>\n",
       "      <td>0.000000</td>\n",
       "      <td>Is this something I'll be able to install on m...</td>\n",
       "      <td>0.000000</td>\n",
       "      <td>0.0</td>\n",
       "      <td>0.000000</td>\n",
       "      <td>0.00000</td>\n",
       "      <td>0.0</td>\n",
       "      <td>NaN</td>\n",
       "      <td>NaN</td>\n",
       "      <td>...</td>\n",
       "      <td>2006</td>\n",
       "      <td>rejected</td>\n",
       "      <td>0</td>\n",
       "      <td>0</td>\n",
       "      <td>0</td>\n",
       "      <td>0</td>\n",
       "      <td>0</td>\n",
       "      <td>0.0</td>\n",
       "      <td>0</td>\n",
       "      <td>4</td>\n",
       "    </tr>\n",
       "    <tr>\n",
       "      <th>4</th>\n",
       "      <td>59856</td>\n",
       "      <td>0.893617</td>\n",
       "      <td>haha you guys are a bunch of losers.</td>\n",
       "      <td>0.021277</td>\n",
       "      <td>0.0</td>\n",
       "      <td>0.021277</td>\n",
       "      <td>0.87234</td>\n",
       "      <td>0.0</td>\n",
       "      <td>0.0</td>\n",
       "      <td>0.0</td>\n",
       "      <td>...</td>\n",
       "      <td>2006</td>\n",
       "      <td>rejected</td>\n",
       "      <td>0</td>\n",
       "      <td>0</td>\n",
       "      <td>0</td>\n",
       "      <td>1</td>\n",
       "      <td>0</td>\n",
       "      <td>0.0</td>\n",
       "      <td>4</td>\n",
       "      <td>47</td>\n",
       "    </tr>\n",
       "  </tbody>\n",
       "</table>\n",
       "<p>5 rows × 45 columns</p>\n",
       "</div>"
      ],
      "text/plain": [
       "      id    target                                       comment_text  \\\n",
       "0  59848  0.000000  This is so cool. It's like, 'would you want yo...   \n",
       "1  59849  0.000000  Thank you!! This would make my life a lot less...   \n",
       "2  59852  0.000000  This is such an urgent design problem; kudos t...   \n",
       "3  59855  0.000000  Is this something I'll be able to install on m...   \n",
       "4  59856  0.893617               haha you guys are a bunch of losers.   \n",
       "\n",
       "   severe_toxicity  obscene  identity_attack   insult  threat  asian  atheist  \\\n",
       "0         0.000000      0.0         0.000000  0.00000     0.0    NaN      NaN   \n",
       "1         0.000000      0.0         0.000000  0.00000     0.0    NaN      NaN   \n",
       "2         0.000000      0.0         0.000000  0.00000     0.0    NaN      NaN   \n",
       "3         0.000000      0.0         0.000000  0.00000     0.0    NaN      NaN   \n",
       "4         0.021277      0.0         0.021277  0.87234     0.0    0.0      0.0   \n",
       "\n",
       "             ...             article_id    rating  funny  wow  sad  likes  \\\n",
       "0            ...                   2006  rejected      0    0    0      0   \n",
       "1            ...                   2006  rejected      0    0    0      0   \n",
       "2            ...                   2006  rejected      0    0    0      0   \n",
       "3            ...                   2006  rejected      0    0    0      0   \n",
       "4            ...                   2006  rejected      0    0    0      1   \n",
       "\n",
       "   disagree  sexual_explicit  identity_annotator_count  \\\n",
       "0         0              0.0                         0   \n",
       "1         0              0.0                         0   \n",
       "2         0              0.0                         0   \n",
       "3         0              0.0                         0   \n",
       "4         0              0.0                         4   \n",
       "\n",
       "   toxicity_annotator_count  \n",
       "0                         4  \n",
       "1                         4  \n",
       "2                         4  \n",
       "3                         4  \n",
       "4                        47  \n",
       "\n",
       "[5 rows x 45 columns]"
      ]
     },
     "execution_count": 2,
     "metadata": {},
     "output_type": "execute_result"
    }
   ],
   "source": [
    "# Loading the train data into pandas dataframe\n",
    "# df_train = pd.read_csv('drive/My Drive/Jigsaw-CaseStudy/train.csv')\n",
    "df_train = pd.read_csv('train.csv')\n",
    "\n",
    "# We have 1.8 millions of data record in train dataset with 45 features given\n",
    "print(\"Train dataframe shape:\", df_train.shape)\n",
    "df_train.head(5)"
   ]
  },
  {
   "cell_type": "code",
   "execution_count": 3,
   "metadata": {
    "colab": {
     "base_uri": "https://localhost:8080/",
     "height": 228
    },
    "colab_type": "code",
    "executionInfo": {
     "elapsed": 15219,
     "status": "ok",
     "timestamp": 1564771163400,
     "user": {
      "displayName": "Sonali",
      "photoUrl": "https://lh6.googleusercontent.com/-29UuJKP2sCU/AAAAAAAAAAI/AAAAAAAAFFE/Z_0wtF2tqiQ/s64/photo.jpg",
      "userId": "16260148040418897175"
     },
     "user_tz": -330
    },
    "id": "GqHp_BdCApt2",
    "outputId": "bc065555-7b07-46e8-a4e2-edc89f63c3f2"
   },
   "outputs": [
    {
     "data": {
      "text/plain": [
       "Index(['id', 'target', 'comment_text', 'severe_toxicity', 'obscene',\n",
       "       'identity_attack', 'insult', 'threat', 'asian', 'atheist', 'bisexual',\n",
       "       'black', 'buddhist', 'christian', 'female', 'heterosexual', 'hindu',\n",
       "       'homosexual_gay_or_lesbian', 'intellectual_or_learning_disability',\n",
       "       'jewish', 'latino', 'male', 'muslim', 'other_disability',\n",
       "       'other_gender', 'other_race_or_ethnicity', 'other_religion',\n",
       "       'other_sexual_orientation', 'physical_disability',\n",
       "       'psychiatric_or_mental_illness', 'transgender', 'white', 'created_date',\n",
       "       'publication_id', 'parent_id', 'article_id', 'rating', 'funny', 'wow',\n",
       "       'sad', 'likes', 'disagree', 'sexual_explicit',\n",
       "       'identity_annotator_count', 'toxicity_annotator_count'],\n",
       "      dtype='object')"
      ]
     },
     "execution_count": 3,
     "metadata": {},
     "output_type": "execute_result"
    }
   ],
   "source": [
    "df_train.columns"
   ]
  },
  {
   "cell_type": "code",
   "execution_count": 4,
   "metadata": {
    "colab": {
     "base_uri": "https://localhost:8080/",
     "height": 213
    },
    "colab_type": "code",
    "executionInfo": {
     "elapsed": 15200,
     "status": "ok",
     "timestamp": 1564771163401,
     "user": {
      "displayName": "Sonali",
      "photoUrl": "https://lh6.googleusercontent.com/-29UuJKP2sCU/AAAAAAAAAAI/AAAAAAAAFFE/Z_0wtF2tqiQ/s64/photo.jpg",
      "userId": "16260148040418897175"
     },
     "user_tz": -330
    },
    "id": "vx3sGjBTApt5",
    "outputId": "2b900b94-45cd-479e-a612-6b9f9bb31d83"
   },
   "outputs": [
    {
     "name": "stdout",
     "output_type": "stream",
     "text": [
      "Test dataframe shape: (97320, 2)\n"
     ]
    },
    {
     "data": {
      "text/html": [
       "<div>\n",
       "<style scoped>\n",
       "    .dataframe tbody tr th:only-of-type {\n",
       "        vertical-align: middle;\n",
       "    }\n",
       "\n",
       "    .dataframe tbody tr th {\n",
       "        vertical-align: top;\n",
       "    }\n",
       "\n",
       "    .dataframe thead th {\n",
       "        text-align: right;\n",
       "    }\n",
       "</style>\n",
       "<table border=\"1\" class=\"dataframe\">\n",
       "  <thead>\n",
       "    <tr style=\"text-align: right;\">\n",
       "      <th></th>\n",
       "      <th>id</th>\n",
       "      <th>comment_text</th>\n",
       "    </tr>\n",
       "  </thead>\n",
       "  <tbody>\n",
       "    <tr>\n",
       "      <th>0</th>\n",
       "      <td>7097320</td>\n",
       "      <td>[ Integrity means that you pay your debts.]\\n\\...</td>\n",
       "    </tr>\n",
       "    <tr>\n",
       "      <th>1</th>\n",
       "      <td>7097321</td>\n",
       "      <td>This is malfeasance by the Administrator and t...</td>\n",
       "    </tr>\n",
       "    <tr>\n",
       "      <th>2</th>\n",
       "      <td>7097322</td>\n",
       "      <td>@Rmiller101 - Spoken like a true elitist. But ...</td>\n",
       "    </tr>\n",
       "    <tr>\n",
       "      <th>3</th>\n",
       "      <td>7097323</td>\n",
       "      <td>Paul: Thank you for your kind words.  I do, in...</td>\n",
       "    </tr>\n",
       "    <tr>\n",
       "      <th>4</th>\n",
       "      <td>7097324</td>\n",
       "      <td>Sorry you missed high school. Eisenhower sent ...</td>\n",
       "    </tr>\n",
       "  </tbody>\n",
       "</table>\n",
       "</div>"
      ],
      "text/plain": [
       "        id                                       comment_text\n",
       "0  7097320  [ Integrity means that you pay your debts.]\\n\\...\n",
       "1  7097321  This is malfeasance by the Administrator and t...\n",
       "2  7097322  @Rmiller101 - Spoken like a true elitist. But ...\n",
       "3  7097323  Paul: Thank you for your kind words.  I do, in...\n",
       "4  7097324  Sorry you missed high school. Eisenhower sent ..."
      ]
     },
     "execution_count": 4,
     "metadata": {},
     "output_type": "execute_result"
    }
   ],
   "source": [
    "# Loading the test data into pandas dataframe\n",
    "# df_test = pd.read_csv('drive/My Drive/Jigsaw-CaseStudy/test.csv')\n",
    "df_test = pd.read_csv('test.csv')\n",
    "\n",
    "# We have 10k of data record in test dataset \n",
    "print(\"Test dataframe shape:\", df_test.shape)\n",
    "df_test.head(5)"
   ]
  },
  {
   "cell_type": "markdown",
   "metadata": {
    "colab_type": "text",
    "id": "v5DHbSlCApt7"
   },
   "source": [
    "### 3.2) Processing required columns from train dataset"
   ]
  },
  {
   "cell_type": "code",
   "execution_count": 5,
   "metadata": {
    "colab": {
     "base_uri": "https://localhost:8080/",
     "height": 195
    },
    "colab_type": "code",
    "executionInfo": {
     "elapsed": 15500,
     "status": "ok",
     "timestamp": 1564771163720,
     "user": {
      "displayName": "Sonali",
      "photoUrl": "https://lh6.googleusercontent.com/-29UuJKP2sCU/AAAAAAAAAAI/AAAAAAAAFFE/Z_0wtF2tqiQ/s64/photo.jpg",
      "userId": "16260148040418897175"
     },
     "user_tz": -330
    },
    "id": "uhxg0kyvApt8",
    "outputId": "981cd4a1-3618-43e8-f3f0-448c1d1cf25c"
   },
   "outputs": [
    {
     "data": {
      "text/html": [
       "<div>\n",
       "<style scoped>\n",
       "    .dataframe tbody tr th:only-of-type {\n",
       "        vertical-align: middle;\n",
       "    }\n",
       "\n",
       "    .dataframe tbody tr th {\n",
       "        vertical-align: top;\n",
       "    }\n",
       "\n",
       "    .dataframe thead th {\n",
       "        text-align: right;\n",
       "    }\n",
       "</style>\n",
       "<table border=\"1\" class=\"dataframe\">\n",
       "  <thead>\n",
       "    <tr style=\"text-align: right;\">\n",
       "      <th></th>\n",
       "      <th>id</th>\n",
       "      <th>target</th>\n",
       "      <th>comment_text</th>\n",
       "    </tr>\n",
       "  </thead>\n",
       "  <tbody>\n",
       "    <tr>\n",
       "      <th>0</th>\n",
       "      <td>59848</td>\n",
       "      <td>0.000000</td>\n",
       "      <td>This is so cool. It's like, 'would you want yo...</td>\n",
       "    </tr>\n",
       "    <tr>\n",
       "      <th>1</th>\n",
       "      <td>59849</td>\n",
       "      <td>0.000000</td>\n",
       "      <td>Thank you!! This would make my life a lot less...</td>\n",
       "    </tr>\n",
       "    <tr>\n",
       "      <th>2</th>\n",
       "      <td>59852</td>\n",
       "      <td>0.000000</td>\n",
       "      <td>This is such an urgent design problem; kudos t...</td>\n",
       "    </tr>\n",
       "    <tr>\n",
       "      <th>3</th>\n",
       "      <td>59855</td>\n",
       "      <td>0.000000</td>\n",
       "      <td>Is this something I'll be able to install on m...</td>\n",
       "    </tr>\n",
       "    <tr>\n",
       "      <th>4</th>\n",
       "      <td>59856</td>\n",
       "      <td>0.893617</td>\n",
       "      <td>haha you guys are a bunch of losers.</td>\n",
       "    </tr>\n",
       "  </tbody>\n",
       "</table>\n",
       "</div>"
      ],
      "text/plain": [
       "      id    target                                       comment_text\n",
       "0  59848  0.000000  This is so cool. It's like, 'would you want yo...\n",
       "1  59849  0.000000  Thank you!! This would make my life a lot less...\n",
       "2  59852  0.000000  This is such an urgent design problem; kudos t...\n",
       "3  59855  0.000000  Is this something I'll be able to install on m...\n",
       "4  59856  0.893617               haha you guys are a bunch of losers."
      ]
     },
     "execution_count": 5,
     "metadata": {},
     "output_type": "execute_result"
    }
   ],
   "source": [
    "# For our case study we will focus on the comment_text data and rest of the columns we will ignore\n",
    "\n",
    "df_train = df_train[['id','target','comment_text']]\n",
    "df_train.head(5)"
   ]
  },
  {
   "cell_type": "markdown",
   "metadata": {
    "colab_type": "text",
    "id": "RwWSmNiVApt-"
   },
   "source": [
    "### 3.3) Preparing the Y label for train dataset"
   ]
  },
  {
   "cell_type": "code",
   "execution_count": 6,
   "metadata": {
    "colab": {},
    "colab_type": "code",
    "id": "hRarrYVoApt_"
   },
   "outputs": [],
   "source": [
    "# Function to assign the binary class as y label\n",
    "\n",
    "def assign_class(target):\n",
    "    if target >= .5:\n",
    "        return 1\n",
    "    else: \n",
    "        return 0"
   ]
  },
  {
   "cell_type": "code",
   "execution_count": 7,
   "metadata": {
    "colab": {
     "base_uri": "https://localhost:8080/",
     "height": 195
    },
    "colab_type": "code",
    "executionInfo": {
     "elapsed": 38059,
     "status": "ok",
     "timestamp": 1564771186325,
     "user": {
      "displayName": "Sonali",
      "photoUrl": "https://lh6.googleusercontent.com/-29UuJKP2sCU/AAAAAAAAAAI/AAAAAAAAFFE/Z_0wtF2tqiQ/s64/photo.jpg",
      "userId": "16260148040418897175"
     },
     "user_tz": -330
    },
    "id": "9Khyq5KiApuC",
    "outputId": "60cdb8da-1634-491f-ebb7-50d2751be816"
   },
   "outputs": [
    {
     "data": {
      "text/html": [
       "<div>\n",
       "<style scoped>\n",
       "    .dataframe tbody tr th:only-of-type {\n",
       "        vertical-align: middle;\n",
       "    }\n",
       "\n",
       "    .dataframe tbody tr th {\n",
       "        vertical-align: top;\n",
       "    }\n",
       "\n",
       "    .dataframe thead th {\n",
       "        text-align: right;\n",
       "    }\n",
       "</style>\n",
       "<table border=\"1\" class=\"dataframe\">\n",
       "  <thead>\n",
       "    <tr style=\"text-align: right;\">\n",
       "      <th></th>\n",
       "      <th>id</th>\n",
       "      <th>target</th>\n",
       "      <th>comment_text</th>\n",
       "      <th>class</th>\n",
       "    </tr>\n",
       "  </thead>\n",
       "  <tbody>\n",
       "    <tr>\n",
       "      <th>0</th>\n",
       "      <td>59848</td>\n",
       "      <td>0.000000</td>\n",
       "      <td>This is so cool. It's like, 'would you want yo...</td>\n",
       "      <td>0</td>\n",
       "    </tr>\n",
       "    <tr>\n",
       "      <th>1</th>\n",
       "      <td>59849</td>\n",
       "      <td>0.000000</td>\n",
       "      <td>Thank you!! This would make my life a lot less...</td>\n",
       "      <td>0</td>\n",
       "    </tr>\n",
       "    <tr>\n",
       "      <th>2</th>\n",
       "      <td>59852</td>\n",
       "      <td>0.000000</td>\n",
       "      <td>This is such an urgent design problem; kudos t...</td>\n",
       "      <td>0</td>\n",
       "    </tr>\n",
       "    <tr>\n",
       "      <th>3</th>\n",
       "      <td>59855</td>\n",
       "      <td>0.000000</td>\n",
       "      <td>Is this something I'll be able to install on m...</td>\n",
       "      <td>0</td>\n",
       "    </tr>\n",
       "    <tr>\n",
       "      <th>4</th>\n",
       "      <td>59856</td>\n",
       "      <td>0.893617</td>\n",
       "      <td>haha you guys are a bunch of losers.</td>\n",
       "      <td>1</td>\n",
       "    </tr>\n",
       "  </tbody>\n",
       "</table>\n",
       "</div>"
      ],
      "text/plain": [
       "      id    target                                       comment_text  class\n",
       "0  59848  0.000000  This is so cool. It's like, 'would you want yo...      0\n",
       "1  59849  0.000000  Thank you!! This would make my life a lot less...      0\n",
       "2  59852  0.000000  This is such an urgent design problem; kudos t...      0\n",
       "3  59855  0.000000  Is this something I'll be able to install on m...      0\n",
       "4  59856  0.893617               haha you guys are a bunch of losers.      1"
      ]
     },
     "execution_count": 7,
     "metadata": {},
     "output_type": "execute_result"
    }
   ],
   "source": [
    "# we will create binary class column which will be our Y label\n",
    "\n",
    "df_train['class'] = df_train.apply(lambda x: assign_class(x['target']), axis= 1)\n",
    "df_train.head(5)"
   ]
  },
  {
   "cell_type": "code",
   "execution_count": 8,
   "metadata": {
    "colab": {
     "base_uri": "https://localhost:8080/",
     "height": 70
    },
    "colab_type": "code",
    "executionInfo": {
     "elapsed": 38033,
     "status": "ok",
     "timestamp": 1564771186327,
     "user": {
      "displayName": "Sonali",
      "photoUrl": "https://lh6.googleusercontent.com/-29UuJKP2sCU/AAAAAAAAAAI/AAAAAAAAFFE/Z_0wtF2tqiQ/s64/photo.jpg",
      "userId": "16260148040418897175"
     },
     "user_tz": -330
    },
    "id": "Jl3yHTjEG5W4",
    "outputId": "bf0ea61c-4b64-485b-d4b8-00dc4840acda"
   },
   "outputs": [
    {
     "name": "stdout",
     "output_type": "stream",
     "text": [
      "\n",
      "Total number of points in both classes:\n"
     ]
    },
    {
     "data": {
      "text/plain": [
       "0    1660540\n",
       "1     144334\n",
       "Name: class, dtype: int64"
      ]
     },
     "execution_count": 8,
     "metadata": {},
     "output_type": "execute_result"
    }
   ],
   "source": [
    "# Total number of points with class 1 = 1,44,334 lakh\n",
    "\n",
    "print(\"\\nTotal number of points in both classes:\")\n",
    "df_train['class'].value_counts()"
   ]
  },
  {
   "cell_type": "markdown",
   "metadata": {
    "colab_type": "text",
    "id": "1I-y-PrqApuE"
   },
   "source": [
    "### 3.4) Univariate analysis on target column"
   ]
  },
  {
   "cell_type": "code",
   "execution_count": 9,
   "metadata": {
    "colab": {
     "base_uri": "https://localhost:8080/",
     "height": 313
    },
    "colab_type": "code",
    "executionInfo": {
     "elapsed": 1125,
     "status": "ok",
     "timestamp": 1564773300348,
     "user": {
      "displayName": "Sonali",
      "photoUrl": "https://lh6.googleusercontent.com/-29UuJKP2sCU/AAAAAAAAAAI/AAAAAAAAFFE/Z_0wtF2tqiQ/s64/photo.jpg",
      "userId": "16260148040418897175"
     },
     "user_tz": -330
    },
    "id": "BBL3cALmApuF",
    "outputId": "d47c0f87-45ad-4ca9-a516-ef1b47b63dfe"
   },
   "outputs": [
    {
     "data": {
      "text/plain": [
       "<Figure size 720x720 with 0 Axes>"
      ]
     },
     "metadata": {},
     "output_type": "display_data"
    },
    {
     "data": {
      "image/png": "[encoded data removed]",
      "text/plain": [
       "<Figure size 432x288 with 1 Axes>"
      ]
     },
     "metadata": {},
     "output_type": "display_data"
    }
   ],
   "source": [
    "# EDA on target variable\n",
    "\n",
    "fig = plt.figure(figsize=(10,10))\n",
    "df_train.hist(column='target')\n",
    "plt.xlabel(\"Target/Toxicity level\")\n",
    "plt.ylabel(\"No of comments\")\n",
    "plt.show()"
   ]
  },
  {
   "cell_type": "markdown",
   "metadata": {
    "colab_type": "text",
    "id": "66w48JUiApuI"
   },
   "source": [
    "#####  Conclusion : The train dataset given is highly imbalanced. there is less comments with toxicity > .5"
   ]
  },
  {
   "cell_type": "code",
   "execution_count": 10,
   "metadata": {
    "colab": {
     "base_uri": "https://localhost:8080/",
     "height": 313
    },
    "colab_type": "code",
    "executionInfo": {
     "elapsed": 1218,
     "status": "ok",
     "timestamp": 1564773305255,
     "user": {
      "displayName": "Sonali",
      "photoUrl": "https://lh6.googleusercontent.com/-29UuJKP2sCU/AAAAAAAAAAI/AAAAAAAAFFE/Z_0wtF2tqiQ/s64/photo.jpg",
      "userId": "16260148040418897175"
     },
     "user_tz": -330
    },
    "id": "Qv5TJnrwApuI",
    "outputId": "6ca79e37-1c70-468d-dc6b-f3c4bc0bad7c"
   },
   "outputs": [
    {
     "data": {
      "text/plain": [
       "<Figure size 720x720 with 0 Axes>"
      ]
     },
     "metadata": {},
     "output_type": "display_data"
    },
    {
     "data": {
      "image/png": "[encoded data removed]",
      "text/plain": [
       "<Figure size 432x288 with 1 Axes>"
      ]
     },
     "metadata": {},
     "output_type": "display_data"
    }
   ],
   "source": [
    "# EDA on class variable\n",
    "\n",
    "fig = plt.figure(figsize=(10,10))\n",
    "df_train.hist(column='class')\n",
    "plt.xlabel(\"Class\")\n",
    "plt.ylabel(\"No of comments\")\n",
    "plt.show()"
   ]
  },
  {
   "cell_type": "markdown",
   "metadata": {},
   "source": [
    "### 3.5) Sampling the Train and Test data for our analysis"
   ]
  },
  {
   "cell_type": "code",
   "execution_count": 11,
   "metadata": {
    "colab": {
     "base_uri": "https://localhost:8080/",
     "height": 105
    },
    "colab_type": "code",
    "executionInfo": {
     "elapsed": 1426,
     "status": "ok",
     "timestamp": 1564773284911,
     "user": {
      "displayName": "Sonali",
      "photoUrl": "https://lh6.googleusercontent.com/-29UuJKP2sCU/AAAAAAAAAAI/AAAAAAAAFFE/Z_0wtF2tqiQ/s64/photo.jpg",
      "userId": "16260148040418897175"
     },
     "user_tz": -330
    },
    "id": "uxboMswAHRZ3",
    "outputId": "adb39706-aa84-48d9-c33a-326263c29f2f"
   },
   "outputs": [
    {
     "name": "stdout",
     "output_type": "stream",
     "text": [
      "\n",
      " Number of datapoints in each class :\n",
      "\n",
      "1    70000\n",
      "0    70000\n",
      "Name: class, dtype: int64\n",
      "\n",
      " The shape of train data is :  (140000, 4)\n"
     ]
    }
   ],
   "source": [
    "import numpy as np\n",
    "\n",
    "# Sampling the data such that both classes have equal number of datapoints in train dataset.\n",
    "\n",
    "# https://stackoverflow.com/questions/56191448/sample-pandas-dataframe-based-on-values-in-column\n",
    "\n",
    "df_train_sampled = df_train.groupby('class').apply(lambda x: x.sample(n=70000)).reset_index(drop = True)\n",
    "\n",
    "print('\\n Number of datapoints in each class :\\n')\n",
    "print(df_train_sampled['class'].value_counts())\n",
    "\n",
    "print(\"\\n The shape of train data is : \",df_train_sampled.shape)"
   ]
  },
  {
   "cell_type": "code",
   "execution_count": 12,
   "metadata": {
    "colab": {
     "base_uri": "https://localhost:8080/",
     "height": 195
    },
    "colab_type": "code",
    "executionInfo": {
     "elapsed": 1250,
     "status": "ok",
     "timestamp": 1564773289315,
     "user": {
      "displayName": "Sonali",
      "photoUrl": "https://lh6.googleusercontent.com/-29UuJKP2sCU/AAAAAAAAAAI/AAAAAAAAFFE/Z_0wtF2tqiQ/s64/photo.jpg",
      "userId": "16260148040418897175"
     },
     "user_tz": -330
    },
    "id": "qkkvsOB9bx9t",
    "outputId": "b768e4de-d164-49f2-ca6c-0cc2a587ab68"
   },
   "outputs": [
    {
     "data": {
      "text/html": [
       "<div>\n",
       "<style scoped>\n",
       "    .dataframe tbody tr th:only-of-type {\n",
       "        vertical-align: middle;\n",
       "    }\n",
       "\n",
       "    .dataframe tbody tr th {\n",
       "        vertical-align: top;\n",
       "    }\n",
       "\n",
       "    .dataframe thead th {\n",
       "        text-align: right;\n",
       "    }\n",
       "</style>\n",
       "<table border=\"1\" class=\"dataframe\">\n",
       "  <thead>\n",
       "    <tr style=\"text-align: right;\">\n",
       "      <th></th>\n",
       "      <th>id</th>\n",
       "      <th>target</th>\n",
       "      <th>comment_text</th>\n",
       "      <th>class</th>\n",
       "    </tr>\n",
       "  </thead>\n",
       "  <tbody>\n",
       "    <tr>\n",
       "      <th>0</th>\n",
       "      <td>5725613</td>\n",
       "      <td>0.200000</td>\n",
       "      <td>Lock em up... throw away the key.</td>\n",
       "      <td>0</td>\n",
       "    </tr>\n",
       "    <tr>\n",
       "      <th>1</th>\n",
       "      <td>5173568</td>\n",
       "      <td>0.000000</td>\n",
       "      <td>Take a deep but wide look at France, UK. I see...</td>\n",
       "      <td>0</td>\n",
       "    </tr>\n",
       "    <tr>\n",
       "      <th>2</th>\n",
       "      <td>5080958</td>\n",
       "      <td>0.000000</td>\n",
       "      <td>He's just ego driven and senses a responsibili...</td>\n",
       "      <td>0</td>\n",
       "    </tr>\n",
       "    <tr>\n",
       "      <th>3</th>\n",
       "      <td>5122956</td>\n",
       "      <td>0.166667</td>\n",
       "      <td>\"Stephen Harper has also used omnibus bills to...</td>\n",
       "      <td>0</td>\n",
       "    </tr>\n",
       "    <tr>\n",
       "      <th>4</th>\n",
       "      <td>636984</td>\n",
       "      <td>0.400000</td>\n",
       "      <td>Silent majority my a$$. The overwhelming major...</td>\n",
       "      <td>0</td>\n",
       "    </tr>\n",
       "  </tbody>\n",
       "</table>\n",
       "</div>"
      ],
      "text/plain": [
       "        id    target                                       comment_text  class\n",
       "0  5725613  0.200000                  Lock em up... throw away the key.      0\n",
       "1  5173568  0.000000  Take a deep but wide look at France, UK. I see...      0\n",
       "2  5080958  0.000000  He's just ego driven and senses a responsibili...      0\n",
       "3  5122956  0.166667  \"Stephen Harper has also used omnibus bills to...      0\n",
       "4   636984  0.400000  Silent majority my a$$. The overwhelming major...      0"
      ]
     },
     "execution_count": 12,
     "metadata": {},
     "output_type": "execute_result"
    }
   ],
   "source": [
    "df_train_sampled.head(5)"
   ]
  },
  {
   "cell_type": "markdown",
   "metadata": {
    "colab_type": "text",
    "id": "RU6Ex1iAApuL"
   },
   "source": [
    "## 4) Pre-processing train and test Commnet text data"
   ]
  },
  {
   "cell_type": "code",
   "execution_count": 16,
   "metadata": {
    "colab": {
     "base_uri": "https://localhost:8080/",
     "height": 52
    },
    "colab_type": "code",
    "executionInfo": {
     "elapsed": 39217,
     "status": "ok",
     "timestamp": 1564771187650,
     "user": {
      "displayName": "Sonali",
      "photoUrl": "https://lh6.googleusercontent.com/-29UuJKP2sCU/AAAAAAAAAAI/AAAAAAAAFFE/Z_0wtF2tqiQ/s64/photo.jpg",
      "userId": "16260148040418897175"
     },
     "user_tz": -330
    },
    "id": "FQ2eqGQyApuM",
    "outputId": "3d07930f-9496-44a3-89c4-a023dbed7c4a"
   },
   "outputs": [
    {
     "name": "stdout",
     "output_type": "stream",
     "text": [
      "[nltk_data] Downloading package stopwords to\n",
      "[nltk_data]     C:\\Users\\Admin\\AppData\\Roaming\\nltk_data...\n",
      "[nltk_data]   Package stopwords is already up-to-date!\n"
     ]
    }
   ],
   "source": [
    "import nltk\n",
    "nltk.download('stopwords')\n",
    "from nltk.corpus import stopwords"
   ]
  },
  {
   "cell_type": "code",
   "execution_count": 21,
   "metadata": {},
   "outputs": [],
   "source": [
    "import string\n",
    "import re\n",
    "from nltk.stem.snowball import SnowballStemmer\n",
    "\n",
    "def pre_process_text(text):\n",
    "    \n",
    "    ## Remove puncuation\n",
    "    text = text.translate(string.punctuation)\n",
    "    \n",
    "    ## Convert words to lower case and split them\n",
    "    text = text.lower().split()\n",
    "    \n",
    "    ## Remove stop words\n",
    "    stops = set(stopwords.words(\"english\"))\n",
    "    text = [w for w in text if not w in stops and len(w) >= 3]\n",
    "    \n",
    "    text = \" \".join(text)\n",
    "    \n",
    "    ## Clean the text\n",
    "    text = re.sub(\"[^a-zA-Z0-9\\n]\", \" \", text) # removing special characters    \n",
    "    text = re.sub(\"what's\", \"what is \", text) # decontracting the phrase    \n",
    "    text = re.sub(\"\\'ve\", \" have \", text) \n",
    "    text = re.sub(\"n't\", \" not \", text)\n",
    "    text = re.sub(\"i'm\", \"i am \", text)\n",
    "    text = re.sub(\"\\'re\", \" are \", text)\n",
    "    text = re.sub(\"\\'d\", \" would \", text)\n",
    "    text = re.sub(\"\\'ll\", \" will \", text)\n",
    "    text = re.sub(\"[.!#?]\",\" \", text)        \n",
    "    text = re.sub(\"\\s+\",\" \", text) # replace multiple spaces with single space\n",
    "    \n",
    "    ## Stemming\n",
    "    text = text.split()\n",
    "    stemmer = SnowballStemmer('english')\n",
    "    stemmed_words = [stemmer.stem(word) for word in text]\n",
    "    text = \" \".join(stemmed_words)\n",
    "    \n",
    "    return text"
   ]
  },
  {
   "cell_type": "code",
   "execution_count": 22,
   "metadata": {},
   "outputs": [],
   "source": [
    "import warnings\n",
    "warnings.filterwarnings(\"ignore\")\n",
    "\n",
    "# Apply the preprocess text function to the train and test dataset\n",
    "\n",
    "# Train dataset\n",
    "\n",
    "df_train_sampled.comment_text.fillna(\" \",inplace=True)\n",
    "\n",
    "df_train_sampled['comment_text'] = df_train_sampled.comment_text.apply(lambda x: pre_process_text(x))\n",
    "    \n",
    "# Test dataset\n",
    "\n",
    "df_test.comment_text.fillna(\" \",inplace=True)\n",
    "\n",
    "df_test['comment_text'] = df_test.comment_text.apply(lambda x: pre_process_text(x))"
   ]
  },
  {
   "cell_type": "code",
   "execution_count": 26,
   "metadata": {},
   "outputs": [
    {
     "data": {
      "text/html": [
       "<div>\n",
       "<style scoped>\n",
       "    .dataframe tbody tr th:only-of-type {\n",
       "        vertical-align: middle;\n",
       "    }\n",
       "\n",
       "    .dataframe tbody tr th {\n",
       "        vertical-align: top;\n",
       "    }\n",
       "\n",
       "    .dataframe thead th {\n",
       "        text-align: right;\n",
       "    }\n",
       "</style>\n",
       "<table border=\"1\" class=\"dataframe\">\n",
       "  <thead>\n",
       "    <tr style=\"text-align: right;\">\n",
       "      <th></th>\n",
       "      <th>id</th>\n",
       "      <th>target</th>\n",
       "      <th>comment_text</th>\n",
       "      <th>class</th>\n",
       "    </tr>\n",
       "  </thead>\n",
       "  <tbody>\n",
       "    <tr>\n",
       "      <th>0</th>\n",
       "      <td>5725613</td>\n",
       "      <td>0.200000</td>\n",
       "      <td>lock up throw away key</td>\n",
       "      <td>0</td>\n",
       "    </tr>\n",
       "    <tr>\n",
       "      <th>1</th>\n",
       "      <td>5173568</td>\n",
       "      <td>0.000000</td>\n",
       "      <td>take deep wide look franc uk see futur u s bot...</td>\n",
       "      <td>0</td>\n",
       "    </tr>\n",
       "    <tr>\n",
       "      <th>2</th>\n",
       "      <td>5080958</td>\n",
       "      <td>0.000000</td>\n",
       "      <td>he s ego driven sens respons carri campaign pr...</td>\n",
       "      <td>0</td>\n",
       "    </tr>\n",
       "    <tr>\n",
       "      <th>3</th>\n",
       "      <td>5122956</td>\n",
       "      <td>0.166667</td>\n",
       "      <td>stephen harper also use omnibus bill prevent p...</td>\n",
       "      <td>0</td>\n",
       "    </tr>\n",
       "    <tr>\n",
       "      <th>4</th>\n",
       "      <td>636984</td>\n",
       "      <td>0.400000</td>\n",
       "      <td>silent major a overwhelm major canadian agre y...</td>\n",
       "      <td>0</td>\n",
       "    </tr>\n",
       "    <tr>\n",
       "      <th>5</th>\n",
       "      <td>5526924</td>\n",
       "      <td>0.200000</td>\n",
       "      <td>superb book destin war graham allison speak el...</td>\n",
       "      <td>0</td>\n",
       "    </tr>\n",
       "    <tr>\n",
       "      <th>6</th>\n",
       "      <td>441016</td>\n",
       "      <td>0.000000</td>\n",
       "      <td>worth fear decis base archaic contradictori wr...</td>\n",
       "      <td>0</td>\n",
       "    </tr>\n",
       "    <tr>\n",
       "      <th>7</th>\n",
       "      <td>5601271</td>\n",
       "      <td>0.000000</td>\n",
       "      <td>mors inspir washington investig publish two pe...</td>\n",
       "      <td>0</td>\n",
       "    </tr>\n",
       "    <tr>\n",
       "      <th>8</th>\n",
       "      <td>742555</td>\n",
       "      <td>0.000000</td>\n",
       "      <td>alreadi arctic port capabl export lng big prof...</td>\n",
       "      <td>0</td>\n",
       "    </tr>\n",
       "    <tr>\n",
       "      <th>9</th>\n",
       "      <td>5266688</td>\n",
       "      <td>0.000000</td>\n",
       "      <td>perhap aga khan ask stay away sinc trudeau s c...</td>\n",
       "      <td>0</td>\n",
       "    </tr>\n",
       "  </tbody>\n",
       "</table>\n",
       "</div>"
      ],
      "text/plain": [
       "        id    target                                       comment_text  class\n",
       "0  5725613  0.200000                             lock up throw away key      0\n",
       "1  5173568  0.000000  take deep wide look franc uk see futur u s bot...      0\n",
       "2  5080958  0.000000  he s ego driven sens respons carri campaign pr...      0\n",
       "3  5122956  0.166667  stephen harper also use omnibus bill prevent p...      0\n",
       "4   636984  0.400000  silent major a overwhelm major canadian agre y...      0\n",
       "5  5526924  0.200000  superb book destin war graham allison speak el...      0\n",
       "6   441016  0.000000  worth fear decis base archaic contradictori wr...      0\n",
       "7  5601271  0.000000  mors inspir washington investig publish two pe...      0\n",
       "8   742555  0.000000  alreadi arctic port capabl export lng big prof...      0\n",
       "9  5266688  0.000000  perhap aga khan ask stay away sinc trudeau s c...      0"
      ]
     },
     "execution_count": 26,
     "metadata": {},
     "output_type": "execute_result"
    }
   ],
   "source": [
    "df_train_sampled.head(10)"
   ]
  },
  {
   "cell_type": "code",
   "execution_count": 27,
   "metadata": {},
   "outputs": [
    {
     "data": {
      "text/html": [
       "<div>\n",
       "<style scoped>\n",
       "    .dataframe tbody tr th:only-of-type {\n",
       "        vertical-align: middle;\n",
       "    }\n",
       "\n",
       "    .dataframe tbody tr th {\n",
       "        vertical-align: top;\n",
       "    }\n",
       "\n",
       "    .dataframe thead th {\n",
       "        text-align: right;\n",
       "    }\n",
       "</style>\n",
       "<table border=\"1\" class=\"dataframe\">\n",
       "  <thead>\n",
       "    <tr style=\"text-align: right;\">\n",
       "      <th></th>\n",
       "      <th>id</th>\n",
       "      <th>comment_text</th>\n",
       "    </tr>\n",
       "  </thead>\n",
       "  <tbody>\n",
       "    <tr>\n",
       "      <th>0</th>\n",
       "      <td>7097320</td>\n",
       "      <td>integr mean pay debt doe appli presid trump too</td>\n",
       "    </tr>\n",
       "    <tr>\n",
       "      <th>1</th>\n",
       "      <td>7097321</td>\n",
       "      <td>malfeas administr board wast money</td>\n",
       "    </tr>\n",
       "    <tr>\n",
       "      <th>2</th>\n",
       "      <td>7097322</td>\n",
       "      <td>rmiller101 spoken like true elitist look bud r...</td>\n",
       "    </tr>\n",
       "    <tr>\n",
       "      <th>3</th>\n",
       "      <td>7097323</td>\n",
       "      <td>paul thank kind word do inde strong belief hid...</td>\n",
       "    </tr>\n",
       "    <tr>\n",
       "      <th>4</th>\n",
       "      <td>7097324</td>\n",
       "      <td>sorri miss high school eisenhow sent troop vie...</td>\n",
       "    </tr>\n",
       "    <tr>\n",
       "      <th>5</th>\n",
       "      <td>7097325</td>\n",
       "      <td>let s see understand this berkowitz announc 14...</td>\n",
       "    </tr>\n",
       "    <tr>\n",
       "      <th>6</th>\n",
       "      <td>7097326</td>\n",
       "      <td>oil read presid take differ tactic deal corrup...</td>\n",
       "    </tr>\n",
       "    <tr>\n",
       "      <th>7</th>\n",
       "      <td>7097327</td>\n",
       "      <td>work togeth dream on liber alreadi busi creat ...</td>\n",
       "    </tr>\n",
       "    <tr>\n",
       "      <th>8</th>\n",
       "      <td>7097328</td>\n",
       "      <td>would jerri prevo think stori exact think his</td>\n",
       "    </tr>\n",
       "    <tr>\n",
       "      <th>9</th>\n",
       "      <td>7097329</td>\n",
       "      <td>wil indigen account take respons instead blame...</td>\n",
       "    </tr>\n",
       "  </tbody>\n",
       "</table>\n",
       "</div>"
      ],
      "text/plain": [
       "        id                                       comment_text\n",
       "0  7097320    integr mean pay debt doe appli presid trump too\n",
       "1  7097321                 malfeas administr board wast money\n",
       "2  7097322  rmiller101 spoken like true elitist look bud r...\n",
       "3  7097323  paul thank kind word do inde strong belief hid...\n",
       "4  7097324  sorri miss high school eisenhow sent troop vie...\n",
       "5  7097325  let s see understand this berkowitz announc 14...\n",
       "6  7097326  oil read presid take differ tactic deal corrup...\n",
       "7  7097327  work togeth dream on liber alreadi busi creat ...\n",
       "8  7097328      would jerri prevo think stori exact think his\n",
       "9  7097329  wil indigen account take respons instead blame..."
      ]
     },
     "execution_count": 27,
     "metadata": {},
     "output_type": "execute_result"
    }
   ],
   "source": [
    "df_test.head(10)"
   ]
  },
  {
   "cell_type": "code",
   "execution_count": 28,
   "metadata": {
    "colab": {},
    "colab_type": "code",
    "id": "8VOngLMLApuU"
   },
   "outputs": [],
   "source": [
    "# Save the preprocessed train and test comment text into csv \n",
    "\n",
    "df_train_sampled.to_csv('G:\\\\Ipynotebook\\\\jigsaw-unintended-bias-in-toxicity-classification\\\\train_preprocessV1.csv',index=False)\n",
    "df_test.to_csv('G:\\\\Ipynotebook\\\\jigsaw-unintended-bias-in-toxicity-classification\\\\test_preprocessV1.csv',index=False)"
   ]
  },
  {
   "cell_type": "markdown",
   "metadata": {},
   "source": [
    "### Taking the preprocessed train and test into pandas dataframe stored in drive"
   ]
  },
  {
   "cell_type": "code",
   "execution_count": 29,
   "metadata": {},
   "outputs": [],
   "source": [
    "df_train_sampled = pd.read_csv('train_preprocessV1.csv')\n",
    "df_test = pd.read_csv('test_preprocessV1.csv')"
   ]
  },
  {
   "cell_type": "code",
   "execution_count": 30,
   "metadata": {},
   "outputs": [
    {
     "data": {
      "text/html": [
       "<div>\n",
       "<style scoped>\n",
       "    .dataframe tbody tr th:only-of-type {\n",
       "        vertical-align: middle;\n",
       "    }\n",
       "\n",
       "    .dataframe tbody tr th {\n",
       "        vertical-align: top;\n",
       "    }\n",
       "\n",
       "    .dataframe thead th {\n",
       "        text-align: right;\n",
       "    }\n",
       "</style>\n",
       "<table border=\"1\" class=\"dataframe\">\n",
       "  <thead>\n",
       "    <tr style=\"text-align: right;\">\n",
       "      <th></th>\n",
       "      <th>id</th>\n",
       "      <th>target</th>\n",
       "      <th>comment_text</th>\n",
       "      <th>class</th>\n",
       "    </tr>\n",
       "  </thead>\n",
       "  <tbody>\n",
       "    <tr>\n",
       "      <th>0</th>\n",
       "      <td>5725613</td>\n",
       "      <td>0.2</td>\n",
       "      <td>lock up throw away key</td>\n",
       "      <td>0</td>\n",
       "    </tr>\n",
       "    <tr>\n",
       "      <th>1</th>\n",
       "      <td>5173568</td>\n",
       "      <td>0.0</td>\n",
       "      <td>take deep wide look franc uk see futur u s bot...</td>\n",
       "      <td>0</td>\n",
       "    </tr>\n",
       "  </tbody>\n",
       "</table>\n",
       "</div>"
      ],
      "text/plain": [
       "        id  target                                       comment_text  class\n",
       "0  5725613     0.2                             lock up throw away key      0\n",
       "1  5173568     0.0  take deep wide look franc uk see futur u s bot...      0"
      ]
     },
     "execution_count": 30,
     "metadata": {},
     "output_type": "execute_result"
    }
   ],
   "source": [
    "df_train_sampled.head(2)"
   ]
  },
  {
   "cell_type": "code",
   "execution_count": 31,
   "metadata": {},
   "outputs": [
    {
     "data": {
      "text/html": [
       "<div>\n",
       "<style scoped>\n",
       "    .dataframe tbody tr th:only-of-type {\n",
       "        vertical-align: middle;\n",
       "    }\n",
       "\n",
       "    .dataframe tbody tr th {\n",
       "        vertical-align: top;\n",
       "    }\n",
       "\n",
       "    .dataframe thead th {\n",
       "        text-align: right;\n",
       "    }\n",
       "</style>\n",
       "<table border=\"1\" class=\"dataframe\">\n",
       "  <thead>\n",
       "    <tr style=\"text-align: right;\">\n",
       "      <th></th>\n",
       "      <th>id</th>\n",
       "      <th>comment_text</th>\n",
       "    </tr>\n",
       "  </thead>\n",
       "  <tbody>\n",
       "    <tr>\n",
       "      <th>0</th>\n",
       "      <td>7097320</td>\n",
       "      <td>integr mean pay debt doe appli presid trump too</td>\n",
       "    </tr>\n",
       "    <tr>\n",
       "      <th>1</th>\n",
       "      <td>7097321</td>\n",
       "      <td>malfeas administr board wast money</td>\n",
       "    </tr>\n",
       "  </tbody>\n",
       "</table>\n",
       "</div>"
      ],
      "text/plain": [
       "        id                                     comment_text\n",
       "0  7097320  integr mean pay debt doe appli presid trump too\n",
       "1  7097321               malfeas administr board wast money"
      ]
     },
     "execution_count": 31,
     "metadata": {},
     "output_type": "execute_result"
    }
   ],
   "source": [
    "df_test.head(2)"
   ]
  },
  {
   "cell_type": "markdown",
   "metadata": {},
   "source": [
    "## Topic modeling ( Unsupervised Clustering Method )\n",
    "#### 1) LDA ( Latent Dirichlet Allocation ) is an unsupervised machine-learning model that automatically identify topics present in a text object and to derive hidden patterns exhibited by a text corpus. Thus, assisting better decision making.\n",
    "#### 2) we will model our comment_text into 5 different topics and then take these topics as features in train and test data for our supervised classification model."
   ]
  },
  {
   "cell_type": "markdown",
   "metadata": {},
   "source": [
    "### 4.1) Tokenize word and clean up text"
   ]
  },
  {
   "cell_type": "code",
   "execution_count": 32,
   "metadata": {},
   "outputs": [],
   "source": [
    "# References for Topic Modeling : \n",
    "# 1) https://www.machinelearningplus.com/nlp/topic-modeling-gensim-python/\n",
    "# 2) https://nlpforhackers.io/topic-modeling/\n",
    "# 3) https://towardsdatascience.com/unsupervised-nlp-topic-models-as-a-supervised-learning-input-cf8ee9e5cf28\n",
    "\n",
    "data = df_train_sampled.comment_text.values.tolist()"
   ]
  },
  {
   "cell_type": "code",
   "execution_count": 33,
   "metadata": {},
   "outputs": [
    {
     "name": "stdout",
     "output_type": "stream",
     "text": [
      "[['lock', 'up', 'throw', 'away', 'key']]\n"
     ]
    }
   ],
   "source": [
    "import gensim\n",
    "from gensim.utils import simple_preprocess\n",
    "import warnings\n",
    "warnings.filterwarnings(\"ignore\")\n",
    "\n",
    "def sent_to_words(sentences):\n",
    "    for sentence in sentences:\n",
    "        yield(gensim.utils.simple_preprocess(str(sentence), deacc=True))  # deacc=True removes punctuations\n",
    "\n",
    "data_words = list(sent_to_words(data))\n",
    "\n",
    "print(data_words[:1])"
   ]
  },
  {
   "cell_type": "markdown",
   "metadata": {},
   "source": [
    "### 4.2) Create the Dictionary and Corpus needed for Topic Modeling"
   ]
  },
  {
   "cell_type": "code",
   "execution_count": 34,
   "metadata": {},
   "outputs": [
    {
     "name": "stdout",
     "output_type": "stream",
     "text": [
      "[[(0, 1), (1, 1), (2, 1), (3, 1), (4, 1)]]\n"
     ]
    }
   ],
   "source": [
    "from gensim import corpora\n",
    "\n",
    "# Create Dictionary\n",
    "dictionary = corpora.Dictionary(data_words)\n",
    "\n",
    "# Create Corpus\n",
    "texts = data_words\n",
    "\n",
    "# Term Document Frequency\n",
    "corpus = [dictionary.doc2bow(text) for text in texts]\n",
    "\n",
    "# View\n",
    "print(corpus[:1])\n"
   ]
  },
  {
   "cell_type": "code",
   "execution_count": 35,
   "metadata": {},
   "outputs": [
    {
     "data": {
      "text/plain": [
       "[[('away', 1), ('key', 1), ('lock', 1), ('throw', 1), ('up', 1)]]"
      ]
     },
     "execution_count": 35,
     "metadata": {},
     "output_type": "execute_result"
    }
   ],
   "source": [
    "# Human readable format of corpus (term-frequency)\n",
    "[[(dictionary[id], freq) for id, freq in cp] for cp in corpus[:1]]"
   ]
  },
  {
   "cell_type": "markdown",
   "metadata": {},
   "source": [
    "### 4.3) Building topic model"
   ]
  },
  {
   "cell_type": "code",
   "execution_count": 42,
   "metadata": {},
   "outputs": [],
   "source": [
    "import warnings\n",
    "warnings.filterwarnings(\"ignore\")\n",
    "\n",
    "from gensim.models import LdaModel\n",
    "\n",
    "# Build LDA model\n",
    "lda_model = LdaModel(corpus=corpus, id2word=dictionary, num_topics=5, random_state=100, update_every=1,\n",
    "                                           chunksize=100, passes=10, alpha='auto', per_word_topics=True)"
   ]
  },
  {
   "cell_type": "code",
   "execution_count": 63,
   "metadata": {},
   "outputs": [],
   "source": [
    "# Save a model to disk\n",
    "\n",
    "lda_model.save(\"G:\\\\Ipynotebook\\\\jigsaw-unintended-bias-in-toxicity-classification\\\\lda_model.model\")"
   ]
  },
  {
   "cell_type": "code",
   "execution_count": 64,
   "metadata": {},
   "outputs": [
    {
     "data": {
      "text/plain": [
       "<gensim.models.ldamodel.LdaModel at 0x27fe74ce860>"
      ]
     },
     "execution_count": 64,
     "metadata": {},
     "output_type": "execute_result"
    }
   ],
   "source": [
    "# load model from disk\n",
    "\n",
    "lda_model.load(\"G:\\\\Ipynotebook\\\\jigsaw-unintended-bias-in-toxicity-classification\\\\lda_model.model\")"
   ]
  },
  {
   "cell_type": "code",
   "execution_count": 65,
   "metadata": {},
   "outputs": [
    {
     "name": "stdout",
     "output_type": "stream",
     "text": [
      "\n",
      "Coherence Score:  0.5310667744171627\n"
     ]
    }
   ],
   "source": [
    "from gensim.models import CoherenceModel\n",
    "\n",
    "# Compute Coherence Score\n",
    "coherence_model_lda = CoherenceModel(model=lda_model, texts=data_words, dictionary=dictionary, coherence='c_v')\n",
    "coherence_lda = coherence_model_lda.get_coherence()\n",
    "print('\\nCoherence Score: ', coherence_lda)"
   ]
  },
  {
   "cell_type": "code",
   "execution_count": 44,
   "metadata": {},
   "outputs": [
    {
     "name": "stdout",
     "output_type": "stream",
     "text": [
      "[(0, '0.024*\"like\" + 0.016*\"stupid\" + 0.014*\"it\" + 0.012*\"that\" + 0.012*\"know\" + 0.012*\"say\" + 0.011*\"right\" + 0.010*\"make\" + 0.010*\"you\" + 0.009*\"think\"'), (1, '0.054*\"trump\" + 0.015*\"vote\" + 0.015*\"presid\" + 0.013*\"support\" + 0.013*\"he\" + 0.012*\"black\" + 0.012*\"comment\" + 0.012*\"american\" + 0.010*\"elect\" + 0.010*\"women\"'), (2, '0.024*\"govern\" + 0.023*\"state\" + 0.021*\"money\" + 0.019*\"tax\" + 0.018*\"pay\" + 0.011*\"million\" + 0.010*\"busi\" + 0.010*\"job\" + 0.009*\"alaska\" + 0.009*\"system\"'), (3, '0.024*\"peopl\" + 0.018*\"get\" + 0.016*\"would\" + 0.016*\"one\" + 0.011*\"time\" + 0.011*\"white\" + 0.010*\"want\" + 0.009*\"need\" + 0.009*\"even\" + 0.008*\"idiot\"'), (4, '0.023*\"countri\" + 0.016*\"lie\" + 0.016*\"world\" + 0.012*\"muslim\" + 0.012*\"canada\" + 0.012*\"fool\" + 0.012*\"canadian\" + 0.009*\"war\" + 0.008*\"murder\" + 0.008*\"corrupt\"')]\n"
     ]
    }
   ],
   "source": [
    "# Print the Keyword in the 5 topics\n",
    "\n",
    "print(lda_model.print_topics())\n",
    "doc_lda = lda_model[corpus]"
   ]
  },
  {
   "cell_type": "code",
   "execution_count": 45,
   "metadata": {},
   "outputs": [
    {
     "data": {
      "text/html": [
       "\n",
       "<link rel=\"stylesheet\" type=\"text/css\" href=\"https://cdn.rawgit.com/bmabey/pyLDAvis/files/ldavis.v1.0.0.css\">\n",
       "\n",
       "\n",
       "<div id=\"ldavis_el973227482256660487282990127\"></div>\n",
       "<script type=\"text/javascript\">\n",
       "\n",
       "var ldavis_el973227482256660487282990127_data = {\"mdsDat\": {\"x\": [0.2286366665572232, 0.24727566542398466, -0.20121299195327927, -0.250576999921152, -0.02412234010677687], \"y\": [-0.29787888740400686, 0.33109812940088734, -0.0012233504824616687, 0.06528655323077621, -0.09728244474519461], \"topics\": [1, 2, 3, 4, 5], \"cluster\": [1, 1, 1, 1, 1], \"Freq\": [33.14909362792969, 29.797672271728516, 15.542610168457031, 11.53305435180664, 9.977578163146973]}, \"tinfo\": {\"Category\": [\"Default\", \"Default\", \"Default\", \"Default\", \"Default\", \"Default\", \"Default\", \"Default\", \"Default\", \"Default\", \"Default\", \"Default\", \"Default\", \"Default\", \"Default\", \"Default\", \"Default\", \"Default\", \"Default\", \"Default\", \"Default\", \"Default\", \"Default\", \"Default\", \"Default\", \"Default\", \"Default\", \"Default\", \"Default\", \"Default\", \"Topic1\", \"Topic1\", \"Topic1\", \"Topic1\", \"Topic1\", \"Topic1\", \"Topic1\", \"Topic1\", \"Topic1\", \"Topic1\", \"Topic1\", \"Topic1\", \"Topic1\", \"Topic1\", \"Topic1\", \"Topic1\", \"Topic1\", \"Topic1\", \"Topic1\", \"Topic1\", \"Topic1\", \"Topic1\", \"Topic1\", \"Topic1\", \"Topic1\", \"Topic1\", \"Topic1\", \"Topic1\", \"Topic1\", \"Topic1\", \"Topic1\", \"Topic1\", \"Topic1\", \"Topic1\", \"Topic1\", \"Topic1\", \"Topic1\", \"Topic2\", \"Topic2\", \"Topic2\", \"Topic2\", \"Topic2\", \"Topic2\", \"Topic2\", \"Topic2\", \"Topic2\", \"Topic2\", \"Topic2\", \"Topic2\", \"Topic2\", \"Topic2\", \"Topic2\", \"Topic2\", \"Topic2\", \"Topic2\", \"Topic2\", \"Topic2\", \"Topic2\", \"Topic2\", \"Topic2\", \"Topic2\", \"Topic2\", \"Topic2\", \"Topic2\", \"Topic2\", \"Topic2\", \"Topic2\", \"Topic2\", \"Topic2\", \"Topic2\", \"Topic2\", \"Topic2\", \"Topic2\", \"Topic2\", \"Topic2\", \"Topic2\", \"Topic3\", \"Topic3\", \"Topic3\", \"Topic3\", \"Topic3\", \"Topic3\", \"Topic3\", \"Topic3\", \"Topic3\", \"Topic3\", \"Topic3\", \"Topic3\", \"Topic3\", \"Topic3\", \"Topic3\", \"Topic3\", \"Topic3\", \"Topic3\", \"Topic3\", \"Topic3\", \"Topic3\", \"Topic3\", \"Topic3\", \"Topic3\", \"Topic3\", \"Topic3\", \"Topic3\", \"Topic3\", \"Topic3\", \"Topic3\", \"Topic3\", \"Topic3\", \"Topic3\", \"Topic4\", \"Topic4\", \"Topic4\", \"Topic4\", \"Topic4\", \"Topic4\", \"Topic4\", \"Topic4\", \"Topic4\", \"Topic4\", \"Topic4\", \"Topic4\", \"Topic4\", \"Topic4\", \"Topic4\", \"Topic4\", \"Topic4\", \"Topic4\", \"Topic4\", \"Topic4\", \"Topic4\", \"Topic4\", \"Topic4\", \"Topic4\", \"Topic4\", \"Topic4\", \"Topic4\", \"Topic4\", \"Topic4\", \"Topic4\", \"Topic4\", \"Topic4\", \"Topic4\", \"Topic5\", \"Topic5\", \"Topic5\", \"Topic5\", \"Topic5\", \"Topic5\", \"Topic5\", \"Topic5\", \"Topic5\", \"Topic5\", \"Topic5\", \"Topic5\", \"Topic5\", \"Topic5\", \"Topic5\", \"Topic5\", \"Topic5\", \"Topic5\", \"Topic5\", \"Topic5\", \"Topic5\", \"Topic5\", \"Topic5\", \"Topic5\", \"Topic5\", \"Topic5\", \"Topic5\", \"Topic5\", \"Topic5\", \"Topic5\", \"Topic5\", \"Topic5\", \"Topic5\"], \"Freq\": [31881.0, 30051.0, 27263.0, 22284.0, 20513.0, 10288.0, 18052.0, 8987.0, 20566.0, 16277.0, 9749.0, 8152.0, 14065.0, 9063.0, 8978.0, 13719.0, 7190.0, 13419.0, 7188.0, 6720.0, 7142.0, 12517.0, 13462.0, 13256.0, 7852.0, 7542.0, 7311.0, 7292.0, 12043.0, 10849.0, 30050.466796875, 22283.201171875, 13461.73046875, 13255.1943359375, 12042.1611328125, 11150.3193359375, 10664.939453125, 9722.7998046875, 9490.830078125, 9389.9482421875, 9221.5966796875, 8575.7890625, 7752.96044921875, 7617.74072265625, 7561.66455078125, 7554.4033203125, 7530.494140625, 7318.38037109375, 7294.46875, 7054.39453125, 6624.951171875, 6588.30224609375, 6401.3515625, 6112.8447265625, 6033.619140625, 5983.25146484375, 5520.55419921875, 5513.4365234375, 5487.1357421875, 5453.8828125, 20489.404296875, 11260.5009765625, 20103.154296875, 6858.21435546875, 9911.4296875, 8424.3427734375, 6816.474609375, 18051.787109375, 16277.0087890625, 14064.8984375, 13718.67578125, 13418.888671875, 12517.052734375, 10848.857421875, 9162.19921875, 9004.1787109375, 8715.169921875, 7664.7392578125, 6967.7666015625, 6958.11962890625, 6851.65087890625, 6794.92578125, 6661.16845703125, 6525.90185546875, 6012.07373046875, 5899.4501953125, 5860.90673828125, 5257.77587890625, 5176.8330078125, 5159.8935546875, 5066.22412109375, 5011.4755859375, 4954.1806640625, 4764.55517578125, 4714.33544921875, 4695.328125, 4638.48681640625, 27256.076171875, 9093.2724609375, 6816.939453125, 8968.1767578125, 6642.54443359375, 5589.70166015625, 7575.01611328125, 11293.1748046875, 9835.8388671875, 31880.38671875, 9063.01953125, 8977.388671875, 7852.1123046875, 7541.5302734375, 7310.25927734375, 7291.1484375, 6938.9326171875, 6212.9443359375, 6027.96826171875, 5237.4541015625, 5133.86669921875, 4835.10791015625, 4409.20703125, 4237.24609375, 4025.81494140625, 3960.823486328125, 3845.932861328125, 3645.41796875, 3470.895751953125, 3239.194091796875, 3011.81201171875, 2974.471923828125, 2895.22021484375, 2863.006591796875, 2827.988525390625, 2658.402099609375, 2534.13134765625, 2483.8359375, 2427.714599609375, 5574.876953125, 3218.769775390625, 2868.733154296875, 10288.0341796875, 7187.3720703125, 5313.61669921875, 5301.26171875, 5132.1640625, 5113.693359375, 4154.8642578125, 3671.539306640625, 3475.974609375, 3496.2197265625, 3375.994384765625, 3341.992919921875, 3318.96923828125, 3069.540283203125, 3030.056396484375, 2740.286865234375, 2718.934326171875, 2452.12353515625, 2240.534423828125, 2235.2490234375, 2217.72314453125, 2144.41259765625, 2150.0478515625, 2117.8154296875, 2124.43603515625, 2024.9461669921875, 2004.06298828125, 1947.59912109375, 1854.6502685546875, 1820.9891357421875, 7121.279296875, 2299.397216796875, 2205.460693359375, 8987.1357421875, 8151.3251953125, 7189.3681640625, 6719.32861328125, 4292.20458984375, 3801.755126953125, 3346.808349609375, 3322.553466796875, 3156.715087890625, 2765.949951171875, 2694.337890625, 2612.47119140625, 2562.5771484375, 2558.78076171875, 2535.371826171875, 2547.389404296875, 2385.485595703125, 2162.82373046875, 2091.999755859375, 2072.1025390625, 2084.6044921875, 2032.4158935546875, 1823.57861328125, 1782.07421875, 1749.4130859375, 1745.284423828125, 1716.841552734375, 1681.2835693359375, 1622.6334228515625, 1645.7353515625, 1631.72412109375, 8662.9111328125, 3767.507080078125], \"Term\": [\"trump\", \"peopl\", \"like\", \"get\", \"would\", \"countri\", \"stupid\", \"govern\", \"one\", \"it\", \"state\", \"money\", \"that\", \"vote\", \"presid\", \"know\", \"tax\", \"say\", \"lie\", \"pay\", \"world\", \"right\", \"time\", \"white\", \"support\", \"he\", \"black\", \"comment\", \"want\", \"you\", \"peopl\", \"get\", \"time\", \"white\", \"want\", \"even\", \"idiot\", \"way\", \"use\", \"take\", \"go\", \"good\", \"never\", \"hate\", \"live\", \"liber\", \"much\", \"well\", \"come\", \"kill\", \"everi\", \"could\", \"back\", \"give\", \"day\", \"still\", \"them\", \"also\", \"they\", \"keep\", \"would\", \"need\", \"one\", \"let\", \"year\", \"see\", \"work\", \"stupid\", \"it\", \"that\", \"know\", \"say\", \"right\", \"you\", \"mani\", \"ignor\", \"look\", \"tri\", \"and\", \"believ\", \"anoth\", \"person\", \"racist\", \"fact\", \"polit\", \"post\", \"guy\", \"law\", \"anyth\", \"re\", \"anyon\", \"someon\", \"this\", \"we\", \"there\", \"point\", \"read\", \"like\", \"thing\", \"noth\", \"call\", \"can\", \"said\", \"realli\", \"make\", \"think\", \"trump\", \"vote\", \"presid\", \"support\", \"he\", \"black\", \"comment\", \"american\", \"elect\", \"women\", \"republican\", \"obama\", \"parti\", \"america\", \"democrat\", \"hillari\", \"clinton\", \"men\", \"attack\", \"hypocrit\", \"word\", \"donald\", \"name\", \"here\", \"act\", \"conserv\", \"true\", \"anti\", \"offic\", \"dog\", \"man\", \"left\", \"the\", \"countri\", \"lie\", \"muslim\", \"canada\", \"fool\", \"canadian\", \"war\", \"murder\", \"terrorist\", \"corrupt\", \"trudeau\", \"mental\", \"crimin\", \"thank\", \"crime\", \"illeg\", \"polic\", \"nonsens\", \"citi\", \"lol\", \"destroy\", \"immigr\", \"cop\", \"victim\", \"brain\", \"drug\", \"legal\", \"china\", \"ill\", \"hawaii\", \"world\", \"forc\", \"nation\", \"govern\", \"money\", \"tax\", \"pay\", \"million\", \"busi\", \"alaska\", \"system\", \"control\", \"garbag\", \"oil\", \"citizen\", \"cut\", \"cost\", \"compani\", \"death\", \"buy\", \"save\", \"fund\", \"spend\", \"plan\", \"paid\", \"econom\", \"mention\", \"feder\", \"health\", \"fix\", \"economi\", \"billion\", \"rais\", \"privat\", \"state\", \"job\"], \"Total\": [31881.0, 30051.0, 27263.0, 22284.0, 20513.0, 10288.0, 18052.0, 8987.0, 20566.0, 16277.0, 9749.0, 8152.0, 14065.0, 9063.0, 8978.0, 13719.0, 7190.0, 13419.0, 7188.0, 6720.0, 7142.0, 12517.0, 13462.0, 13256.0, 7852.0, 7542.0, 7311.0, 7292.0, 12043.0, 10849.0, 30051.314453125, 22284.048828125, 13462.576171875, 13256.0400390625, 12043.0078125, 11151.1669921875, 10665.78515625, 9723.6455078125, 9491.6787109375, 9390.794921875, 9222.443359375, 8576.6337890625, 7753.8056640625, 7618.58935546875, 7562.5107421875, 7555.25048828125, 7531.3408203125, 7319.22705078125, 7295.31298828125, 7055.23876953125, 6625.7978515625, 6589.1474609375, 6402.1953125, 6113.69091796875, 6034.4638671875, 5984.1005859375, 5521.39892578125, 5514.28369140625, 5487.98095703125, 5454.7275390625, 20513.740234375, 11310.12890625, 20566.42578125, 7043.486328125, 11079.681640625, 10126.2802734375, 8054.0703125, 18052.63671875, 16277.857421875, 14065.7470703125, 13719.5234375, 13419.7373046875, 12517.900390625, 10849.705078125, 9163.0517578125, 9005.0263671875, 8716.0205078125, 7665.58935546875, 6968.61572265625, 6958.96826171875, 6852.50341796875, 6795.77490234375, 6662.013671875, 6526.75, 6012.92529296875, 5900.29638671875, 5861.75537109375, 5258.623046875, 5177.68212890625, 5160.7412109375, 5067.07421875, 5012.32275390625, 4955.03076171875, 4765.4052734375, 4715.18505859375, 4696.17626953125, 4639.33203125, 27263.462890625, 9135.2666015625, 6839.3203125, 9125.216796875, 6785.23046875, 5636.18310546875, 8165.1884765625, 15719.1396484375, 15588.478515625, 31881.2421875, 9063.880859375, 8978.244140625, 7852.9736328125, 7542.39013671875, 7311.12060546875, 7292.01171875, 6939.79345703125, 6213.80322265625, 6028.8291015625, 5238.31298828125, 5134.72265625, 4835.96630859375, 4410.06591796875, 4238.1025390625, 4026.67138671875, 3961.67822265625, 3846.794921875, 3646.280517578125, 3471.759521484375, 3240.054931640625, 3012.668701171875, 2975.33447265625, 2896.0859375, 2863.8701171875, 2828.849853515625, 2659.26611328125, 2534.989990234375, 2484.695556640625, 2428.5810546875, 6189.01708984375, 5650.31396484375, 9060.1162109375, 10288.8818359375, 7188.22119140625, 5314.4560546875, 5302.10595703125, 5133.01220703125, 5114.56005859375, 4155.7099609375, 3672.383544921875, 3476.81787109375, 3497.06982421875, 3376.843994140625, 3342.84033203125, 3319.8154296875, 3070.390869140625, 3030.901123046875, 2741.131591796875, 2719.779541015625, 2452.9736328125, 2241.37841796875, 2236.10107421875, 2218.5732421875, 2145.2548828125, 2150.8974609375, 2118.662353515625, 2125.28564453125, 2025.7908935546875, 2004.90869140625, 1948.4443359375, 1855.4989013671875, 1821.8402099609375, 7142.533203125, 2494.431884765625, 4513.5751953125, 8987.947265625, 8152.13427734375, 7190.17041015625, 6720.13525390625, 4293.021484375, 3802.56640625, 3347.61767578125, 3323.3671875, 3157.535888671875, 2766.769775390625, 2695.138916015625, 2613.288818359375, 2563.38427734375, 2559.5888671875, 2536.178466796875, 2548.21044921875, 2386.296630859375, 2163.63720703125, 2092.805419921875, 2072.90673828125, 2085.41650390625, 2033.223388671875, 1824.392822265625, 1782.8978271484375, 1750.2236328125, 1746.0938720703125, 1717.657958984375, 1682.0919189453125, 1623.4366455078125, 1646.552978515625, 1632.5364990234375, 9749.3134765625, 5785.544921875], \"loglift\": [30.0, 29.0, 28.0, 27.0, 26.0, 25.0, 24.0, 23.0, 22.0, 21.0, 20.0, 19.0, 18.0, 17.0, 16.0, 15.0, 14.0, 13.0, 12.0, 11.0, 10.0, 9.0, 8.0, 7.0, 6.0, 5.0, 4.0, 3.0, 2.0, 1.0, 1.104099988937378, 1.104099988937378, 1.104099988937378, 1.104099988937378, 1.104099988937378, 1.104099988937378, 1.104099988937378, 1.104099988937378, 1.104099988937378, 1.104099988937378, 1.104099988937378, 1.104099988937378, 1.1039999723434448, 1.1039999723434448, 1.1039999723434448, 1.1039999723434448, 1.1039999723434448, 1.1039999723434448, 1.1039999723434448, 1.1039999723434448, 1.1039999723434448, 1.1039999723434448, 1.1039999723434448, 1.1039999723434448, 1.1039999723434448, 1.1039999723434448, 1.1039999723434448, 1.1039999723434448, 1.1039999723434448, 1.1039999723434448, 1.1030000448226929, 1.0997999906539917, 1.0814000368118286, 1.0774999856948853, 0.9926999807357788, 0.9200999736785889, 0.9373000264167786, 1.2107000350952148, 1.2107000350952148, 1.2107000350952148, 1.2107000350952148, 1.2107000350952148, 1.2107000350952148, 1.2107000350952148, 1.2106000185012817, 1.2106000185012817, 1.2106000185012817, 1.2106000185012817, 1.2106000185012817, 1.2106000185012817, 1.2106000185012817, 1.2106000185012817, 1.2106000185012817, 1.2106000185012817, 1.2106000185012817, 1.2106000185012817, 1.2106000185012817, 1.2106000185012817, 1.2106000185012817, 1.2106000185012817, 1.2106000185012817, 1.2106000185012817, 1.2106000185012817, 1.2106000185012817, 1.2106000185012817, 1.2106000185012817, 1.2106000185012817, 1.2105000019073486, 1.2060999870300293, 1.2074999809265137, 1.1934000253677368, 1.1894999742507935, 1.2024999856948853, 1.135699987411499, 0.8801000118255615, 0.7501999735832214, 1.8616000413894653, 1.8615000247955322, 1.8615000247955322, 1.8615000247955322, 1.8615000247955322, 1.8615000247955322, 1.8615000247955322, 1.8615000247955322, 1.8614000082015991, 1.8614000082015991, 1.8614000082015991, 1.8614000082015991, 1.8614000082015991, 1.8614000082015991, 1.8614000082015991, 1.8614000082015991, 1.8614000082015991, 1.8614000082015991, 1.861299991607666, 1.861299991607666, 1.861299991607666, 1.861299991607666, 1.861299991607666, 1.861299991607666, 1.861299991607666, 1.861299991607666, 1.861299991607666, 1.861199975013733, 1.861199975013733, 1.861199975013733, 1.757099986076355, 1.2989000082015991, 0.7116000056266785, 2.159899950027466, 2.1598000526428223, 2.1598000526428223, 2.1598000526428223, 2.1598000526428223, 2.1598000526428223, 2.1596999168395996, 2.1596999168395996, 2.1596999168395996, 2.1596999168395996, 2.1596999168395996, 2.1596999168395996, 2.1596999168395996, 2.1596999168395996, 2.1596999168395996, 2.159600019454956, 2.159600019454956, 2.159600019454956, 2.159600019454956, 2.159600019454956, 2.159600019454956, 2.159600019454956, 2.159600019454956, 2.159600019454956, 2.159600019454956, 2.1594998836517334, 2.1594998836517334, 2.1594998836517334, 2.1594998836517334, 2.1594998836517334, 2.1570000648498535, 2.0785000324249268, 1.4437999725341797, 2.3046998977661133, 2.3046998977661133, 2.3046998977661133, 2.3046998977661133, 2.3046000003814697, 2.3046000003814697, 2.3046000003814697, 2.3046000003814697, 2.3046000003814697, 2.304500102996826, 2.304500102996826, 2.304500102996826, 2.304500102996826, 2.304500102996826, 2.304500102996826, 2.304500102996826, 2.304500102996826, 2.304500102996826, 2.3043999671936035, 2.3043999671936035, 2.3043999671936035, 2.3043999671936035, 2.3043999671936035, 2.3043999671936035, 2.3043999671936035, 2.3043999671936035, 2.3043999671936035, 2.30430006980896, 2.30430006980896, 2.30430006980896, 2.30430006980896, 2.1867001056671143, 1.8759000301361084], \"logprob\": [30.0, 29.0, 28.0, 27.0, 26.0, 25.0, 24.0, 23.0, 22.0, 21.0, 20.0, 19.0, 18.0, 17.0, 16.0, 15.0, 14.0, 13.0, 12.0, 11.0, 10.0, 9.0, 8.0, 7.0, 6.0, 5.0, 4.0, 3.0, 2.0, 1.0, -3.737799882888794, -4.036799907684326, -4.540800094604492, -4.556300163269043, -4.652200222015381, -4.7291998863220215, -4.77370023727417, -4.866199970245361, -4.8902997970581055, -4.901000022888184, -4.919099807739258, -4.991700172424316, -5.092599868774414, -5.110199928283691, -5.117599964141846, -5.118500232696533, -5.121699810028076, -5.150300025939941, -5.153500080108643, -5.186999797821045, -5.249800205230713, -5.25540018081665, -5.28410005569458, -5.3302998542785645, -5.343299865722656, -5.3516998291015625, -5.432199954986572, -5.433499813079834, -5.438199996948242, -5.444300174713135, -4.120699882507324, -4.719299793243408, -4.139800071716309, -5.215199947357178, -4.8470001220703125, -5.009500026702881, -5.22130012512207, -4.1407999992370605, -4.24429988861084, -4.390399932861328, -4.415299892425537, -4.437399864196777, -4.506999969482422, -4.650000095367432, -4.818999767303467, -4.836400032043457, -4.86899995803833, -4.997399806976318, -5.092800140380859, -5.094200134277344, -5.109600067138672, -5.1178998947143555, -5.137800216674805, -5.158299922943115, -5.240300178527832, -5.259200096130371, -5.2657999992370605, -5.3744001388549805, -5.389900207519531, -5.393099784851074, -5.411499977111816, -5.422299861907959, -5.433800220489502, -5.472899913787842, -5.483500003814697, -5.487500190734863, -5.49970006942749, -3.728800058364868, -4.826499938964844, -5.114699840545654, -4.840400218963623, -5.140600204467773, -5.3130998611450195, -5.009200096130371, -4.609899997711182, -4.748000144958496, -2.9212000370025635, -4.178999900817871, -4.188499927520752, -4.322400093078613, -4.362800121307373, -4.393899917602539, -4.396599769592285, -4.446100234985352, -4.556600093841553, -4.5868000984191895, -4.727399826049805, -4.747399806976318, -4.807300090789795, -4.899499893188477, -4.939300060272217, -4.990499973297119, -5.006800174713135, -5.036200046539307, -5.089700222015381, -5.138800144195557, -5.207900047302246, -5.280700206756592, -5.2932000160217285, -5.320199966430664, -5.331299781799316, -5.343699932098389, -5.4054999351501465, -5.453400135040283, -5.473400115966797, -5.496300220489502, -4.664899826049805, -5.214200019836426, -5.3292999267578125, -3.7539000511169434, -4.112500190734863, -4.414599895477295, -4.416900157928467, -4.4492998123168945, -4.452899932861328, -4.660600185394287, -4.784200191497803, -4.839000225067139, -4.833199977874756, -4.868199825286865, -4.878300189971924, -4.885200023651123, -4.9633002281188965, -4.97629976272583, -5.0767998695373535, -5.08459997177124, -5.187900066375732, -5.27810001373291, -5.2804999351501465, -5.288400173187256, -5.322000026702881, -5.319399833679199, -5.334499835968018, -5.331299781799316, -5.379300117492676, -5.389699935913086, -5.418300151824951, -5.467199802398682, -5.485499858856201, -4.121799945831299, -5.252200126647949, -5.293900012969971, -3.7441999912261963, -3.8417999744415283, -3.967400074005127, -4.034999847412109, -4.4832000732421875, -4.604499816894531, -4.73199987411499, -4.739200115203857, -4.79040002822876, -4.922599792480469, -4.948800086975098, -4.979700088500977, -4.999000072479248, -5.000400066375732, -5.0096001625061035, -5.004899978637695, -5.0706000328063965, -5.168600082397461, -5.201900005340576, -5.211400032043457, -5.205399990081787, -5.2307000160217285, -5.339200019836426, -5.362199783325195, -5.38070011138916, -5.3831000328063965, -5.399499893188477, -5.420400142669678, -5.455900192260742, -5.441800117492676, -5.450300216674805, -3.780900001525879, -4.61359977722168]}, \"token.table\": {\"Topic\": [3, 5, 1, 3, 3, 2, 2, 3, 2, 2, 3, 1, 2, 5, 3, 4, 5, 5, 2, 3, 1, 2, 4, 4, 4, 4, 5, 3, 1, 3, 5, 3, 5, 4, 4, 5, 1, 4, 4, 4, 5, 1, 5, 3, 4, 3, 3, 4, 5, 5, 3, 1, 1, 2, 5, 5, 4, 1, 4, 5, 5, 5, 1, 1, 1, 1, 5, 2, 1, 4, 3, 5, 3, 3, 3, 1, 2, 4, 4, 4, 2, 1, 5, 1, 1, 2, 2, 1, 2, 3, 4, 1, 2, 1, 4, 1, 2, 1, 4, 2, 1, 2, 2, 3, 2, 3, 4, 5, 5, 5, 1, 4, 4, 3, 3, 4, 1, 5, 1, 4, 1, 2, 3, 3, 5, 1, 2, 5, 3, 5, 1, 2, 5, 2, 4, 2, 2, 3, 5, 2, 5, 2, 2, 1, 2, 3, 2, 2, 3, 5, 2, 1, 2, 2, 5, 3, 5, 1, 2, 3, 5, 1, 5, 4, 4, 2, 2, 3, 4, 5, 1, 2, 1, 1, 2, 1, 2, 2, 1, 2, 4, 3, 3, 1, 4, 3, 1, 4, 1, 2, 1, 1, 3, 3, 1, 5, 1, 4, 1, 2, 1, 5, 2], \"Freq\": [0.9996961951255798, 0.9998154640197754, 0.9997671842575073, 0.9997583031654358, 0.9998856782913208, 0.9999116659164429, 0.9999265074729919, 0.9996094703674316, 0.9997879862785339, 0.9998682737350464, 0.9996488094329834, 0.9998133182525635, 0.9998608827590942, 0.9997310638427734, 0.9998466968536377, 0.9993950724601746, 0.9998510479927063, 0.9994566440582275, 0.9827711582183838, 0.01709548383951187, 0.020927807316184044, 0.9790382385253906, 0.9997913837432861, 0.9998905062675476, 0.9997719526290894, 0.9998311400413513, 0.9995068311691284, 0.9998288154602051, 0.9998199939727783, 0.9998612403869629, 0.999535322189331, 0.999699592590332, 0.9998303055763245, 0.9995827674865723, 0.9996941089630127, 0.999769926071167, 0.9998258352279663, 0.999914288520813, 0.9997026920318604, 0.9997543692588806, 0.9998500943183899, 0.9999231100082397, 0.9995249509811401, 0.9997398257255554, 0.9997416138648987, 0.9997607469558716, 0.9997780323028564, 0.9996095895767212, 0.9997847080230713, 0.9993508458137512, 0.9998707175254822, 0.9998953342437744, 0.9998795986175537, 0.999885082244873, 0.9993008971214294, 0.9996169209480286, 0.999802827835083, 0.029265180230140686, 0.9216527342796326, 0.048908933997154236, 0.9996151328086853, 0.9997217655181885, 0.9999529123306274, 0.9998869895935059, 0.9999518990516663, 0.9999260902404785, 0.9998946189880371, 0.9998711347579956, 0.9999226331710815, 0.9995388388633728, 0.999948263168335, 0.9993735551834106, 0.999625027179718, 0.9998332858085632, 0.9997812509536743, 0.9999263882637024, 0.9998860359191895, 0.9997311234474182, 0.9995871782302856, 0.9994150400161743, 0.9999473094940186, 0.3486274778842926, 0.6512783169746399, 0.9998666048049927, 0.9998244047164917, 0.9999618530273438, 0.9998815059661865, 0.4270559251308441, 0.003185663605108857, 0.5697028636932373, 0.9995467662811279, 0.9736655354499817, 0.026265401393175125, 0.9998344779014587, 0.9998301267623901, 0.0002567538758739829, 0.9997262954711914, 0.9999324679374695, 0.9995076060295105, 0.9998829364776611, 0.28150394558906555, 0.7184235453605652, 0.09904642403125763, 0.9007892608642578, 0.9998852014541626, 0.9997933506965637, 0.9997485876083374, 0.9994964003562927, 0.9997620582580566, 0.9998608827590942, 0.9998219609260559, 0.9998955726623535, 0.9999141693115234, 0.9995514750480652, 0.5111247301101685, 0.48852625489234924, 0.9956561923027039, 0.004332399927079678, 0.9998961091041565, 0.9996030926704407, 0.003216693876311183, 0.996736466884613, 0.9998592734336853, 0.99972003698349, 0.9995774030685425, 0.977466881275177, 0.022512419149279594, 0.9993982911109924, 0.9998002052307129, 0.9998310804367065, 0.9999562501907349, 0.9998859763145447, 0.9998002648353577, 0.9997495412826538, 0.9997133612632751, 0.9998461008071899, 0.9997802972793579, 0.9998614192008972, 0.9996713995933533, 0.9998478293418884, 0.9996641874313354, 0.9998563528060913, 0.9997128844261169, 0.07225797325372696, 0.9277189373970032, 0.9997493624687195, 0.9999280571937561, 0.9918059706687927, 0.00816155131906271, 0.9997054934501648, 0.9999450445175171, 0.8318948149681091, 0.16797876358032227, 0.9997360706329346, 0.9995625615119934, 0.11139246076345444, 0.8885753750801086, 0.9998160600662231, 0.999964714050293, 0.9998760223388672, 0.9998894929885864, 0.999915361404419, 0.9998372197151184, 0.9997647404670715, 0.9998726844787598, 0.9999468922615051, 0.5773656368255615, 0.31666260957717896, 0.053862445056438446, 0.05209646373987198, 0.9999277591705322, 0.9997486472129822, 0.9998212456703186, 0.004488101229071617, 0.9953732490539551, 0.3689904808998108, 0.6309788227081299, 0.9997919797897339, 0.9999572038650513, 0.9999231100082397, 0.9997500777244568, 0.9995238780975342, 0.9999610185623169, 0.9999284744262695, 0.9996873736381531, 0.9999028444290161, 0.9999163150787354, 0.9998291730880737, 0.9999336004257202, 0.9999149441719055, 0.9998323321342468, 0.9999215602874756, 0.9998624920845032, 0.999674379825592, 0.8462801575660706, 0.15358693897724152, 0.002940133446827531, 0.9969851970672607, 0.9987939596176147, 0.0011699475580826402, 0.8945202827453613, 0.10541819036006927, 0.9999350309371948], \"Term\": [\"act\", \"alaska\", \"also\", \"america\", \"american\", \"and\", \"anoth\", \"anti\", \"anyon\", \"anyth\", \"attack\", \"back\", \"believ\", \"billion\", \"black\", \"brain\", \"busi\", \"buy\", \"call\", \"call\", \"can\", \"can\", \"canada\", \"canadian\", \"china\", \"citi\", \"citizen\", \"clinton\", \"come\", \"comment\", \"compani\", \"conserv\", \"control\", \"cop\", \"corrupt\", \"cost\", \"could\", \"countri\", \"crime\", \"crimin\", \"cut\", \"day\", \"death\", \"democrat\", \"destroy\", \"dog\", \"donald\", \"drug\", \"econom\", \"economi\", \"elect\", \"even\", \"everi\", \"fact\", \"feder\", \"fix\", \"fool\", \"forc\", \"forc\", \"forc\", \"fund\", \"garbag\", \"get\", \"give\", \"go\", \"good\", \"govern\", \"guy\", \"hate\", \"hawaii\", \"he\", \"health\", \"here\", \"hillari\", \"hypocrit\", \"idiot\", \"ignor\", \"ill\", \"illeg\", \"immigr\", \"it\", \"job\", \"job\", \"keep\", \"kill\", \"know\", \"law\", \"left\", \"left\", \"left\", \"legal\", \"let\", \"let\", \"liber\", \"lie\", \"like\", \"like\", \"live\", \"lol\", \"look\", \"make\", \"make\", \"man\", \"man\", \"mani\", \"men\", \"mental\", \"mention\", \"million\", \"money\", \"much\", \"murder\", \"muslim\", \"name\", \"nation\", \"nation\", \"need\", \"need\", \"never\", \"nonsens\", \"noth\", \"noth\", \"obama\", \"offic\", \"oil\", \"one\", \"one\", \"paid\", \"parti\", \"pay\", \"peopl\", \"person\", \"plan\", \"point\", \"polic\", \"polit\", \"post\", \"presid\", \"privat\", \"racist\", \"rais\", \"re\", \"read\", \"realli\", \"realli\", \"republican\", \"right\", \"said\", \"said\", \"save\", \"say\", \"see\", \"see\", \"someon\", \"spend\", \"state\", \"state\", \"still\", \"stupid\", \"support\", \"system\", \"take\", \"tax\", \"terrorist\", \"thank\", \"that\", \"the\", \"the\", \"the\", \"the\", \"them\", \"there\", \"they\", \"thing\", \"thing\", \"think\", \"think\", \"this\", \"time\", \"tri\", \"trudeau\", \"true\", \"trump\", \"use\", \"victim\", \"vote\", \"want\", \"war\", \"way\", \"we\", \"well\", \"white\", \"women\", \"word\", \"work\", \"work\", \"world\", \"world\", \"would\", \"would\", \"year\", \"year\", \"you\"]}, \"R\": 30, \"lambda.step\": 0.01, \"plot.opts\": {\"xlab\": \"PC1\", \"ylab\": \"PC2\"}, \"topic.order\": [4, 1, 2, 5, 3]};\n",
       "\n",
       "function LDAvis_load_lib(url, callback){\n",
       "  var s = document.createElement('script');\n",
       "  s.src = url;\n",
       "  s.async = true;\n",
       "  s.onreadystatechange = s.onload = callback;\n",
       "  s.onerror = function(){console.warn(\"failed to load library \" + url);};\n",
       "  document.getElementsByTagName(\"head\")[0].appendChild(s);\n",
       "}\n",
       "\n",
       "if(typeof(LDAvis) !== \"undefined\"){\n",
       "   // already loaded: just create the visualization\n",
       "   !function(LDAvis){\n",
       "       new LDAvis(\"#\" + \"ldavis_el973227482256660487282990127\", ldavis_el973227482256660487282990127_data);\n",
       "   }(LDAvis);\n",
       "}else if(typeof define === \"function\" && define.amd){\n",
       "   // require.js is available: use it to load d3/LDAvis\n",
       "   require.config({paths: {d3: \"https://cdnjs.cloudflare.com/ajax/libs/d3/3.5.5/d3.min\"}});\n",
       "   require([\"d3\"], function(d3){\n",
       "      window.d3 = d3;\n",
       "      LDAvis_load_lib(\"https://cdn.rawgit.com/bmabey/pyLDAvis/files/ldavis.v1.0.0.js\", function(){\n",
       "        new LDAvis(\"#\" + \"ldavis_el973227482256660487282990127\", ldavis_el973227482256660487282990127_data);\n",
       "      });\n",
       "    });\n",
       "}else{\n",
       "    // require.js not available: dynamically load d3 & LDAvis\n",
       "    LDAvis_load_lib(\"https://cdnjs.cloudflare.com/ajax/libs/d3/3.5.5/d3.min.js\", function(){\n",
       "         LDAvis_load_lib(\"https://cdn.rawgit.com/bmabey/pyLDAvis/files/ldavis.v1.0.0.js\", function(){\n",
       "                 new LDAvis(\"#\" + \"ldavis_el973227482256660487282990127\", ldavis_el973227482256660487282990127_data);\n",
       "            })\n",
       "         });\n",
       "}\n",
       "</script>"
      ],
      "text/plain": [
       "PreparedData(topic_coordinates=              x         y  topics  cluster       Freq\n",
       "topic                                                \n",
       "3      0.228637 -0.297879       1        1  33.149094\n",
       "0      0.247276  0.331098       2        1  29.797672\n",
       "1     -0.201213 -0.001223       3        1  15.542610\n",
       "4     -0.250577  0.065287       4        1  11.533054\n",
       "2     -0.024122 -0.097282       5        1   9.977578, topic_info=     Category          Freq     Term         Total  loglift  logprob\n",
       "term                                                                \n",
       "188   Default  31881.000000    trump  31881.000000  30.0000  30.0000\n",
       "494   Default  30051.000000    peopl  30051.000000  29.0000  29.0000\n",
       "309   Default  27263.000000     like  27263.000000  28.0000  28.0000\n",
       "255   Default  22284.000000      get  22284.000000  27.0000  27.0000\n",
       "639   Default  20513.000000    would  20513.000000  26.0000  26.0000\n",
       "17    Default  10288.000000  countri  10288.000000  25.0000  25.0000\n",
       "2844  Default  18052.000000   stupid  18052.000000  24.0000  24.0000\n",
       "471   Default   8987.000000   govern   8987.000000  23.0000  23.0000\n",
       "492   Default  20566.000000      one  20566.000000  22.0000  22.0000\n",
       "477   Default  16277.000000       it  16277.000000  21.0000  21.0000\n",
       "879   Default   9749.000000    state   9749.000000  20.0000  20.0000\n",
       "57    Default   8152.000000    money   8152.000000  19.0000  19.0000\n",
       "328   Default  14065.000000     that  14065.000000  18.0000  18.0000\n",
       "530   Default   9063.000000     vote   9063.000000  17.0000  17.0000\n",
       "588   Default   8978.000000   presid   8978.000000  16.0000  16.0000\n",
       "172   Default  13719.000000     know  13719.000000  15.0000  15.0000\n",
       "380   Default   7190.000000      tax   7190.000000  14.0000  14.0000\n",
       "318   Default  13419.000000      say  13419.000000  13.0000  13.0000\n",
       "2268  Default   7188.000000      lie   7188.000000  12.0000  12.0000\n",
       "797   Default   6720.000000      pay   6720.000000  11.0000  11.0000\n",
       "86    Default   7142.000000    world   7142.000000  10.0000  10.0000\n",
       "212   Default  12517.000000    right  12517.000000   9.0000   9.0000\n",
       "424   Default  13462.000000     time  13462.000000   8.0000   8.0000\n",
       "1345  Default  13256.000000    white  13256.000000   7.0000   7.0000\n",
       "538   Default   7852.000000  support   7852.000000   6.0000   6.0000\n",
       "92    Default   7542.000000       he   7542.000000   5.0000   5.0000\n",
       "3478  Default   7311.000000    black   7311.000000   4.0000   4.0000\n",
       "1762  Default   7292.000000  comment   7292.000000   3.0000   3.0000\n",
       "504   Default  12043.000000     want  12043.000000   2.0000   2.0000\n",
       "146   Default  10849.000000      you  10849.000000   1.0000   1.0000\n",
       "...       ...           ...      ...           ...      ...      ...\n",
       "797    Topic5   6719.328613      pay   6720.135254   2.3047  -4.0350\n",
       "411    Topic5   4292.204590  million   4293.021484   2.3046  -4.4832\n",
       "889    Topic5   3801.755127     busi   3802.566406   2.3046  -4.6045\n",
       "223    Topic5   3346.808350   alaska   3347.617676   2.3046  -4.7320\n",
       "601    Topic5   3322.553467   system   3323.367188   2.3046  -4.7392\n",
       "130    Topic5   3156.715088  control   3157.535889   2.3046  -4.7904\n",
       "1248   Topic5   2765.949951   garbag   2766.769775   2.3045  -4.9226\n",
       "272    Topic5   2694.337891      oil   2695.138916   2.3045  -4.9488\n",
       "1038   Topic5   2612.471191  citizen   2613.288818   2.3045  -4.9797\n",
       "970    Topic5   2562.577148      cut   2563.384277   2.3045  -4.9990\n",
       "793    Topic5   2558.780762     cost   2559.588867   2.3045  -5.0004\n",
       "969    Topic5   2535.371826  compani   2536.178467   2.3045  -5.0096\n",
       "398    Topic5   2547.389404    death   2548.210449   2.3045  -5.0049\n",
       "1529   Topic5   2385.485596      buy   2386.296631   2.3045  -5.0706\n",
       "143    Topic5   2162.823730     save   2163.637207   2.3045  -5.1686\n",
       "303    Topic5   2091.999756     fund   2092.805420   2.3044  -5.2019\n",
       "999    Topic5   2072.102539    spend   2072.906738   2.3044  -5.2114\n",
       "1618   Topic5   2084.604492     plan   2085.416504   2.3044  -5.2054\n",
       "416    Topic5   2032.415894     paid   2033.223389   2.3044  -5.2307\n",
       "1010   Topic5   1823.578613   econom   1824.392822   2.3044  -5.3392\n",
       "534    Topic5   1782.074219  mention   1782.897827   2.3044  -5.3622\n",
       "132    Topic5   1749.413086    feder   1750.223633   2.3044  -5.3807\n",
       "472    Topic5   1745.284424   health   1746.093872   2.3044  -5.3831\n",
       "1400   Topic5   1716.841553      fix   1717.657959   2.3044  -5.3995\n",
       "401    Topic5   1681.283569  economi   1682.091919   2.3043  -5.4204\n",
       "392    Topic5   1622.633423  billion   1623.436646   2.3043  -5.4559\n",
       "2121   Topic5   1645.735352     rais   1646.552979   2.3043  -5.4418\n",
       "2034   Topic5   1631.724121   privat   1632.536499   2.3043  -5.4503\n",
       "879    Topic5   8662.911133    state   9749.313477   2.1867  -3.7809\n",
       "675    Topic5   3767.507080      job   5785.544922   1.8759  -4.6136\n",
       "\n",
       "[205 rows x 6 columns], token_table=      Topic      Freq      Term\n",
       "term                           \n",
       "852       3  0.999696       act\n",
       "223       5  0.999815    alaska\n",
       "99        1  0.999767      also\n",
       "388       3  0.999758   america\n",
       "558       3  0.999886  american\n",
       "5         2  0.999912       and\n",
       "125       2  0.999927     anoth\n",
       "1115      3  0.999609      anti\n",
       "126       2  0.999788     anyon\n",
       "1162      2  0.999868     anyth\n",
       "1718      3  0.999649    attack\n",
       "456       1  0.999813      back\n",
       "1037      2  0.999861    believ\n",
       "392       5  0.999731   billion\n",
       "3478      3  0.999847     black\n",
       "2868      4  0.999395     brain\n",
       "889       5  0.999851      busi\n",
       "1529      5  0.999457       buy\n",
       "10        2  0.982771      call\n",
       "10        3  0.017095      call\n",
       "234       1  0.020928       can\n",
       "234       2  0.979038       can\n",
       "298       4  0.999791    canada\n",
       "128       4  0.999891  canadian\n",
       "1412      4  0.999772     china\n",
       "2198      4  0.999831      citi\n",
       "1038      5  0.999507   citizen\n",
       "1578      3  0.999829   clinton\n",
       "238       1  0.999820      come\n",
       "1762      3  0.999861   comment\n",
       "...     ...       ...       ...\n",
       "452       1  0.004488     thing\n",
       "452       2  0.995373     thing\n",
       "434       1  0.368990     think\n",
       "434       2  0.630979     think\n",
       "288       2  0.999792      this\n",
       "424       1  0.999957      time\n",
       "145       2  0.999923       tri\n",
       "322       4  0.999750   trudeau\n",
       "544       3  0.999524      true\n",
       "188       3  0.999961     trump\n",
       "122       1  0.999928       use\n",
       "604       4  0.999687    victim\n",
       "530       3  0.999903      vote\n",
       "504       1  0.999916      want\n",
       "80        4  0.999829       war\n",
       "384       1  0.999934       way\n",
       "429       2  0.999915        we\n",
       "385       1  0.999832      well\n",
       "1345      1  0.999922     white\n",
       "859       3  0.999862     women\n",
       "1655      3  0.999674      word\n",
       "325       1  0.846280      work\n",
       "325       5  0.153587      work\n",
       "86        1  0.002940     world\n",
       "86        4  0.996985     world\n",
       "639       1  0.998794     would\n",
       "639       2  0.001170     would\n",
       "430       1  0.894520      year\n",
       "430       5  0.105418      year\n",
       "146       2  0.999935       you\n",
       "\n",
       "[203 rows x 3 columns], R=30, lambda_step=0.01, plot_opts={'xlab': 'PC1', 'ylab': 'PC2'}, topic_order=[4, 1, 2, 5, 3])"
      ]
     },
     "execution_count": 45,
     "metadata": {},
     "output_type": "execute_result"
    }
   ],
   "source": [
    "# Visualize the topics on train\n",
    "\n",
    "import pyLDAvis\n",
    "import pyLDAvis.gensim \n",
    "import matplotlib.pyplot as plt\n",
    "%matplotlib inline\n",
    " \n",
    "pyLDAvis.enable_notebook()\n",
    "\n",
    "vis = pyLDAvis.gensim.prepare(lda_model, corpus, dictionary)\n",
    "vis"
   ]
  },
  {
   "cell_type": "markdown",
   "metadata": {},
   "source": [
    "### 4.4) Testing model"
   ]
  },
  {
   "cell_type": "code",
   "execution_count": 46,
   "metadata": {},
   "outputs": [
    {
     "name": "stdout",
     "output_type": "stream",
     "text": [
      "[['integr', 'mean', 'pay', 'debt', 'doe', 'appli', 'presid', 'trump', 'too']]\n"
     ]
    }
   ],
   "source": [
    "data = df_test.comment_text.values.tolist()\n",
    "test_words = list(sent_to_words(data)) # corpus\n",
    "\n",
    "print(test_words[:1])\n",
    "\n",
    "# Term Document Frequency\n",
    "test_corpus = [dictionary.doc2bow(text) for text in test_words]"
   ]
  },
  {
   "cell_type": "code",
   "execution_count": 48,
   "metadata": {},
   "outputs": [
    {
     "data": {
      "text/html": [
       "\n",
       "<link rel=\"stylesheet\" type=\"text/css\" href=\"https://cdn.rawgit.com/bmabey/pyLDAvis/files/ldavis.v1.0.0.css\">\n",
       "\n",
       "\n",
       "<div id=\"ldavis_el973227481113922245860489148\"></div>\n",
       "<script type=\"text/javascript\">\n",
       "\n",
       "var ldavis_el973227481113922245860489148_data = {\"mdsDat\": {\"x\": [0.2286366665572232, 0.24727566542398466, -0.20121299195327927, -0.250576999921152, -0.02412234010677687], \"y\": [-0.29787888740400686, 0.33109812940088734, -0.0012233504824616687, 0.06528655323077621, -0.09728244474519461], \"topics\": [1, 2, 3, 4, 5], \"cluster\": [1, 1, 1, 1, 1], \"Freq\": [33.2293701171875, 29.404306411743164, 14.57393741607666, 11.42685604095459, 11.365534782409668]}, \"tinfo\": {\"Category\": [\"Default\", \"Default\", \"Default\", \"Default\", \"Default\", \"Default\", \"Default\", \"Default\", \"Default\", \"Default\", \"Default\", \"Default\", \"Default\", \"Default\", \"Default\", \"Default\", \"Default\", \"Default\", \"Default\", \"Default\", \"Default\", \"Default\", \"Default\", \"Default\", \"Default\", \"Default\", \"Default\", \"Default\", \"Default\", \"Default\", \"Topic1\", \"Topic1\", \"Topic1\", \"Topic1\", \"Topic1\", \"Topic1\", \"Topic1\", \"Topic1\", \"Topic1\", \"Topic1\", \"Topic1\", \"Topic1\", \"Topic1\", \"Topic1\", \"Topic1\", \"Topic1\", \"Topic1\", \"Topic1\", \"Topic1\", \"Topic1\", \"Topic1\", \"Topic1\", \"Topic1\", \"Topic1\", \"Topic1\", \"Topic1\", \"Topic1\", \"Topic1\", \"Topic1\", \"Topic1\", \"Topic1\", \"Topic1\", \"Topic1\", \"Topic1\", \"Topic1\", \"Topic1\", \"Topic1\", \"Topic2\", \"Topic2\", \"Topic2\", \"Topic2\", \"Topic2\", \"Topic2\", \"Topic2\", \"Topic2\", \"Topic2\", \"Topic2\", \"Topic2\", \"Topic2\", \"Topic2\", \"Topic2\", \"Topic2\", \"Topic2\", \"Topic2\", \"Topic2\", \"Topic2\", \"Topic2\", \"Topic2\", \"Topic2\", \"Topic2\", \"Topic2\", \"Topic2\", \"Topic2\", \"Topic2\", \"Topic2\", \"Topic2\", \"Topic2\", \"Topic2\", \"Topic2\", \"Topic2\", \"Topic2\", \"Topic2\", \"Topic2\", \"Topic2\", \"Topic2\", \"Topic2\", \"Topic3\", \"Topic3\", \"Topic3\", \"Topic3\", \"Topic3\", \"Topic3\", \"Topic3\", \"Topic3\", \"Topic3\", \"Topic3\", \"Topic3\", \"Topic3\", \"Topic3\", \"Topic3\", \"Topic3\", \"Topic3\", \"Topic3\", \"Topic3\", \"Topic3\", \"Topic3\", \"Topic3\", \"Topic3\", \"Topic3\", \"Topic3\", \"Topic3\", \"Topic3\", \"Topic3\", \"Topic3\", \"Topic3\", \"Topic3\", \"Topic3\", \"Topic3\", \"Topic3\", \"Topic4\", \"Topic4\", \"Topic4\", \"Topic4\", \"Topic4\", \"Topic4\", \"Topic4\", \"Topic4\", \"Topic4\", \"Topic4\", \"Topic4\", \"Topic4\", \"Topic4\", \"Topic4\", \"Topic4\", \"Topic4\", \"Topic4\", \"Topic4\", \"Topic4\", \"Topic4\", \"Topic4\", \"Topic4\", \"Topic4\", \"Topic4\", \"Topic4\", \"Topic4\", \"Topic4\", \"Topic4\", \"Topic4\", \"Topic4\", \"Topic4\", \"Topic4\", \"Topic4\", \"Topic5\", \"Topic5\", \"Topic5\", \"Topic5\", \"Topic5\", \"Topic5\", \"Topic5\", \"Topic5\", \"Topic5\", \"Topic5\", \"Topic5\", \"Topic5\", \"Topic5\", \"Topic5\", \"Topic5\", \"Topic5\", \"Topic5\", \"Topic5\", \"Topic5\", \"Topic5\", \"Topic5\", \"Topic5\", \"Topic5\", \"Topic5\", \"Topic5\", \"Topic5\", \"Topic5\", \"Topic5\", \"Topic5\", \"Topic5\", \"Topic5\", \"Topic5\", \"Topic5\"], \"Freq\": [21103.0, 21265.0, 18992.0, 15769.0, 14516.0, 7227.0, 7196.0, 12575.0, 7685.0, 14548.0, 6555.0, 11339.0, 5781.0, 9798.0, 5403.0, 9557.0, 5999.0, 5943.0, 9348.0, 5027.0, 4995.0, 8720.0, 9526.0, 9380.0, 5198.0, 4992.0, 8522.0, 4839.0, 4826.0, 7558.0, 21264.87109375, 15768.453125, 9526.0400390625, 9379.8876953125, 8521.498046875, 7890.396484375, 7546.9228515625, 6880.22802734375, 6716.078125, 6644.6904296875, 6525.55810546875, 6068.5595703125, 5486.2939453125, 5390.607421875, 5350.92578125, 5345.78759765625, 5328.8681640625, 5178.7685546875, 5161.84765625, 4991.9619140625, 4688.0712890625, 4662.13720703125, 4529.84326171875, 4325.68505859375, 4269.62158203125, 4233.97998046875, 3906.557373046875, 3901.5205078125, 3882.908935546875, 3859.3779296875, 14499.0927734375, 7968.365234375, 14225.7685546875, 4853.13720703125, 7013.71044921875, 5961.39013671875, 4823.6005859375, 12575.056640625, 11338.7275390625, 9797.7490234375, 9556.5673828125, 9347.732421875, 8719.5048828125, 7557.4228515625, 6382.47998046875, 6272.40087890625, 6071.07470703125, 5339.33447265625, 4853.81591796875, 4847.095703125, 4772.9287109375, 4733.41357421875, 4640.23681640625, 4546.00830078125, 4188.07080078125, 4109.6162109375, 4082.766357421875, 3662.619140625, 3606.233642578125, 3594.433349609375, 3529.182373046875, 3491.0439453125, 3451.132080078125, 3319.036865234375, 3284.05322265625, 3270.8125, 3231.216552734375, 18986.85546875, 6334.46484375, 4748.748046875, 6247.32177734375, 3893.842041015625, 4627.26318359375, 5276.83203125, 7866.9384765625, 6851.74365234375, 21102.6796875, 5999.111328125, 5942.43017578125, 5197.572265625, 4991.9873046875, 4838.90185546875, 4826.251953125, 4593.1083984375, 4112.552734375, 3990.111083984375, 3466.843505859375, 3398.275634765625, 3200.517333984375, 2918.599609375, 2804.77294921875, 2664.81982421875, 2621.7998046875, 2545.749755859375, 2413.0224609375, 2297.50048828125, 2144.12939453125, 1993.61767578125, 1968.901123046875, 1916.4417724609375, 1895.1185302734375, 1871.9388427734375, 1759.6839599609375, 1677.425048828125, 1644.1329345703125, 1606.984375, 3690.19482421875, 2130.60986328125, 1898.9090576171875, 7195.748046875, 5027.05517578125, 3716.496826171875, 3707.85546875, 3589.583740234375, 3576.664794921875, 2906.031982421875, 2567.98046875, 2431.197021484375, 2445.35693359375, 2361.267822265625, 2337.486083984375, 2321.3828125, 2146.925048828125, 2119.308837890625, 1916.6357421875, 1901.701171875, 1715.0859375, 1567.0943603515625, 1563.397705078125, 1551.1395263671875, 1499.864013671875, 1503.8055419921875, 1485.891845703125, 1481.26123046875, 1416.3057861328125, 1401.699462890625, 1362.2069091796875, 1297.1959228515625, 1273.65234375, 4980.828125, 1608.2647705078125, 1542.5628662109375, 7226.8173828125, 6554.71826171875, 5781.1806640625, 5403.2080078125, 3451.486572265625, 3057.10205078125, 2691.26611328125, 2671.76220703125, 2538.406494140625, 2224.180908203125, 2166.595703125, 2100.76416015625, 2060.642822265625, 2057.59033203125, 2038.7664794921875, 2048.43017578125, 1918.238525390625, 1739.189697265625, 1682.238037109375, 1666.238037109375, 1676.291259765625, 1634.324951171875, 1466.3927001953125, 1433.017822265625, 1406.754150390625, 1403.43408203125, 1380.5623779296875, 1351.9691162109375, 1304.806884765625, 1323.3837890625, 1312.116943359375, 6966.099609375, 3029.562255859375], \"Term\": [\"trump\", \"peopl\", \"like\", \"get\", \"would\", \"govern\", \"countri\", \"stupid\", \"state\", \"one\", \"money\", \"it\", \"tax\", \"that\", \"pay\", \"know\", \"vote\", \"presid\", \"say\", \"lie\", \"world\", \"right\", \"time\", \"white\", \"support\", \"he\", \"want\", \"black\", \"comment\", \"you\", \"peopl\", \"get\", \"time\", \"white\", \"want\", \"even\", \"idiot\", \"way\", \"use\", \"take\", \"go\", \"good\", \"never\", \"hate\", \"live\", \"liber\", \"much\", \"well\", \"come\", \"kill\", \"everi\", \"could\", \"back\", \"give\", \"day\", \"still\", \"them\", \"also\", \"they\", \"keep\", \"would\", \"need\", \"one\", \"let\", \"year\", \"see\", \"work\", \"stupid\", \"it\", \"that\", \"know\", \"say\", \"right\", \"you\", \"mani\", \"ignor\", \"look\", \"tri\", \"and\", \"believ\", \"anoth\", \"person\", \"racist\", \"fact\", \"polit\", \"post\", \"guy\", \"law\", \"anyth\", \"re\", \"anyon\", \"someon\", \"this\", \"we\", \"there\", \"point\", \"read\", \"like\", \"thing\", \"noth\", \"call\", \"said\", \"can\", \"realli\", \"make\", \"think\", \"trump\", \"vote\", \"presid\", \"support\", \"he\", \"black\", \"comment\", \"american\", \"elect\", \"women\", \"republican\", \"obama\", \"parti\", \"america\", \"democrat\", \"hillari\", \"clinton\", \"men\", \"attack\", \"hypocrit\", \"word\", \"donald\", \"name\", \"here\", \"act\", \"conserv\", \"true\", \"anti\", \"offic\", \"dog\", \"man\", \"left\", \"the\", \"countri\", \"lie\", \"muslim\", \"canada\", \"fool\", \"canadian\", \"war\", \"murder\", \"terrorist\", \"corrupt\", \"trudeau\", \"mental\", \"crimin\", \"thank\", \"crime\", \"illeg\", \"polic\", \"nonsens\", \"citi\", \"lol\", \"destroy\", \"immigr\", \"cop\", \"brain\", \"victim\", \"drug\", \"legal\", \"china\", \"ill\", \"hawaii\", \"world\", \"forc\", \"nation\", \"govern\", \"money\", \"tax\", \"pay\", \"million\", \"busi\", \"alaska\", \"system\", \"control\", \"garbag\", \"oil\", \"citizen\", \"cut\", \"cost\", \"compani\", \"death\", \"buy\", \"save\", \"fund\", \"spend\", \"plan\", \"paid\", \"econom\", \"mention\", \"feder\", \"health\", \"fix\", \"economi\", \"billion\", \"rais\", \"privat\", \"state\", \"job\"], \"Total\": [21103.0, 21265.0, 18992.0, 15769.0, 14516.0, 7227.0, 7196.0, 12575.0, 7685.0, 14548.0, 6555.0, 11339.0, 5781.0, 9798.0, 5403.0, 9557.0, 5999.0, 5943.0, 9348.0, 5027.0, 4995.0, 8720.0, 9526.0, 9380.0, 5198.0, 4992.0, 8522.0, 4839.0, 4826.0, 7558.0, 21265.48046875, 15769.0625, 9526.6494140625, 9380.49609375, 8522.107421875, 7891.0078125, 7547.53173828125, 6880.8369140625, 6716.689453125, 6645.2998046875, 6526.16748046875, 6069.16796875, 5486.90283203125, 5391.21875, 5351.53466796875, 5346.3974609375, 5329.47802734375, 5179.37744140625, 5162.4560546875, 4992.56982421875, 4688.68115234375, 4662.74658203125, 4530.451171875, 4326.29443359375, 4270.22998046875, 4234.59130859375, 3907.165771484375, 3902.130615234375, 3883.517333984375, 3859.986572265625, 14516.064453125, 8008.201171875, 14548.5078125, 4982.21923828125, 7953.0654296875, 7146.99658203125, 5818.71630859375, 12575.669921875, 11339.3408203125, 9798.3623046875, 9557.1806640625, 9348.345703125, 8720.1181640625, 7558.03466796875, 6383.095703125, 6273.01416015625, 6071.689453125, 5339.9482421875, 4854.4296875, 4847.708984375, 4773.54443359375, 4734.02685546875, 4640.84814453125, 4546.62109375, 4188.68603515625, 4110.2275390625, 4083.379638671875, 3663.2314453125, 3606.847412109375, 3595.046142578125, 3529.796630859375, 3491.65576171875, 3451.746826171875, 3319.651123046875, 3284.66748046875, 3271.425048828125, 3231.82763671875, 18992.09375, 6364.19482421875, 4764.59814453125, 6351.322265625, 3924.66064453125, 4728.24609375, 5694.4736328125, 10998.935546875, 10922.5458984375, 21103.3046875, 5999.740234375, 5943.05517578125, 5198.201171875, 4992.61474609375, 4839.5302734375, 4826.88232421875, 4593.7373046875, 4113.18017578125, 3990.739501953125, 3467.469970703125, 3398.900390625, 3201.14453125, 2919.2265625, 2805.39794921875, 2665.44482421875, 2622.423828125, 2546.37890625, 2413.65185546875, 2298.131103515625, 2144.757568359375, 1994.2430419921875, 1969.53076171875, 1917.07373046875, 1895.7486572265625, 1872.567626953125, 1760.3145751953125, 1678.0517578125, 1644.760498046875, 1607.6168212890625, 4118.03955078125, 3851.085205078125, 6263.97998046875, 7196.3603515625, 5027.66748046875, 3717.102783203125, 3708.465087890625, 3590.196533203125, 3577.292724609375, 2906.642578125, 2568.58984375, 2431.8056640625, 2445.970458984375, 2361.88134765625, 2338.09765625, 2321.993408203125, 2147.5390625, 2119.918701171875, 1917.2454833984375, 1902.3114013671875, 1715.6995849609375, 1567.703857421875, 1564.0128173828125, 1551.75341796875, 1500.47216796875, 1504.4188232421875, 1486.5050048828125, 1481.87255859375, 1416.9156494140625, 1402.31005859375, 1362.817138671875, 1297.80859375, 1274.2669677734375, 4995.8798828125, 1758.0460205078125, 3070.430908203125, 7227.37939453125, 6555.27783203125, 5781.73583984375, 5403.76611328125, 3452.0517578125, 3057.663330078125, 2691.826171875, 2672.325439453125, 2538.974365234375, 2224.748046875, 2167.14990234375, 2101.329833984375, 2061.201416015625, 2058.1494140625, 2039.3245849609375, 2048.998291015625, 1918.7998046875, 1739.752685546875, 1682.7955322265625, 1666.7945556640625, 1676.8531494140625, 1634.8836669921875, 1466.9560546875, 1433.587646484375, 1407.31494140625, 1403.9942626953125, 1381.1273193359375, 1352.5284423828125, 1305.3626708984375, 1323.9495849609375, 1312.6790771484375, 7685.24951171875, 4457.5908203125], \"loglift\": [30.0, 29.0, 28.0, 27.0, 26.0, 25.0, 24.0, 23.0, 22.0, 21.0, 20.0, 19.0, 18.0, 17.0, 16.0, 15.0, 14.0, 13.0, 12.0, 11.0, 10.0, 9.0, 8.0, 7.0, 6.0, 5.0, 4.0, 3.0, 2.0, 1.0, 1.101699948310852, 1.101699948310852, 1.101699948310852, 1.101699948310852, 1.101699948310852, 1.101699948310852, 1.101699948310852, 1.1016000509262085, 1.1016000509262085, 1.1016000509262085, 1.1016000509262085, 1.1016000509262085, 1.1016000509262085, 1.1016000509262085, 1.1016000509262085, 1.1016000509262085, 1.1016000509262085, 1.1016000509262085, 1.1016000509262085, 1.1016000509262085, 1.1016000509262085, 1.1016000509262085, 1.1016000509262085, 1.1016000509262085, 1.1016000509262085, 1.1016000509262085, 1.1016000509262085, 1.1016000509262085, 1.1016000509262085, 1.1016000509262085, 1.100600004196167, 1.0966999530792236, 1.079300045967102, 1.0755000114440918, 0.9760000109672546, 0.9203000068664551, 0.9142000079154968, 1.2239999771118164, 1.2239999771118164, 1.2239999771118164, 1.2239999771118164, 1.2239999771118164, 1.2239999771118164, 1.2238999605178833, 1.2238999605178833, 1.2238999605178833, 1.2238999605178833, 1.2238999605178833, 1.2238999605178833, 1.2238999605178833, 1.2238999605178833, 1.2238999605178833, 1.2238999605178833, 1.2238999605178833, 1.2238999605178833, 1.2238999605178833, 1.2238999605178833, 1.2238999605178833, 1.2238999605178833, 1.2238999605178833, 1.2238999605178833, 1.2238999605178833, 1.2238999605178833, 1.2237999439239502, 1.2237999439239502, 1.2237999439239502, 1.2237999439239502, 1.2237999439239502, 1.2193000316619873, 1.2207000255584717, 1.2074999809265137, 1.2160999774932861, 1.2023999691009521, 1.1478999853134155, 0.8888999819755554, 0.7577000260353088, 1.9258999824523926, 1.9257999658584595, 1.9257999658584595, 1.9257999658584595, 1.9257999658584595, 1.9257999658584595, 1.9257999658584595, 1.9257999658584595, 1.9257999658584595, 1.9257999658584595, 1.9257999658584595, 1.9257999658584595, 1.9256999492645264, 1.9256999492645264, 1.9256999492645264, 1.9256999492645264, 1.9256999492645264, 1.9256999492645264, 1.9256999492645264, 1.9256999492645264, 1.9256000518798828, 1.9256000518798828, 1.9256000518798828, 1.9256000518798828, 1.9256000518798828, 1.9256000518798828, 1.9256000518798828, 1.9256000518798828, 1.9256000518798828, 1.9255000352859497, 1.8162000179290771, 1.3339999914169312, 0.7324000000953674, 2.169100046157837, 2.169100046157837, 2.1689999103546143, 2.1689999103546143, 2.1689999103546143, 2.1689999103546143, 2.1689999103546143, 2.1689999103546143, 2.1689999103546143, 2.1689999103546143, 2.1689000129699707, 2.1689000129699707, 2.1689000129699707, 2.1689000129699707, 2.1689000129699707, 2.1689000129699707, 2.1689000129699707, 2.168800115585327, 2.168800115585327, 2.168800115585327, 2.168800115585327, 2.168800115585327, 2.168800115585327, 2.168800115585327, 2.168800115585327, 2.168800115585327, 2.168800115585327, 2.168800115585327, 2.1686999797821045, 2.1686999797821045, 2.1661999225616455, 2.080199956893921, 1.4808000326156616, 2.174499988555908, 2.174499988555908, 2.174499988555908, 2.174499988555908, 2.1744000911712646, 2.1744000911712646, 2.1744000911712646, 2.1744000911712646, 2.1744000911712646, 2.174299955368042, 2.174299955368042, 2.174299955368042, 2.174299955368042, 2.174299955368042, 2.174299955368042, 2.174299955368042, 2.174299955368042, 2.174299955368042, 2.174299955368042, 2.174299955368042, 2.1742000579833984, 2.1742000579833984, 2.1742000579833984, 2.1742000579833984, 2.1742000579833984, 2.1742000579833984, 2.1742000579833984, 2.1742000579833984, 2.1742000579833984, 2.1742000579833984, 2.1742000579833984, 2.0762999057769775, 1.7884000539779663], \"logprob\": [30.0, 29.0, 28.0, 27.0, 26.0, 25.0, 24.0, 23.0, 22.0, 21.0, 20.0, 19.0, 18.0, 17.0, 16.0, 15.0, 14.0, 13.0, 12.0, 11.0, 10.0, 9.0, 8.0, 7.0, 6.0, 5.0, 4.0, 3.0, 2.0, 1.0, -3.737799882888794, -4.036799907684326, -4.540800094604492, -4.556300163269043, -4.652200222015381, -4.7291998863220215, -4.77370023727417, -4.866199970245361, -4.8902997970581055, -4.901000022888184, -4.919099807739258, -4.991700172424316, -5.092599868774414, -5.110199928283691, -5.117599964141846, -5.118500232696533, -5.121699810028076, -5.150300025939941, -5.153500080108643, -5.186999797821045, -5.249800205230713, -5.25540018081665, -5.28410005569458, -5.3302998542785645, -5.343299865722656, -5.3516998291015625, -5.432199954986572, -5.433499813079834, -5.438199996948242, -5.444300174713135, -4.120699882507324, -4.719299793243408, -4.139800071716309, -5.215199947357178, -4.8470001220703125, -5.009500026702881, -5.22130012512207, -4.1407999992370605, -4.24429988861084, -4.390399932861328, -4.415299892425537, -4.437399864196777, -4.506999969482422, -4.650000095367432, -4.818999767303467, -4.836400032043457, -4.86899995803833, -4.997399806976318, -5.092800140380859, -5.094200134277344, -5.109600067138672, -5.1178998947143555, -5.137800216674805, -5.158299922943115, -5.240300178527832, -5.259200096130371, -5.2657999992370605, -5.3744001388549805, -5.389900207519531, -5.393099784851074, -5.411499977111816, -5.422299861907959, -5.433800220489502, -5.472899913787842, -5.483500003814697, -5.487500190734863, -5.49970006942749, -3.728800058364868, -4.826499938964844, -5.114699840545654, -4.840400218963623, -5.3130998611450195, -5.140600204467773, -5.009200096130371, -4.609899997711182, -4.748000144958496, -2.9212000370025635, -4.178999900817871, -4.188499927520752, -4.322400093078613, -4.362800121307373, -4.393899917602539, -4.396599769592285, -4.446100234985352, -4.556600093841553, -4.5868000984191895, -4.727399826049805, -4.747399806976318, -4.807300090789795, -4.899499893188477, -4.939300060272217, -4.990499973297119, -5.006800174713135, -5.036200046539307, -5.089700222015381, -5.138800144195557, -5.207900047302246, -5.280700206756592, -5.2932000160217285, -5.320199966430664, -5.331299781799316, -5.343699932098389, -5.4054999351501465, -5.453400135040283, -5.473400115966797, -5.496300220489502, -4.664899826049805, -5.214200019836426, -5.3292999267578125, -3.7539000511169434, -4.112500190734863, -4.414599895477295, -4.416900157928467, -4.4492998123168945, -4.452899932861328, -4.660600185394287, -4.784200191497803, -4.839000225067139, -4.833199977874756, -4.868199825286865, -4.878300189971924, -4.885200023651123, -4.9633002281188965, -4.97629976272583, -5.0767998695373535, -5.08459997177124, -5.187900066375732, -5.27810001373291, -5.2804999351501465, -5.288400173187256, -5.322000026702881, -5.319399833679199, -5.331299781799316, -5.334499835968018, -5.379300117492676, -5.389699935913086, -5.418300151824951, -5.467199802398682, -5.485499858856201, -4.121799945831299, -5.252200126647949, -5.293900012969971, -3.7441999912261963, -3.8417999744415283, -3.967400074005127, -4.034999847412109, -4.4832000732421875, -4.604499816894531, -4.73199987411499, -4.739200115203857, -4.79040002822876, -4.922599792480469, -4.948800086975098, -4.979700088500977, -4.999000072479248, -5.000400066375732, -5.0096001625061035, -5.004899978637695, -5.0706000328063965, -5.168600082397461, -5.201900005340576, -5.211400032043457, -5.205399990081787, -5.2307000160217285, -5.339200019836426, -5.362199783325195, -5.38070011138916, -5.3831000328063965, -5.399499893188477, -5.420400142669678, -5.455900192260742, -5.441800117492676, -5.450300216674805, -3.780900001525879, -4.61359977722168]}, \"token.table\": {\"Topic\": [3, 5, 1, 3, 3, 2, 2, 3, 2, 2, 3, 1, 2, 5, 3, 4, 5, 5, 2, 3, 1, 2, 4, 4, 4, 4, 5, 3, 1, 3, 5, 3, 5, 4, 4, 5, 1, 4, 4, 4, 5, 1, 5, 3, 4, 3, 3, 4, 5, 5, 3, 1, 1, 2, 5, 5, 4, 1, 4, 5, 5, 5, 1, 1, 1, 1, 5, 2, 1, 4, 3, 5, 3, 3, 3, 1, 2, 4, 4, 4, 2, 1, 5, 1, 1, 2, 2, 1, 2, 3, 4, 1, 2, 1, 4, 1, 2, 1, 4, 2, 1, 2, 2, 3, 2, 3, 4, 5, 5, 5, 1, 4, 4, 3, 3, 4, 1, 5, 1, 4, 1, 2, 3, 3, 5, 1, 2, 5, 3, 5, 1, 2, 5, 2, 4, 2, 2, 3, 5, 2, 5, 2, 2, 1, 2, 3, 2, 2, 3, 5, 2, 1, 2, 2, 5, 3, 5, 1, 2, 3, 5, 1, 5, 4, 4, 2, 2, 3, 4, 5, 1, 2, 1, 1, 2, 1, 2, 2, 1, 2, 4, 3, 3, 1, 4, 3, 1, 4, 1, 2, 1, 1, 3, 3, 1, 5, 1, 4, 1, 2, 1, 5, 2], \"Freq\": [0.9996050596237183, 0.9996930956840515, 0.9999665021896362, 0.9999223947525024, 0.9998394846916199, 0.9999114871025085, 0.9998859763145447, 0.999373197555542, 0.9997743368148804, 0.9997650384902954, 0.9997299313545227, 0.9999004006385803, 0.9998537302017212, 0.9997221827507019, 0.9998904466629028, 0.9996602535247803, 0.9997830390930176, 0.9995831847190857, 0.9835746884346008, 0.01637454330921173, 0.021360985934734344, 0.9785869717597961, 0.9998745918273926, 0.9999181628227234, 0.9994003772735596, 0.999550998210907, 0.9998430609703064, 0.9998384118080139, 0.9999116659164429, 0.9998171925544739, 0.9998408555984497, 0.9996968507766724, 0.999616265296936, 0.9997215867042542, 0.999603271484375, 0.9999274015426636, 0.9998399019241333, 0.9999499320983887, 0.9995666146278381, 0.9995721578598022, 0.9999023079872131, 0.999946117401123, 0.999512791633606, 0.9998581409454346, 0.9995144605636597, 0.9996163249015808, 0.9998781085014343, 0.9993537664413452, 0.9993482828140259, 0.9996092915534973, 0.9999561905860901, 0.9998722672462463, 0.9998547434806824, 0.9998633861541748, 0.9997761845588684, 0.9999077916145325, 0.9999452829360962, 0.02900948002934456, 0.9146518111228943, 0.05574370548129082, 0.9995272755622864, 0.999663770198822, 0.9999326467514038, 0.9999319314956665, 0.9999743103981018, 0.9999723434448242, 0.9999474883079529, 0.9999070167541504, 0.999959409236908, 0.9997904896736145, 0.999876856803894, 0.9992918372154236, 0.9994398951530457, 0.9998331069946289, 0.99994295835495, 0.9999295473098755, 0.9998383522033691, 0.9993769526481628, 0.9998719692230225, 0.9996853470802307, 0.9999699592590332, 0.3203524053096771, 0.6797393560409546, 0.9997444152832031, 0.9998858571052551, 0.9999811053276062, 0.9999368190765381, 0.44325166940689087, 0.0033756718039512634, 0.5533505082130432, 0.9997788667678833, 0.9740639328956604, 0.025892077013850212, 0.9999256730079651, 0.9998672604560852, 0.0002632674586493522, 0.9997317790985107, 0.9999001026153564, 0.9993523955345154, 0.9998864531517029, 0.28475484251976013, 0.7152510285377502, 0.10369011759757996, 0.8960574269294739, 0.9998283386230469, 0.9998512268066406, 0.999530553817749, 0.9995900988578796, 0.9996953010559082, 0.9999576210975647, 0.999910295009613, 0.9997703433036804, 0.9997033476829529, 0.9997305274009705, 0.4973243176937103, 0.502535343170166, 0.994979977607727, 0.004870007745921612, 0.9998354315757751, 0.9995922446250916, 0.0031482193153351545, 0.9967262148857117, 0.9997351169586182, 0.9995376467704773, 0.9999308586120605, 0.9778322577476501, 0.022132854908704758, 0.9994595050811768, 0.999954879283905, 0.9998582005500793, 0.9999774098396301, 0.9997830986976624, 0.9994912147521973, 0.9998700618743896, 0.9998363256454468, 0.9998362064361572, 0.9999446272850037, 0.9998224377632141, 0.9994826912879944, 0.9998172521591187, 0.9992827773094177, 0.9997090101242065, 0.9997439384460449, 0.07322889566421509, 0.9266879558563232, 0.9998644590377808, 0.999986469745636, 0.9921876788139343, 0.007643972989171743, 0.9995673894882202, 0.9999630451202393, 0.8340566754341125, 0.1658039093017578, 0.9998121857643127, 0.9995232820510864, 0.09355584532022476, 0.9064117074012756, 0.9998603463172913, 0.9999467134475708, 0.9999613165855408, 0.9998782277107239, 0.999954879283905, 0.9998727440834045, 0.9996687173843384, 0.9997490048408508, 0.9999630451202393, 0.5817387700080872, 0.3031618893146515, 0.054438233375549316, 0.06050466373562813, 0.9999575614929199, 0.9997968077659607, 0.999866783618927, 0.004556742962449789, 0.9952555298805237, 0.3726237416267395, 0.627326250076294, 0.9997836351394653, 0.999931812286377, 0.9998224377632141, 0.9996268153190613, 0.9998213052749634, 0.9999855756759644, 0.9998973608016968, 0.9994111657142639, 0.9998766183853149, 0.9998700618743896, 0.9997789263725281, 0.9998783469200134, 0.9998038411140442, 0.9999271035194397, 0.9999471306800842, 0.9998146891593933, 0.999646782875061, 0.8290488123893738, 0.1709999144077301, 0.003002474084496498, 0.9970215559005737, 0.998824417591095, 0.0011711163679137826, 0.8819240927696228, 0.1180676817893982, 0.9998630881309509], \"Term\": [\"act\", \"alaska\", \"also\", \"america\", \"american\", \"and\", \"anoth\", \"anti\", \"anyon\", \"anyth\", \"attack\", \"back\", \"believ\", \"billion\", \"black\", \"brain\", \"busi\", \"buy\", \"call\", \"call\", \"can\", \"can\", \"canada\", \"canadian\", \"china\", \"citi\", \"citizen\", \"clinton\", \"come\", \"comment\", \"compani\", \"conserv\", \"control\", \"cop\", \"corrupt\", \"cost\", \"could\", \"countri\", \"crime\", \"crimin\", \"cut\", \"day\", \"death\", \"democrat\", \"destroy\", \"dog\", \"donald\", \"drug\", \"econom\", \"economi\", \"elect\", \"even\", \"everi\", \"fact\", \"feder\", \"fix\", \"fool\", \"forc\", \"forc\", \"forc\", \"fund\", \"garbag\", \"get\", \"give\", \"go\", \"good\", \"govern\", \"guy\", \"hate\", \"hawaii\", \"he\", \"health\", \"here\", \"hillari\", \"hypocrit\", \"idiot\", \"ignor\", \"ill\", \"illeg\", \"immigr\", \"it\", \"job\", \"job\", \"keep\", \"kill\", \"know\", \"law\", \"left\", \"left\", \"left\", \"legal\", \"let\", \"let\", \"liber\", \"lie\", \"like\", \"like\", \"live\", \"lol\", \"look\", \"make\", \"make\", \"man\", \"man\", \"mani\", \"men\", \"mental\", \"mention\", \"million\", \"money\", \"much\", \"murder\", \"muslim\", \"name\", \"nation\", \"nation\", \"need\", \"need\", \"never\", \"nonsens\", \"noth\", \"noth\", \"obama\", \"offic\", \"oil\", \"one\", \"one\", \"paid\", \"parti\", \"pay\", \"peopl\", \"person\", \"plan\", \"point\", \"polic\", \"polit\", \"post\", \"presid\", \"privat\", \"racist\", \"rais\", \"re\", \"read\", \"realli\", \"realli\", \"republican\", \"right\", \"said\", \"said\", \"save\", \"say\", \"see\", \"see\", \"someon\", \"spend\", \"state\", \"state\", \"still\", \"stupid\", \"support\", \"system\", \"take\", \"tax\", \"terrorist\", \"thank\", \"that\", \"the\", \"the\", \"the\", \"the\", \"them\", \"there\", \"they\", \"thing\", \"thing\", \"think\", \"think\", \"this\", \"time\", \"tri\", \"trudeau\", \"true\", \"trump\", \"use\", \"victim\", \"vote\", \"want\", \"war\", \"way\", \"we\", \"well\", \"white\", \"women\", \"word\", \"work\", \"work\", \"world\", \"world\", \"would\", \"would\", \"year\", \"year\", \"you\"]}, \"R\": 30, \"lambda.step\": 0.01, \"plot.opts\": {\"xlab\": \"PC1\", \"ylab\": \"PC2\"}, \"topic.order\": [4, 1, 2, 5, 3]};\n",
       "\n",
       "function LDAvis_load_lib(url, callback){\n",
       "  var s = document.createElement('script');\n",
       "  s.src = url;\n",
       "  s.async = true;\n",
       "  s.onreadystatechange = s.onload = callback;\n",
       "  s.onerror = function(){console.warn(\"failed to load library \" + url);};\n",
       "  document.getElementsByTagName(\"head\")[0].appendChild(s);\n",
       "}\n",
       "\n",
       "if(typeof(LDAvis) !== \"undefined\"){\n",
       "   // already loaded: just create the visualization\n",
       "   !function(LDAvis){\n",
       "       new LDAvis(\"#\" + \"ldavis_el973227481113922245860489148\", ldavis_el973227481113922245860489148_data);\n",
       "   }(LDAvis);\n",
       "}else if(typeof define === \"function\" && define.amd){\n",
       "   // require.js is available: use it to load d3/LDAvis\n",
       "   require.config({paths: {d3: \"https://cdnjs.cloudflare.com/ajax/libs/d3/3.5.5/d3.min\"}});\n",
       "   require([\"d3\"], function(d3){\n",
       "      window.d3 = d3;\n",
       "      LDAvis_load_lib(\"https://cdn.rawgit.com/bmabey/pyLDAvis/files/ldavis.v1.0.0.js\", function(){\n",
       "        new LDAvis(\"#\" + \"ldavis_el973227481113922245860489148\", ldavis_el973227481113922245860489148_data);\n",
       "      });\n",
       "    });\n",
       "}else{\n",
       "    // require.js not available: dynamically load d3 & LDAvis\n",
       "    LDAvis_load_lib(\"https://cdnjs.cloudflare.com/ajax/libs/d3/3.5.5/d3.min.js\", function(){\n",
       "         LDAvis_load_lib(\"https://cdn.rawgit.com/bmabey/pyLDAvis/files/ldavis.v1.0.0.js\", function(){\n",
       "                 new LDAvis(\"#\" + \"ldavis_el973227481113922245860489148\", ldavis_el973227481113922245860489148_data);\n",
       "            })\n",
       "         });\n",
       "}\n",
       "</script>"
      ],
      "text/plain": [
       "PreparedData(topic_coordinates=              x         y  topics  cluster       Freq\n",
       "topic                                                \n",
       "3      0.228637 -0.297879       1        1  33.229370\n",
       "0      0.247276  0.331098       2        1  29.404306\n",
       "1     -0.201213 -0.001223       3        1  14.573937\n",
       "4     -0.250577  0.065287       4        1  11.426856\n",
       "2     -0.024122 -0.097282       5        1  11.365535, topic_info=     Category          Freq     Term         Total  loglift  logprob\n",
       "term                                                                \n",
       "188   Default  21103.000000    trump  21103.000000  30.0000  30.0000\n",
       "494   Default  21265.000000    peopl  21265.000000  29.0000  29.0000\n",
       "309   Default  18992.000000     like  18992.000000  28.0000  28.0000\n",
       "255   Default  15769.000000      get  15769.000000  27.0000  27.0000\n",
       "639   Default  14516.000000    would  14516.000000  26.0000  26.0000\n",
       "471   Default   7227.000000   govern   7227.000000  25.0000  25.0000\n",
       "17    Default   7196.000000  countri   7196.000000  24.0000  24.0000\n",
       "2844  Default  12575.000000   stupid  12575.000000  23.0000  23.0000\n",
       "879   Default   7685.000000    state   7685.000000  22.0000  22.0000\n",
       "492   Default  14548.000000      one  14548.000000  21.0000  21.0000\n",
       "57    Default   6555.000000    money   6555.000000  20.0000  20.0000\n",
       "477   Default  11339.000000       it  11339.000000  19.0000  19.0000\n",
       "380   Default   5781.000000      tax   5781.000000  18.0000  18.0000\n",
       "328   Default   9798.000000     that   9798.000000  17.0000  17.0000\n",
       "797   Default   5403.000000      pay   5403.000000  16.0000  16.0000\n",
       "172   Default   9557.000000     know   9557.000000  15.0000  15.0000\n",
       "530   Default   5999.000000     vote   5999.000000  14.0000  14.0000\n",
       "588   Default   5943.000000   presid   5943.000000  13.0000  13.0000\n",
       "318   Default   9348.000000      say   9348.000000  12.0000  12.0000\n",
       "2268  Default   5027.000000      lie   5027.000000  11.0000  11.0000\n",
       "86    Default   4995.000000    world   4995.000000  10.0000  10.0000\n",
       "212   Default   8720.000000    right   8720.000000   9.0000   9.0000\n",
       "424   Default   9526.000000     time   9526.000000   8.0000   8.0000\n",
       "1345  Default   9380.000000    white   9380.000000   7.0000   7.0000\n",
       "538   Default   5198.000000  support   5198.000000   6.0000   6.0000\n",
       "92    Default   4992.000000       he   4992.000000   5.0000   5.0000\n",
       "504   Default   8522.000000     want   8522.000000   4.0000   4.0000\n",
       "3478  Default   4839.000000    black   4839.000000   3.0000   3.0000\n",
       "1762  Default   4826.000000  comment   4826.000000   2.0000   2.0000\n",
       "146   Default   7558.000000      you   7558.000000   1.0000   1.0000\n",
       "...       ...           ...      ...           ...      ...      ...\n",
       "797    Topic5   5403.208008      pay   5403.766113   2.1745  -4.0350\n",
       "411    Topic5   3451.486572  million   3452.051758   2.1744  -4.4832\n",
       "889    Topic5   3057.102051     busi   3057.663330   2.1744  -4.6045\n",
       "223    Topic5   2691.266113   alaska   2691.826172   2.1744  -4.7320\n",
       "601    Topic5   2671.762207   system   2672.325439   2.1744  -4.7392\n",
       "130    Topic5   2538.406494  control   2538.974365   2.1744  -4.7904\n",
       "1248   Topic5   2224.180908   garbag   2224.748047   2.1743  -4.9226\n",
       "272    Topic5   2166.595703      oil   2167.149902   2.1743  -4.9488\n",
       "1038   Topic5   2100.764160  citizen   2101.329834   2.1743  -4.9797\n",
       "970    Topic5   2060.642822      cut   2061.201416   2.1743  -4.9990\n",
       "793    Topic5   2057.590332     cost   2058.149414   2.1743  -5.0004\n",
       "969    Topic5   2038.766479  compani   2039.324585   2.1743  -5.0096\n",
       "398    Topic5   2048.430176    death   2048.998291   2.1743  -5.0049\n",
       "1529   Topic5   1918.238525      buy   1918.799805   2.1743  -5.0706\n",
       "143    Topic5   1739.189697     save   1739.752686   2.1743  -5.1686\n",
       "303    Topic5   1682.238037     fund   1682.795532   2.1743  -5.2019\n",
       "999    Topic5   1666.238037    spend   1666.794556   2.1743  -5.2114\n",
       "1618   Topic5   1676.291260     plan   1676.853149   2.1742  -5.2054\n",
       "416    Topic5   1634.324951     paid   1634.883667   2.1742  -5.2307\n",
       "1010   Topic5   1466.392700   econom   1466.956055   2.1742  -5.3392\n",
       "534    Topic5   1433.017822  mention   1433.587646   2.1742  -5.3622\n",
       "132    Topic5   1406.754150    feder   1407.314941   2.1742  -5.3807\n",
       "472    Topic5   1403.434082   health   1403.994263   2.1742  -5.3831\n",
       "1400   Topic5   1380.562378      fix   1381.127319   2.1742  -5.3995\n",
       "401    Topic5   1351.969116  economi   1352.528442   2.1742  -5.4204\n",
       "392    Topic5   1304.806885  billion   1305.362671   2.1742  -5.4559\n",
       "2121   Topic5   1323.383789     rais   1323.949585   2.1742  -5.4418\n",
       "2034   Topic5   1312.116943   privat   1312.679077   2.1742  -5.4503\n",
       "879    Topic5   6966.099609    state   7685.249512   2.0763  -3.7809\n",
       "675    Topic5   3029.562256      job   4457.590820   1.7884  -4.6136\n",
       "\n",
       "[205 rows x 6 columns], token_table=      Topic      Freq      Term\n",
       "term                           \n",
       "852       3  0.999605       act\n",
       "223       5  0.999693    alaska\n",
       "99        1  0.999967      also\n",
       "388       3  0.999922   america\n",
       "558       3  0.999839  american\n",
       "5         2  0.999911       and\n",
       "125       2  0.999886     anoth\n",
       "1115      3  0.999373      anti\n",
       "126       2  0.999774     anyon\n",
       "1162      2  0.999765     anyth\n",
       "1718      3  0.999730    attack\n",
       "456       1  0.999900      back\n",
       "1037      2  0.999854    believ\n",
       "392       5  0.999722   billion\n",
       "3478      3  0.999890     black\n",
       "2868      4  0.999660     brain\n",
       "889       5  0.999783      busi\n",
       "1529      5  0.999583       buy\n",
       "10        2  0.983575      call\n",
       "10        3  0.016375      call\n",
       "234       1  0.021361       can\n",
       "234       2  0.978587       can\n",
       "298       4  0.999875    canada\n",
       "128       4  0.999918  canadian\n",
       "1412      4  0.999400     china\n",
       "2198      4  0.999551      citi\n",
       "1038      5  0.999843   citizen\n",
       "1578      3  0.999838   clinton\n",
       "238       1  0.999912      come\n",
       "1762      3  0.999817   comment\n",
       "...     ...       ...       ...\n",
       "452       1  0.004557     thing\n",
       "452       2  0.995256     thing\n",
       "434       1  0.372624     think\n",
       "434       2  0.627326     think\n",
       "288       2  0.999784      this\n",
       "424       1  0.999932      time\n",
       "145       2  0.999822       tri\n",
       "322       4  0.999627   trudeau\n",
       "544       3  0.999821      true\n",
       "188       3  0.999986     trump\n",
       "122       1  0.999897       use\n",
       "604       4  0.999411    victim\n",
       "530       3  0.999877      vote\n",
       "504       1  0.999870      want\n",
       "80        4  0.999779       war\n",
       "384       1  0.999878       way\n",
       "429       2  0.999804        we\n",
       "385       1  0.999927      well\n",
       "1345      1  0.999947     white\n",
       "859       3  0.999815     women\n",
       "1655      3  0.999647      word\n",
       "325       1  0.829049      work\n",
       "325       5  0.171000      work\n",
       "86        1  0.003002     world\n",
       "86        4  0.997022     world\n",
       "639       1  0.998824     would\n",
       "639       2  0.001171     would\n",
       "430       1  0.881924      year\n",
       "430       5  0.118068      year\n",
       "146       2  0.999863       you\n",
       "\n",
       "[203 rows x 3 columns], R=30, lambda_step=0.01, plot_opts={'xlab': 'PC1', 'ylab': 'PC2'}, topic_order=[4, 1, 2, 5, 3])"
      ]
     },
     "execution_count": 48,
     "metadata": {},
     "output_type": "execute_result"
    }
   ],
   "source": [
    "vis = pyLDAvis.gensim.prepare(lda_model, test_corpus, dictionary)\n",
    "vis"
   ]
  },
  {
   "cell_type": "markdown",
   "metadata": {},
   "source": [
    "### 4.5) Converting Topics to Feature Vectors"
   ]
  },
  {
   "cell_type": "code",
   "execution_count": 68,
   "metadata": {},
   "outputs": [],
   "source": [
    "# For train vectors\n",
    "\n",
    "train_vecs = []\n",
    "\n",
    "for i in range(len(df_train_sampled)):\n",
    "    top_train_topics = lda_model.get_document_topics(corpus[i], minimum_probability=0.0)\n",
    "    topic_train_vec = [top_train_topics[i][1] for i in range(5)]\n",
    "    train_vecs.append(topic_train_vec)"
   ]
  },
  {
   "cell_type": "code",
   "execution_count": 74,
   "metadata": {},
   "outputs": [
    {
     "data": {
      "text/plain": [
       "[[0.2882819, 0.13556118, 0.061539482, 0.4201912, 0.09442624],\n",
       " [0.22495371, 0.0941024, 0.05121491, 0.34279495, 0.28693402],\n",
       " [0.31476548, 0.3125868, 0.07818849, 0.21936993, 0.07508932],\n",
       " [0.24627858, 0.14256154, 0.092500135, 0.4629514, 0.055708375],\n",
       " [0.35396627, 0.13490164, 0.23071125, 0.18115357, 0.09926729]]"
      ]
     },
     "execution_count": 74,
     "metadata": {},
     "output_type": "execute_result"
    }
   ],
   "source": [
    "# Printing top five train vectors\n",
    "train_vecs[:5]"
   ]
  },
  {
   "cell_type": "code",
   "execution_count": 75,
   "metadata": {},
   "outputs": [],
   "source": [
    "# For test vectors\n",
    "\n",
    "test_vecs = []\n",
    "\n",
    "for i in range(len(df_test)):\n",
    "    top_test_topics = lda_model.get_document_topics(test_corpus[i], minimum_probability=0.0)\n",
    "    topic_test_vec = [top_test_topics[i][1] for i in range(5)]\n",
    "    test_vecs.append(topic_test_vec)"
   ]
  },
  {
   "cell_type": "code",
   "execution_count": 76,
   "metadata": {},
   "outputs": [
    {
     "data": {
      "text/plain": [
       "[[0.28090692, 0.21438031, 0.11778517, 0.30461445, 0.08231315],\n",
       " [0.24867706, 0.24588312, 0.098337, 0.31266576, 0.09443708],\n",
       " [0.33497143, 0.2413414, 0.041726857, 0.26860183, 0.11335848],\n",
       " [0.45562252, 0.2111888, 0.014229257, 0.2538773, 0.06508211],\n",
       " [0.18760405, 0.2430036, 0.05841568, 0.27097645, 0.24000019]]"
      ]
     },
     "execution_count": 76,
     "metadata": {},
     "output_type": "execute_result"
    }
   ],
   "source": [
    "# Printing top five test vectors\n",
    "test_vecs[:5]"
   ]
  },
  {
   "cell_type": "markdown",
   "metadata": {},
   "source": [
    "### 4.6) Merging the topic vectors into train and test dataframe"
   ]
  },
  {
   "cell_type": "code",
   "execution_count": 96,
   "metadata": {},
   "outputs": [],
   "source": [
    "# Create the new df with 5 topics and then merge with the original train and test dataframe\n",
    "\n",
    "df1 = pd.DataFrame(train_vecs,columns=['Topic-1','Topic-2','Topic-3','Topic-4','Topic-5'])\n",
    "df_train_sampled = pd.concat([df_train_sampled, df1], axis=1, join='inner')\n",
    "\n",
    "df2 = pd.DataFrame(test_vecs,columns=['Topic-1','Topic-2','Topic-3','Topic-4','Topic-5'])\n",
    "df_test = pd.concat([df_test, df2], axis=1, join='inner')"
   ]
  },
  {
   "cell_type": "code",
   "execution_count": 97,
   "metadata": {},
   "outputs": [
    {
     "data": {
      "text/html": [
       "<div>\n",
       "<style scoped>\n",
       "    .dataframe tbody tr th:only-of-type {\n",
       "        vertical-align: middle;\n",
       "    }\n",
       "\n",
       "    .dataframe tbody tr th {\n",
       "        vertical-align: top;\n",
       "    }\n",
       "\n",
       "    .dataframe thead th {\n",
       "        text-align: right;\n",
       "    }\n",
       "</style>\n",
       "<table border=\"1\" class=\"dataframe\">\n",
       "  <thead>\n",
       "    <tr style=\"text-align: right;\">\n",
       "      <th></th>\n",
       "      <th>id</th>\n",
       "      <th>target</th>\n",
       "      <th>comment_text</th>\n",
       "      <th>class</th>\n",
       "      <th>Topic-1</th>\n",
       "      <th>Topic-2</th>\n",
       "      <th>Topic-3</th>\n",
       "      <th>Topic-4</th>\n",
       "      <th>Topic-5</th>\n",
       "    </tr>\n",
       "  </thead>\n",
       "  <tbody>\n",
       "    <tr>\n",
       "      <th>0</th>\n",
       "      <td>5725613</td>\n",
       "      <td>0.200000</td>\n",
       "      <td>lock up throw away key</td>\n",
       "      <td>0</td>\n",
       "      <td>0.288282</td>\n",
       "      <td>0.135561</td>\n",
       "      <td>0.061539</td>\n",
       "      <td>0.420191</td>\n",
       "      <td>0.094426</td>\n",
       "    </tr>\n",
       "    <tr>\n",
       "      <th>1</th>\n",
       "      <td>5173568</td>\n",
       "      <td>0.000000</td>\n",
       "      <td>take deep wide look franc uk see futur u s bot...</td>\n",
       "      <td>0</td>\n",
       "      <td>0.224954</td>\n",
       "      <td>0.094102</td>\n",
       "      <td>0.051215</td>\n",
       "      <td>0.342795</td>\n",
       "      <td>0.286934</td>\n",
       "    </tr>\n",
       "    <tr>\n",
       "      <th>2</th>\n",
       "      <td>5080958</td>\n",
       "      <td>0.000000</td>\n",
       "      <td>he s ego driven sens respons carri campaign pr...</td>\n",
       "      <td>0</td>\n",
       "      <td>0.314765</td>\n",
       "      <td>0.312587</td>\n",
       "      <td>0.078188</td>\n",
       "      <td>0.219370</td>\n",
       "      <td>0.075089</td>\n",
       "    </tr>\n",
       "    <tr>\n",
       "      <th>3</th>\n",
       "      <td>5122956</td>\n",
       "      <td>0.166667</td>\n",
       "      <td>stephen harper also use omnibus bill prevent p...</td>\n",
       "      <td>0</td>\n",
       "      <td>0.246279</td>\n",
       "      <td>0.142562</td>\n",
       "      <td>0.092500</td>\n",
       "      <td>0.462951</td>\n",
       "      <td>0.055708</td>\n",
       "    </tr>\n",
       "    <tr>\n",
       "      <th>4</th>\n",
       "      <td>636984</td>\n",
       "      <td>0.400000</td>\n",
       "      <td>silent major a overwhelm major canadian agre y...</td>\n",
       "      <td>0</td>\n",
       "      <td>0.353966</td>\n",
       "      <td>0.134902</td>\n",
       "      <td>0.230711</td>\n",
       "      <td>0.181154</td>\n",
       "      <td>0.099267</td>\n",
       "    </tr>\n",
       "  </tbody>\n",
       "</table>\n",
       "</div>"
      ],
      "text/plain": [
       "        id    target                                       comment_text  \\\n",
       "0  5725613  0.200000                             lock up throw away key   \n",
       "1  5173568  0.000000  take deep wide look franc uk see futur u s bot...   \n",
       "2  5080958  0.000000  he s ego driven sens respons carri campaign pr...   \n",
       "3  5122956  0.166667  stephen harper also use omnibus bill prevent p...   \n",
       "4   636984  0.400000  silent major a overwhelm major canadian agre y...   \n",
       "\n",
       "   class   Topic-1   Topic-2   Topic-3   Topic-4   Topic-5  \n",
       "0      0  0.288282  0.135561  0.061539  0.420191  0.094426  \n",
       "1      0  0.224954  0.094102  0.051215  0.342795  0.286934  \n",
       "2      0  0.314765  0.312587  0.078188  0.219370  0.075089  \n",
       "3      0  0.246279  0.142562  0.092500  0.462951  0.055708  \n",
       "4      0  0.353966  0.134902  0.230711  0.181154  0.099267  "
      ]
     },
     "execution_count": 97,
     "metadata": {},
     "output_type": "execute_result"
    }
   ],
   "source": [
    "df_train_sampled.head(5)"
   ]
  },
  {
   "cell_type": "code",
   "execution_count": 98,
   "metadata": {},
   "outputs": [
    {
     "data": {
      "text/html": [
       "<div>\n",
       "<style scoped>\n",
       "    .dataframe tbody tr th:only-of-type {\n",
       "        vertical-align: middle;\n",
       "    }\n",
       "\n",
       "    .dataframe tbody tr th {\n",
       "        vertical-align: top;\n",
       "    }\n",
       "\n",
       "    .dataframe thead th {\n",
       "        text-align: right;\n",
       "    }\n",
       "</style>\n",
       "<table border=\"1\" class=\"dataframe\">\n",
       "  <thead>\n",
       "    <tr style=\"text-align: right;\">\n",
       "      <th></th>\n",
       "      <th>id</th>\n",
       "      <th>comment_text</th>\n",
       "      <th>Topic-1</th>\n",
       "      <th>Topic-2</th>\n",
       "      <th>Topic-3</th>\n",
       "      <th>Topic-4</th>\n",
       "      <th>Topic-5</th>\n",
       "    </tr>\n",
       "  </thead>\n",
       "  <tbody>\n",
       "    <tr>\n",
       "      <th>0</th>\n",
       "      <td>7097320</td>\n",
       "      <td>integr mean pay debt doe appli presid trump too</td>\n",
       "      <td>0.280907</td>\n",
       "      <td>0.214380</td>\n",
       "      <td>0.117785</td>\n",
       "      <td>0.304614</td>\n",
       "      <td>0.082313</td>\n",
       "    </tr>\n",
       "    <tr>\n",
       "      <th>1</th>\n",
       "      <td>7097321</td>\n",
       "      <td>malfeas administr board wast money</td>\n",
       "      <td>0.248677</td>\n",
       "      <td>0.245883</td>\n",
       "      <td>0.098337</td>\n",
       "      <td>0.312666</td>\n",
       "      <td>0.094437</td>\n",
       "    </tr>\n",
       "    <tr>\n",
       "      <th>2</th>\n",
       "      <td>7097322</td>\n",
       "      <td>rmiller101 spoken like true elitist look bud r...</td>\n",
       "      <td>0.334971</td>\n",
       "      <td>0.241341</td>\n",
       "      <td>0.041727</td>\n",
       "      <td>0.268602</td>\n",
       "      <td>0.113358</td>\n",
       "    </tr>\n",
       "    <tr>\n",
       "      <th>3</th>\n",
       "      <td>7097323</td>\n",
       "      <td>paul thank kind word do inde strong belief hid...</td>\n",
       "      <td>0.455623</td>\n",
       "      <td>0.211189</td>\n",
       "      <td>0.014229</td>\n",
       "      <td>0.253877</td>\n",
       "      <td>0.065082</td>\n",
       "    </tr>\n",
       "    <tr>\n",
       "      <th>4</th>\n",
       "      <td>7097324</td>\n",
       "      <td>sorri miss high school eisenhow sent troop vie...</td>\n",
       "      <td>0.187604</td>\n",
       "      <td>0.243004</td>\n",
       "      <td>0.058416</td>\n",
       "      <td>0.270976</td>\n",
       "      <td>0.240000</td>\n",
       "    </tr>\n",
       "  </tbody>\n",
       "</table>\n",
       "</div>"
      ],
      "text/plain": [
       "        id                                       comment_text   Topic-1  \\\n",
       "0  7097320    integr mean pay debt doe appli presid trump too  0.280907   \n",
       "1  7097321                 malfeas administr board wast money  0.248677   \n",
       "2  7097322  rmiller101 spoken like true elitist look bud r...  0.334971   \n",
       "3  7097323  paul thank kind word do inde strong belief hid...  0.455623   \n",
       "4  7097324  sorri miss high school eisenhow sent troop vie...  0.187604   \n",
       "\n",
       "    Topic-2   Topic-3   Topic-4   Topic-5  \n",
       "0  0.214380  0.117785  0.304614  0.082313  \n",
       "1  0.245883  0.098337  0.312666  0.094437  \n",
       "2  0.241341  0.041727  0.268602  0.113358  \n",
       "3  0.211189  0.014229  0.253877  0.065082  \n",
       "4  0.243004  0.058416  0.270976  0.240000  "
      ]
     },
     "execution_count": 98,
     "metadata": {},
     "output_type": "execute_result"
    }
   ],
   "source": [
    "df_test.head(5)"
   ]
  },
  {
   "cell_type": "markdown",
   "metadata": {
    "colab_type": "text",
    "id": "Ein1wyteApuZ"
   },
   "source": [
    "## 5) Feature Engineering "
   ]
  },
  {
   "cell_type": "markdown",
   "metadata": {},
   "source": [
    "### 5.1) Calculating sentiment score of comments in train and test set"
   ]
  },
  {
   "cell_type": "code",
   "execution_count": 99,
   "metadata": {
    "colab": {
     "base_uri": "https://localhost:8080/",
     "height": 87
    },
    "colab_type": "code",
    "executionInfo": {
     "elapsed": 7010,
     "status": "ok",
     "timestamp": 1564774014731,
     "user": {
      "displayName": "Sonali",
      "photoUrl": "https://lh6.googleusercontent.com/-29UuJKP2sCU/AAAAAAAAAAI/AAAAAAAAFFE/Z_0wtF2tqiQ/s64/photo.jpg",
      "userId": "16260148040418897175"
     },
     "user_tz": -330
    },
    "id": "WZecmwc9Apua",
    "outputId": "848d021b-d33d-41ab-9cc3-4010cb38bd91"
   },
   "outputs": [
    {
     "name": "stdout",
     "output_type": "stream",
     "text": [
      "[nltk_data] Error loading vader_lexicon: <urlopen error [Errno 11001]\n",
      "[nltk_data]     getaddrinfo failed>\n"
     ]
    },
    {
     "name": "stderr",
     "output_type": "stream",
     "text": [
      "100%|████████████████████████████████████████████████████████████████████████| 140000/140000 [00:52<00:00, 2672.81it/s]\n",
      "100%|██████████████████████████████████████████████████████████████████████████| 97320/97320 [00:29<00:00, 3325.51it/s]\n"
     ]
    }
   ],
   "source": [
    "from nltk.sentiment.vader import SentimentIntensityAnalyzer\n",
    "from tqdm import tqdm\n",
    "import nltk\n",
    "nltk.download('vader_lexicon')\n",
    "\n",
    "sid = SentimentIntensityAnalyzer()\n",
    "\n",
    "# ******************************************* Sentiment analysis for train data\n",
    "text_NegScore = []\n",
    "text_NeuScore = []\n",
    "text_PosScore = []\n",
    "text_compoundScore = []\n",
    "\n",
    "for stmt in tqdm(df_train_sampled.comment_text.values):\n",
    "    \n",
    "    ss = sid.polarity_scores(str(stmt))\n",
    "    text_NegScore.append(ss[\"neg\"])\n",
    "    text_NeuScore.append(ss[\"neu\"])\n",
    "    text_PosScore.append(ss[\"pos\"])\n",
    "    text_compoundScore.append(ss[\"compound\"])\n",
    "\n",
    "# Assigning the score to the train text\n",
    "df_train_sampled['text_NegScore'] = text_NegScore\n",
    "df_train_sampled['text_NeuScore'] = text_NeuScore\n",
    "df_train_sampled['text_PosScore'] = text_PosScore\n",
    "df_train_sampled['text_compoundScore'] = text_compoundScore\n",
    "\n",
    "# ******************************************** Sentiment analysis for test data\n",
    "text_NegScore = []\n",
    "text_NeuScore = []\n",
    "text_PosScore = []\n",
    "text_compoundScore = []\n",
    "    \n",
    "for stmt in tqdm(df_test.comment_text.values):\n",
    "    \n",
    "    ss = sid.polarity_scores(str(stmt))\n",
    "    text_NegScore.append(ss[\"neg\"])\n",
    "    text_NeuScore.append(ss[\"neu\"])\n",
    "    text_PosScore.append(ss[\"pos\"])\n",
    "    text_compoundScore.append(ss[\"compound\"])\n",
    "\n",
    "# Assigning the score to the test text data\n",
    "df_test['text_NegScore'] = text_NegScore\n",
    "df_test['text_NeuScore'] = text_NeuScore\n",
    "df_test['text_PosScore'] = text_PosScore\n",
    "df_test['text_compoundScore'] = text_compoundScore"
   ]
  },
  {
   "cell_type": "code",
   "execution_count": 100,
   "metadata": {
    "colab": {
     "base_uri": "https://localhost:8080/",
     "height": 195
    },
    "colab_type": "code",
    "executionInfo": {
     "elapsed": 1250,
     "status": "ok",
     "timestamp": 1564774099613,
     "user": {
      "displayName": "Sonali",
      "photoUrl": "https://lh6.googleusercontent.com/-29UuJKP2sCU/AAAAAAAAAAI/AAAAAAAAFFE/Z_0wtF2tqiQ/s64/photo.jpg",
      "userId": "16260148040418897175"
     },
     "user_tz": -330
    },
    "id": "1xtCCpqvApue",
    "outputId": "fcdb2497-0593-41bb-87d5-c0e7e1da9e52"
   },
   "outputs": [
    {
     "data": {
      "text/html": [
       "<div>\n",
       "<style scoped>\n",
       "    .dataframe tbody tr th:only-of-type {\n",
       "        vertical-align: middle;\n",
       "    }\n",
       "\n",
       "    .dataframe tbody tr th {\n",
       "        vertical-align: top;\n",
       "    }\n",
       "\n",
       "    .dataframe thead th {\n",
       "        text-align: right;\n",
       "    }\n",
       "</style>\n",
       "<table border=\"1\" class=\"dataframe\">\n",
       "  <thead>\n",
       "    <tr style=\"text-align: right;\">\n",
       "      <th></th>\n",
       "      <th>id</th>\n",
       "      <th>target</th>\n",
       "      <th>comment_text</th>\n",
       "      <th>class</th>\n",
       "      <th>Topic-1</th>\n",
       "      <th>Topic-2</th>\n",
       "      <th>Topic-3</th>\n",
       "      <th>Topic-4</th>\n",
       "      <th>Topic-5</th>\n",
       "      <th>text_NegScore</th>\n",
       "      <th>text_NeuScore</th>\n",
       "      <th>text_PosScore</th>\n",
       "      <th>text_compoundScore</th>\n",
       "    </tr>\n",
       "  </thead>\n",
       "  <tbody>\n",
       "    <tr>\n",
       "      <th>0</th>\n",
       "      <td>5725613</td>\n",
       "      <td>0.200000</td>\n",
       "      <td>lock up throw away key</td>\n",
       "      <td>0</td>\n",
       "      <td>0.288282</td>\n",
       "      <td>0.135561</td>\n",
       "      <td>0.061539</td>\n",
       "      <td>0.420191</td>\n",
       "      <td>0.094426</td>\n",
       "      <td>0.000</td>\n",
       "      <td>1.000</td>\n",
       "      <td>0.000</td>\n",
       "      <td>0.0000</td>\n",
       "    </tr>\n",
       "    <tr>\n",
       "      <th>1</th>\n",
       "      <td>5173568</td>\n",
       "      <td>0.000000</td>\n",
       "      <td>take deep wide look franc uk see futur u s bot...</td>\n",
       "      <td>0</td>\n",
       "      <td>0.224954</td>\n",
       "      <td>0.094102</td>\n",
       "      <td>0.051215</td>\n",
       "      <td>0.342795</td>\n",
       "      <td>0.286934</td>\n",
       "      <td>0.153</td>\n",
       "      <td>0.682</td>\n",
       "      <td>0.165</td>\n",
       "      <td>0.5305</td>\n",
       "    </tr>\n",
       "    <tr>\n",
       "      <th>2</th>\n",
       "      <td>5080958</td>\n",
       "      <td>0.000000</td>\n",
       "      <td>he s ego driven sens respons carri campaign pr...</td>\n",
       "      <td>0</td>\n",
       "      <td>0.314765</td>\n",
       "      <td>0.312587</td>\n",
       "      <td>0.078188</td>\n",
       "      <td>0.219370</td>\n",
       "      <td>0.075089</td>\n",
       "      <td>0.000</td>\n",
       "      <td>1.000</td>\n",
       "      <td>0.000</td>\n",
       "      <td>0.0000</td>\n",
       "    </tr>\n",
       "    <tr>\n",
       "      <th>3</th>\n",
       "      <td>5122956</td>\n",
       "      <td>0.166667</td>\n",
       "      <td>stephen harper also use omnibus bill prevent p...</td>\n",
       "      <td>0</td>\n",
       "      <td>0.246279</td>\n",
       "      <td>0.142562</td>\n",
       "      <td>0.092500</td>\n",
       "      <td>0.462951</td>\n",
       "      <td>0.055708</td>\n",
       "      <td>0.076</td>\n",
       "      <td>0.880</td>\n",
       "      <td>0.044</td>\n",
       "      <td>-0.2023</td>\n",
       "    </tr>\n",
       "    <tr>\n",
       "      <th>4</th>\n",
       "      <td>636984</td>\n",
       "      <td>0.400000</td>\n",
       "      <td>silent major a overwhelm major canadian agre y...</td>\n",
       "      <td>0</td>\n",
       "      <td>0.353966</td>\n",
       "      <td>0.134902</td>\n",
       "      <td>0.230711</td>\n",
       "      <td>0.181154</td>\n",
       "      <td>0.099267</td>\n",
       "      <td>0.055</td>\n",
       "      <td>0.742</td>\n",
       "      <td>0.203</td>\n",
       "      <td>0.6808</td>\n",
       "    </tr>\n",
       "  </tbody>\n",
       "</table>\n",
       "</div>"
      ],
      "text/plain": [
       "        id    target                                       comment_text  \\\n",
       "0  5725613  0.200000                             lock up throw away key   \n",
       "1  5173568  0.000000  take deep wide look franc uk see futur u s bot...   \n",
       "2  5080958  0.000000  he s ego driven sens respons carri campaign pr...   \n",
       "3  5122956  0.166667  stephen harper also use omnibus bill prevent p...   \n",
       "4   636984  0.400000  silent major a overwhelm major canadian agre y...   \n",
       "\n",
       "   class   Topic-1   Topic-2   Topic-3   Topic-4   Topic-5  text_NegScore  \\\n",
       "0      0  0.288282  0.135561  0.061539  0.420191  0.094426          0.000   \n",
       "1      0  0.224954  0.094102  0.051215  0.342795  0.286934          0.153   \n",
       "2      0  0.314765  0.312587  0.078188  0.219370  0.075089          0.000   \n",
       "3      0  0.246279  0.142562  0.092500  0.462951  0.055708          0.076   \n",
       "4      0  0.353966  0.134902  0.230711  0.181154  0.099267          0.055   \n",
       "\n",
       "   text_NeuScore  text_PosScore  text_compoundScore  \n",
       "0          1.000          0.000              0.0000  \n",
       "1          0.682          0.165              0.5305  \n",
       "2          1.000          0.000              0.0000  \n",
       "3          0.880          0.044             -0.2023  \n",
       "4          0.742          0.203              0.6808  "
      ]
     },
     "execution_count": 100,
     "metadata": {},
     "output_type": "execute_result"
    }
   ],
   "source": [
    "df_train_sampled.head(5)"
   ]
  },
  {
   "cell_type": "code",
   "execution_count": 101,
   "metadata": {
    "colab": {
     "base_uri": "https://localhost:8080/",
     "height": 195
    },
    "colab_type": "code",
    "executionInfo": {
     "elapsed": 916,
     "status": "ok",
     "timestamp": 1564774108412,
     "user": {
      "displayName": "Sonali",
      "photoUrl": "https://lh6.googleusercontent.com/-29UuJKP2sCU/AAAAAAAAAAI/AAAAAAAAFFE/Z_0wtF2tqiQ/s64/photo.jpg",
      "userId": "16260148040418897175"
     },
     "user_tz": -330
    },
    "id": "4D-UqmkDiUFf",
    "outputId": "3cf923c1-15a4-49fa-8c1f-0a4ae8a26c08"
   },
   "outputs": [
    {
     "data": {
      "text/html": [
       "<div>\n",
       "<style scoped>\n",
       "    .dataframe tbody tr th:only-of-type {\n",
       "        vertical-align: middle;\n",
       "    }\n",
       "\n",
       "    .dataframe tbody tr th {\n",
       "        vertical-align: top;\n",
       "    }\n",
       "\n",
       "    .dataframe thead th {\n",
       "        text-align: right;\n",
       "    }\n",
       "</style>\n",
       "<table border=\"1\" class=\"dataframe\">\n",
       "  <thead>\n",
       "    <tr style=\"text-align: right;\">\n",
       "      <th></th>\n",
       "      <th>id</th>\n",
       "      <th>comment_text</th>\n",
       "      <th>Topic-1</th>\n",
       "      <th>Topic-2</th>\n",
       "      <th>Topic-3</th>\n",
       "      <th>Topic-4</th>\n",
       "      <th>Topic-5</th>\n",
       "      <th>text_NegScore</th>\n",
       "      <th>text_NeuScore</th>\n",
       "      <th>text_PosScore</th>\n",
       "      <th>text_compoundScore</th>\n",
       "    </tr>\n",
       "  </thead>\n",
       "  <tbody>\n",
       "    <tr>\n",
       "      <th>0</th>\n",
       "      <td>7097320</td>\n",
       "      <td>integr mean pay debt doe appli presid trump too</td>\n",
       "      <td>0.280907</td>\n",
       "      <td>0.214380</td>\n",
       "      <td>0.117785</td>\n",
       "      <td>0.304614</td>\n",
       "      <td>0.082313</td>\n",
       "      <td>0.358</td>\n",
       "      <td>0.642</td>\n",
       "      <td>0.000</td>\n",
       "      <td>-0.4404</td>\n",
       "    </tr>\n",
       "    <tr>\n",
       "      <th>1</th>\n",
       "      <td>7097321</td>\n",
       "      <td>malfeas administr board wast money</td>\n",
       "      <td>0.248677</td>\n",
       "      <td>0.245883</td>\n",
       "      <td>0.098337</td>\n",
       "      <td>0.312666</td>\n",
       "      <td>0.094437</td>\n",
       "      <td>0.000</td>\n",
       "      <td>1.000</td>\n",
       "      <td>0.000</td>\n",
       "      <td>0.0000</td>\n",
       "    </tr>\n",
       "    <tr>\n",
       "      <th>2</th>\n",
       "      <td>7097322</td>\n",
       "      <td>rmiller101 spoken like true elitist look bud r...</td>\n",
       "      <td>0.334971</td>\n",
       "      <td>0.241341</td>\n",
       "      <td>0.041727</td>\n",
       "      <td>0.268602</td>\n",
       "      <td>0.113358</td>\n",
       "      <td>0.000</td>\n",
       "      <td>0.751</td>\n",
       "      <td>0.249</td>\n",
       "      <td>0.6486</td>\n",
       "    </tr>\n",
       "    <tr>\n",
       "      <th>3</th>\n",
       "      <td>7097323</td>\n",
       "      <td>paul thank kind word do inde strong belief hid...</td>\n",
       "      <td>0.455623</td>\n",
       "      <td>0.211189</td>\n",
       "      <td>0.014229</td>\n",
       "      <td>0.253877</td>\n",
       "      <td>0.065082</td>\n",
       "      <td>0.143</td>\n",
       "      <td>0.681</td>\n",
       "      <td>0.176</td>\n",
       "      <td>0.8402</td>\n",
       "    </tr>\n",
       "    <tr>\n",
       "      <th>4</th>\n",
       "      <td>7097324</td>\n",
       "      <td>sorri miss high school eisenhow sent troop vie...</td>\n",
       "      <td>0.187604</td>\n",
       "      <td>0.243004</td>\n",
       "      <td>0.058416</td>\n",
       "      <td>0.270976</td>\n",
       "      <td>0.240000</td>\n",
       "      <td>0.272</td>\n",
       "      <td>0.568</td>\n",
       "      <td>0.160</td>\n",
       "      <td>-0.6486</td>\n",
       "    </tr>\n",
       "  </tbody>\n",
       "</table>\n",
       "</div>"
      ],
      "text/plain": [
       "        id                                       comment_text   Topic-1  \\\n",
       "0  7097320    integr mean pay debt doe appli presid trump too  0.280907   \n",
       "1  7097321                 malfeas administr board wast money  0.248677   \n",
       "2  7097322  rmiller101 spoken like true elitist look bud r...  0.334971   \n",
       "3  7097323  paul thank kind word do inde strong belief hid...  0.455623   \n",
       "4  7097324  sorri miss high school eisenhow sent troop vie...  0.187604   \n",
       "\n",
       "    Topic-2   Topic-3   Topic-4   Topic-5  text_NegScore  text_NeuScore  \\\n",
       "0  0.214380  0.117785  0.304614  0.082313          0.358          0.642   \n",
       "1  0.245883  0.098337  0.312666  0.094437          0.000          1.000   \n",
       "2  0.241341  0.041727  0.268602  0.113358          0.000          0.751   \n",
       "3  0.211189  0.014229  0.253877  0.065082          0.143          0.681   \n",
       "4  0.243004  0.058416  0.270976  0.240000          0.272          0.568   \n",
       "\n",
       "   text_PosScore  text_compoundScore  \n",
       "0          0.000             -0.4404  \n",
       "1          0.000              0.0000  \n",
       "2          0.249              0.6486  \n",
       "3          0.176              0.8402  \n",
       "4          0.160             -0.6486  "
      ]
     },
     "execution_count": 101,
     "metadata": {},
     "output_type": "execute_result"
    }
   ],
   "source": [
    "df_test.head(5)"
   ]
  },
  {
   "cell_type": "markdown",
   "metadata": {},
   "source": [
    "### 5.2) Calculating length of the text comment"
   ]
  },
  {
   "cell_type": "code",
   "execution_count": 102,
   "metadata": {},
   "outputs": [
    {
     "name": "stderr",
     "output_type": "stream",
     "text": [
      "100%|██████████████████████████████████████████████████████████████████████| 140000/140000 [00:00<00:00, 531719.73it/s]\n",
      "100%|████████████████████████████████████████████████████████████████████████| 97320/97320 [00:00<00:00, 527094.89it/s]\n"
     ]
    },
    {
     "name": "stdout",
     "output_type": "stream",
     "text": [
      "Length of Comment text in train dataset : 140000\n",
      "Length of Comment text in test dataset : 97320\n"
     ]
    }
   ],
   "source": [
    "# Count of the length if comment for train and test dataset\n",
    "\n",
    "WrdCnt_trn = []; # the avg-w2v for each sentence/review is stored in this list\n",
    "WrdCnt_test = [];\n",
    "\n",
    "df_train_sampled.comment_text.fillna(\" \",inplace=True)\n",
    "df_test.comment_text.fillna(\" \",inplace=True)\n",
    "\n",
    "# For train data\n",
    "for sentence in tqdm(df_train_sampled['comment_text'].values): # for each review/sentence\n",
    "    cnt_words = 0; # num of words with a valid vector in the sentence/review\n",
    "    cnt_words = sentence.split() # for each word in a review/sentence\n",
    "    WrdCnt_trn.append(len(cnt_words))\n",
    "    \n",
    "# For test data\n",
    "for sentence in tqdm(df_test['comment_text'].values): # for each review/sentence\n",
    "    cnt_words = 0; # num of words with a valid vector in the sentence/review\n",
    "    cnt_words = sentence.split() # for each word in a review/sentence\n",
    "    WrdCnt_test.append(len(cnt_words))\n",
    "\n",
    "print(\"Length of Comment text in train dataset :\", len(WrdCnt_trn))\n",
    "print(\"Length of Comment text in test dataset :\", len(WrdCnt_test))"
   ]
  },
  {
   "cell_type": "code",
   "execution_count": 103,
   "metadata": {},
   "outputs": [],
   "source": [
    "df_train_sampled['Comment_Len'] = WrdCnt_trn\n",
    "df_test['Comment_Len'] = WrdCnt_test"
   ]
  },
  {
   "cell_type": "code",
   "execution_count": 104,
   "metadata": {},
   "outputs": [
    {
     "data": {
      "text/html": [
       "<div>\n",
       "<style scoped>\n",
       "    .dataframe tbody tr th:only-of-type {\n",
       "        vertical-align: middle;\n",
       "    }\n",
       "\n",
       "    .dataframe tbody tr th {\n",
       "        vertical-align: top;\n",
       "    }\n",
       "\n",
       "    .dataframe thead th {\n",
       "        text-align: right;\n",
       "    }\n",
       "</style>\n",
       "<table border=\"1\" class=\"dataframe\">\n",
       "  <thead>\n",
       "    <tr style=\"text-align: right;\">\n",
       "      <th></th>\n",
       "      <th>id</th>\n",
       "      <th>target</th>\n",
       "      <th>comment_text</th>\n",
       "      <th>class</th>\n",
       "      <th>Topic-1</th>\n",
       "      <th>Topic-2</th>\n",
       "      <th>Topic-3</th>\n",
       "      <th>Topic-4</th>\n",
       "      <th>Topic-5</th>\n",
       "      <th>text_NegScore</th>\n",
       "      <th>text_NeuScore</th>\n",
       "      <th>text_PosScore</th>\n",
       "      <th>text_compoundScore</th>\n",
       "      <th>Comment_Len</th>\n",
       "    </tr>\n",
       "  </thead>\n",
       "  <tbody>\n",
       "    <tr>\n",
       "      <th>0</th>\n",
       "      <td>5725613</td>\n",
       "      <td>0.2</td>\n",
       "      <td>lock up throw away key</td>\n",
       "      <td>0</td>\n",
       "      <td>0.288282</td>\n",
       "      <td>0.135561</td>\n",
       "      <td>0.061539</td>\n",
       "      <td>0.420191</td>\n",
       "      <td>0.094426</td>\n",
       "      <td>0.000</td>\n",
       "      <td>1.000</td>\n",
       "      <td>0.000</td>\n",
       "      <td>0.0000</td>\n",
       "      <td>5</td>\n",
       "    </tr>\n",
       "    <tr>\n",
       "      <th>1</th>\n",
       "      <td>5173568</td>\n",
       "      <td>0.0</td>\n",
       "      <td>take deep wide look franc uk see futur u s bot...</td>\n",
       "      <td>0</td>\n",
       "      <td>0.224954</td>\n",
       "      <td>0.094102</td>\n",
       "      <td>0.051215</td>\n",
       "      <td>0.342795</td>\n",
       "      <td>0.286934</td>\n",
       "      <td>0.153</td>\n",
       "      <td>0.682</td>\n",
       "      <td>0.165</td>\n",
       "      <td>0.5305</td>\n",
       "      <td>99</td>\n",
       "    </tr>\n",
       "  </tbody>\n",
       "</table>\n",
       "</div>"
      ],
      "text/plain": [
       "        id  target                                       comment_text  class  \\\n",
       "0  5725613     0.2                             lock up throw away key      0   \n",
       "1  5173568     0.0  take deep wide look franc uk see futur u s bot...      0   \n",
       "\n",
       "    Topic-1   Topic-2   Topic-3   Topic-4   Topic-5  text_NegScore  \\\n",
       "0  0.288282  0.135561  0.061539  0.420191  0.094426          0.000   \n",
       "1  0.224954  0.094102  0.051215  0.342795  0.286934          0.153   \n",
       "\n",
       "   text_NeuScore  text_PosScore  text_compoundScore  Comment_Len  \n",
       "0          1.000          0.000              0.0000            5  \n",
       "1          0.682          0.165              0.5305           99  "
      ]
     },
     "execution_count": 104,
     "metadata": {},
     "output_type": "execute_result"
    }
   ],
   "source": [
    "df_train_sampled.head(2)"
   ]
  },
  {
   "cell_type": "code",
   "execution_count": 105,
   "metadata": {},
   "outputs": [
    {
     "data": {
      "text/html": [
       "<div>\n",
       "<style scoped>\n",
       "    .dataframe tbody tr th:only-of-type {\n",
       "        vertical-align: middle;\n",
       "    }\n",
       "\n",
       "    .dataframe tbody tr th {\n",
       "        vertical-align: top;\n",
       "    }\n",
       "\n",
       "    .dataframe thead th {\n",
       "        text-align: right;\n",
       "    }\n",
       "</style>\n",
       "<table border=\"1\" class=\"dataframe\">\n",
       "  <thead>\n",
       "    <tr style=\"text-align: right;\">\n",
       "      <th></th>\n",
       "      <th>id</th>\n",
       "      <th>comment_text</th>\n",
       "      <th>Topic-1</th>\n",
       "      <th>Topic-2</th>\n",
       "      <th>Topic-3</th>\n",
       "      <th>Topic-4</th>\n",
       "      <th>Topic-5</th>\n",
       "      <th>text_NegScore</th>\n",
       "      <th>text_NeuScore</th>\n",
       "      <th>text_PosScore</th>\n",
       "      <th>text_compoundScore</th>\n",
       "      <th>Comment_Len</th>\n",
       "    </tr>\n",
       "  </thead>\n",
       "  <tbody>\n",
       "    <tr>\n",
       "      <th>0</th>\n",
       "      <td>7097320</td>\n",
       "      <td>integr mean pay debt doe appli presid trump too</td>\n",
       "      <td>0.280907</td>\n",
       "      <td>0.214380</td>\n",
       "      <td>0.117785</td>\n",
       "      <td>0.304614</td>\n",
       "      <td>0.082313</td>\n",
       "      <td>0.358</td>\n",
       "      <td>0.642</td>\n",
       "      <td>0.0</td>\n",
       "      <td>-0.4404</td>\n",
       "      <td>9</td>\n",
       "    </tr>\n",
       "    <tr>\n",
       "      <th>1</th>\n",
       "      <td>7097321</td>\n",
       "      <td>malfeas administr board wast money</td>\n",
       "      <td>0.248677</td>\n",
       "      <td>0.245883</td>\n",
       "      <td>0.098337</td>\n",
       "      <td>0.312666</td>\n",
       "      <td>0.094437</td>\n",
       "      <td>0.000</td>\n",
       "      <td>1.000</td>\n",
       "      <td>0.0</td>\n",
       "      <td>0.0000</td>\n",
       "      <td>5</td>\n",
       "    </tr>\n",
       "  </tbody>\n",
       "</table>\n",
       "</div>"
      ],
      "text/plain": [
       "        id                                     comment_text   Topic-1  \\\n",
       "0  7097320  integr mean pay debt doe appli presid trump too  0.280907   \n",
       "1  7097321               malfeas administr board wast money  0.248677   \n",
       "\n",
       "    Topic-2   Topic-3   Topic-4   Topic-5  text_NegScore  text_NeuScore  \\\n",
       "0  0.214380  0.117785  0.304614  0.082313          0.358          0.642   \n",
       "1  0.245883  0.098337  0.312666  0.094437          0.000          1.000   \n",
       "\n",
       "   text_PosScore  text_compoundScore  Comment_Len  \n",
       "0            0.0             -0.4404            9  \n",
       "1            0.0              0.0000            5  "
      ]
     },
     "execution_count": 105,
     "metadata": {},
     "output_type": "execute_result"
    }
   ],
   "source": [
    "df_test.head(2)"
   ]
  },
  {
   "cell_type": "markdown",
   "metadata": {
    "colab_type": "text",
    "id": "afjuulzM0BYv"
   },
   "source": [
    "##  6) Machine Learning "
   ]
  },
  {
   "cell_type": "markdown",
   "metadata": {},
   "source": [
    "### 6.1) Train and Cross Validate  split"
   ]
  },
  {
   "cell_type": "code",
   "execution_count": 106,
   "metadata": {
    "colab": {
     "base_uri": "https://localhost:8080/",
     "height": 195
    },
    "colab_type": "code",
    "executionInfo": {
     "elapsed": 950,
     "status": "ok",
     "timestamp": 1564775035966,
     "user": {
      "displayName": "Sonali",
      "photoUrl": "https://lh6.googleusercontent.com/-29UuJKP2sCU/AAAAAAAAAAI/AAAAAAAAFFE/Z_0wtF2tqiQ/s64/photo.jpg",
      "userId": "16260148040418897175"
     },
     "user_tz": -330
    },
    "id": "ZumppmnN0BzI",
    "outputId": "0e0652df-593f-4002-8810-6208eccef376"
   },
   "outputs": [],
   "source": [
    "from sklearn.model_selection import train_test_split\n",
    "\n",
    "# Taking class as y label in differnt dataset and then dropping the target and class from train dataset.\n",
    "Y_train = df_train_sampled['class']\n",
    "df_train_sampled.drop(columns=['target','class'], axis=1, inplace=True)\n",
    "\n",
    "# split the train data into train and cross validation by maintaining same distribution of output varaible 'Y_train' [stratify=Y_train]\n",
    "# Train : cross validate ratio = 70 : 30\n",
    "\n",
    "train_df, cv_df, y_train, y_cv = train_test_split(df_train_sampled, Y_train, stratify=Y_train, test_size=0.30)"
   ]
  },
  {
   "cell_type": "code",
   "execution_count": 107,
   "metadata": {
    "colab": {},
    "colab_type": "code",
    "id": "6PY75vfa0CM_"
   },
   "outputs": [
    {
     "name": "stdout",
     "output_type": "stream",
     "text": [
      "Number of data points in train data: 98000\n",
      "Number of data points in cross validation data: 42000\n",
      "Number of data points of Y label in train data: 98000\n",
      "Number of data points of Y label in cross validation data: 42000\n"
     ]
    }
   ],
   "source": [
    "print('Number of data points in train data:', train_df.shape[0])\n",
    "print('Number of data points in cross validation data:', cv_df.shape[0])\n",
    "print('Number of data points of Y label in train data:', y_train.shape[0])\n",
    "print('Number of data points of Y label in cross validation data:', y_cv.shape[0])"
   ]
  },
  {
   "cell_type": "markdown",
   "metadata": {
    "colab_type": "text",
    "id": "STjrW-pW3Mkv"
   },
   "source": [
    "### 6.2) TFIDF Vectorization on comment text for Train, Test and Cross Validate"
   ]
  },
  {
   "cell_type": "code",
   "execution_count": 108,
   "metadata": {
    "colab": {
     "base_uri": "https://localhost:8080/",
     "height": 52
    },
    "colab_type": "code",
    "executionInfo": {
     "elapsed": 1829,
     "status": "ok",
     "timestamp": 1564775621414,
     "user": {
      "displayName": "Sonali",
      "photoUrl": "https://lh6.googleusercontent.com/-29UuJKP2sCU/AAAAAAAAAAI/AAAAAAAAFFE/Z_0wtF2tqiQ/s64/photo.jpg",
      "userId": "16260148040418897175"
     },
     "user_tz": -330
    },
    "id": "QsvhT_Or0CPv",
    "outputId": "225ee982-6a67-469d-c16e-9c9eaf1f155b"
   },
   "outputs": [
    {
     "name": "stdout",
     "output_type": "stream",
     "text": [
      "shape of train TFIDF vector :  (98000, 2000)\n",
      "shape of cross validate TFIDF vector :  (42000, 2000)\n",
      "shape of test TFIDF vector :  (97320, 2000)\n"
     ]
    }
   ],
   "source": [
    "from sklearn.feature_extraction.text import TfidfVectorizer\n",
    "\n",
    "tfidf_vect = TfidfVectorizer(ngram_range=(1,5),max_features=2000)\n",
    "\n",
    "tfidf_train = tfidf_vect.fit_transform(train_df['comment_text'])\n",
    "tfidf_cv = tfidf_vect.transform(cv_df['comment_text'])\n",
    "tfidf_test = tfidf_vect.transform(df_test['comment_text'])\n",
    "\n",
    "print('shape of train TFIDF vector : ', tfidf_train.shape)\n",
    "print('shape of cross validate TFIDF vector : ', tfidf_cv.shape)\n",
    "print('shape of test TFIDF vector : ', tfidf_test.shape)"
   ]
  },
  {
   "cell_type": "markdown",
   "metadata": {
    "colab_type": "text",
    "id": "ixiKrZd05bhP"
   },
   "source": [
    "### 6.3) Vectorization of sentiment analysis scores in train and cross validate"
   ]
  },
  {
   "cell_type": "code",
   "execution_count": 109,
   "metadata": {
    "colab": {
     "base_uri": "https://localhost:8080/",
     "height": 52
    },
    "colab_type": "code",
    "executionInfo": {
     "elapsed": 1061,
     "status": "ok",
     "timestamp": 1564776461076,
     "user": {
      "displayName": "Sonali",
      "photoUrl": "https://lh6.googleusercontent.com/-29UuJKP2sCU/AAAAAAAAAAI/AAAAAAAAFFE/Z_0wtF2tqiQ/s64/photo.jpg",
      "userId": "16260148040418897175"
     },
     "user_tz": -330
    },
    "id": "4mNNbzig0CS7",
    "outputId": "217bcdb1-b231-4acc-a291-9decd619ae5f"
   },
   "outputs": [
    {
     "name": "stdout",
     "output_type": "stream",
     "text": [
      "Shape of neg_train : (98000, 1)\n",
      "Shape of neg_cv : (42000, 1)\n",
      "Shape of neg_test : (97320, 1)\n"
     ]
    }
   ],
   "source": [
    "# Vectorizing neg score \n",
    "\n",
    "from sklearn.preprocessing import MinMaxScaler\n",
    "\n",
    "Neg_scaler = MinMaxScaler()\n",
    "\n",
    "Neg_scaler.fit(train_df['text_NegScore'].values.reshape(-1,1))\n",
    "\n",
    "neg_train = Neg_scaler.transform(train_df['text_NegScore'].values.reshape(-1,1))\n",
    "neg_cv = Neg_scaler.transform(cv_df['text_NegScore'].values.reshape(-1,1))\n",
    "neg_test = Neg_scaler.transform(df_test['text_NegScore'].values.reshape(-1,1))\n",
    "\n",
    "print('Shape of neg_train :', neg_train.shape)\n",
    "print('Shape of neg_cv :', neg_cv.shape)\n",
    "print('Shape of neg_test :', neg_test.shape)"
   ]
  },
  {
   "cell_type": "code",
   "execution_count": 110,
   "metadata": {
    "colab": {
     "base_uri": "https://localhost:8080/",
     "height": 52
    },
    "colab_type": "code",
    "executionInfo": {
     "elapsed": 1132,
     "status": "ok",
     "timestamp": 1564776565312,
     "user": {
      "displayName": "Sonali",
      "photoUrl": "https://lh6.googleusercontent.com/-29UuJKP2sCU/AAAAAAAAAAI/AAAAAAAAFFE/Z_0wtF2tqiQ/s64/photo.jpg",
      "userId": "16260148040418897175"
     },
     "user_tz": -330
    },
    "id": "8J18gfnF8ksa",
    "outputId": "58c7f07d-7986-497c-8c5b-f37e9367ccc9"
   },
   "outputs": [
    {
     "name": "stdout",
     "output_type": "stream",
     "text": [
      "Shape of pos_train : (98000, 1)\n",
      "Shape of pos_cv : (42000, 1)\n",
      "Shape of pos_test : (97320, 1)\n"
     ]
    }
   ],
   "source": [
    "# Vectorizing pos score \n",
    "\n",
    "from sklearn.preprocessing import MinMaxScaler\n",
    "\n",
    "Pos_scaler = MinMaxScaler()\n",
    "\n",
    "Pos_scaler.fit(train_df['text_PosScore'].values.reshape(-1,1))\n",
    "\n",
    "pos_train = Pos_scaler.transform(train_df['text_PosScore'].values.reshape(-1,1))\n",
    "pos_cv = Pos_scaler.transform(cv_df['text_PosScore'].values.reshape(-1,1))\n",
    "pos_test = Pos_scaler.transform(df_test['text_PosScore'].values.reshape(-1,1))\n",
    "\n",
    "print('Shape of pos_train :', pos_train.shape)\n",
    "print('Shape of pos_cv :', pos_cv.shape)\n",
    "print('Shape of pos_test :', pos_test.shape)"
   ]
  },
  {
   "cell_type": "code",
   "execution_count": 111,
   "metadata": {
    "colab": {
     "base_uri": "https://localhost:8080/",
     "height": 52
    },
    "colab_type": "code",
    "executionInfo": {
     "elapsed": 942,
     "status": "ok",
     "timestamp": 1564776638418,
     "user": {
      "displayName": "Sonali",
      "photoUrl": "https://lh6.googleusercontent.com/-29UuJKP2sCU/AAAAAAAAAAI/AAAAAAAAFFE/Z_0wtF2tqiQ/s64/photo.jpg",
      "userId": "16260148040418897175"
     },
     "user_tz": -330
    },
    "id": "-Nmquw4o86Cj",
    "outputId": "7dd3f043-c527-40c8-a73b-7e92c1549abc"
   },
   "outputs": [
    {
     "name": "stdout",
     "output_type": "stream",
     "text": [
      "Shape of neu_train : (98000, 1)\n",
      "Shape of neu_cv : (42000, 1)\n",
      "Shape of neu_test : (97320, 1)\n"
     ]
    }
   ],
   "source": [
    "# Vectorizing neu score \n",
    "\n",
    "from sklearn.preprocessing import MinMaxScaler\n",
    "\n",
    "Neu_scaler = MinMaxScaler()\n",
    "\n",
    "Neu_scaler.fit(train_df['text_NeuScore'].values.reshape(-1,1))\n",
    "\n",
    "neu_train = Neu_scaler.transform(train_df['text_NeuScore'].values.reshape(-1,1))\n",
    "neu_cv = Neu_scaler.transform(cv_df['text_NeuScore'].values.reshape(-1,1))\n",
    "neu_test = Neu_scaler.transform(df_test['text_NeuScore'].values.reshape(-1,1))\n",
    "\n",
    "print('Shape of neu_train :', neu_train.shape)\n",
    "print('Shape of neu_cv :', neu_cv.shape)\n",
    "print('Shape of neu_test :', neu_test.shape)"
   ]
  },
  {
   "cell_type": "code",
   "execution_count": 112,
   "metadata": {
    "colab": {
     "base_uri": "https://localhost:8080/",
     "height": 52
    },
    "colab_type": "code",
    "executionInfo": {
     "elapsed": 1018,
     "status": "ok",
     "timestamp": 1564776719425,
     "user": {
      "displayName": "Sonali",
      "photoUrl": "https://lh6.googleusercontent.com/-29UuJKP2sCU/AAAAAAAAAAI/AAAAAAAAFFE/Z_0wtF2tqiQ/s64/photo.jpg",
      "userId": "16260148040418897175"
     },
     "user_tz": -330
    },
    "id": "_My5Av579Lrn",
    "outputId": "16e49a4f-7ac2-4c5e-a4e0-e70fee663ca2"
   },
   "outputs": [
    {
     "name": "stdout",
     "output_type": "stream",
     "text": [
      "Shape of comp_train : (98000, 1)\n",
      "Shape of comp_cv : (42000, 1)\n",
      "Shape of comp_test : (97320, 1)\n"
     ]
    }
   ],
   "source": [
    "# Vectorizing compound score \n",
    "\n",
    "from sklearn.preprocessing import MinMaxScaler\n",
    "\n",
    "Comp_scaler = MinMaxScaler()\n",
    "\n",
    "Comp_scaler.fit(train_df['text_compoundScore'].values.reshape(-1,1))\n",
    "\n",
    "comp_train = Comp_scaler.transform(train_df['text_compoundScore'].values.reshape(-1,1))\n",
    "comp_cv = Comp_scaler.transform(cv_df['text_compoundScore'].values.reshape(-1,1))\n",
    "comp_test = Comp_scaler.transform(df_test['text_compoundScore'].values.reshape(-1,1))\n",
    "\n",
    "print('Shape of comp_train :', comp_train.shape)\n",
    "print('Shape of comp_cv :', comp_cv.shape)\n",
    "print('Shape of comp_test :', comp_test.shape)"
   ]
  },
  {
   "cell_type": "markdown",
   "metadata": {},
   "source": [
    "### 6.4) Vectorizing Comment length"
   ]
  },
  {
   "cell_type": "code",
   "execution_count": 113,
   "metadata": {},
   "outputs": [
    {
     "name": "stdout",
     "output_type": "stream",
     "text": [
      "Shape of comp_train : (98000, 1)\n",
      "Shape of comp_cv : (42000, 1)\n",
      "Shape of comp_test : (97320, 1)\n"
     ]
    }
   ],
   "source": [
    "# Vectorizing compound score \n",
    "\n",
    "from sklearn.preprocessing import StandardScaler\n",
    "\n",
    "Len_scaler = StandardScaler()\n",
    "\n",
    "Len_scaler.fit(train_df['Comment_Len'].values.reshape(-1,1))\n",
    "Len_scaler.fit(cv_df['Comment_Len'].values.reshape(-1,1))\n",
    "Len_scaler.fit(df_test['Comment_Len'].values.reshape(-1,1))\n",
    "\n",
    "len_train = Len_scaler.transform(train_df['Comment_Len'].values.reshape(-1,1))\n",
    "len_cv = Len_scaler.transform(cv_df['Comment_Len'].values.reshape(-1,1))\n",
    "len_test = Len_scaler.transform(df_test['Comment_Len'].values.reshape(-1,1))\n",
    "\n",
    "print('Shape of comp_train :', len_train.shape)\n",
    "print('Shape of comp_cv :', len_cv.shape)\n",
    "print('Shape of comp_test :', len_test.shape)"
   ]
  },
  {
   "cell_type": "markdown",
   "metadata": {},
   "source": [
    "### 6.5) Vectorizing topic columns"
   ]
  },
  {
   "cell_type": "code",
   "execution_count": 114,
   "metadata": {},
   "outputs": [
    {
     "name": "stdout",
     "output_type": "stream",
     "text": [
      "Shape of topic1_train : (98000, 1)\n",
      "Shape of topic1_cv : (42000, 1)\n",
      "Shape of topic1_test : (97320, 1)\n"
     ]
    }
   ],
   "source": [
    "# Vectorizing topic-1\n",
    "\n",
    "from sklearn.preprocessing import StandardScaler\n",
    "\n",
    "topic_scaler = StandardScaler()\n",
    "\n",
    "topic_scaler.fit(train_df['Topic-1'].values.reshape(-1,1))\n",
    "topic_scaler.fit(cv_df['Topic-1'].values.reshape(-1,1))\n",
    "topic_scaler.fit(df_test['Topic-1'].values.reshape(-1,1))\n",
    "\n",
    "topic1_train = topic_scaler.transform(train_df['Topic-1'].values.reshape(-1,1))\n",
    "topic1_cv = topic_scaler.transform(cv_df['Topic-1'].values.reshape(-1,1))\n",
    "topic1_test = topic_scaler.transform(df_test['Topic-1'].values.reshape(-1,1))\n",
    "\n",
    "print('Shape of topic1_train :', topic1_train.shape)\n",
    "print('Shape of topic1_cv :', topic1_cv.shape)\n",
    "print('Shape of topic1_test :', topic1_test.shape)"
   ]
  },
  {
   "cell_type": "code",
   "execution_count": 115,
   "metadata": {},
   "outputs": [
    {
     "name": "stdout",
     "output_type": "stream",
     "text": [
      "Shape of topic2_train : (98000, 1)\n",
      "Shape of topic2_cv : (42000, 1)\n",
      "Shape of topic2_test : (97320, 1)\n"
     ]
    }
   ],
   "source": [
    "# Vectorizing topic-2\n",
    "\n",
    "topic_scaler.fit(train_df['Topic-2'].values.reshape(-1,1))\n",
    "topic_scaler.fit(cv_df['Topic-2'].values.reshape(-1,1))\n",
    "topic_scaler.fit(df_test['Topic-2'].values.reshape(-1,1))\n",
    "\n",
    "topic2_train = topic_scaler.transform(train_df['Topic-2'].values.reshape(-1,1))\n",
    "topic2_cv = topic_scaler.transform(cv_df['Topic-2'].values.reshape(-1,1))\n",
    "topic2_test = topic_scaler.transform(df_test['Topic-2'].values.reshape(-1,1))\n",
    "\n",
    "print('Shape of topic2_train :', topic2_train.shape)\n",
    "print('Shape of topic2_cv :', topic2_cv.shape)\n",
    "print('Shape of topic2_test :', topic2_test.shape)"
   ]
  },
  {
   "cell_type": "code",
   "execution_count": 118,
   "metadata": {},
   "outputs": [
    {
     "name": "stdout",
     "output_type": "stream",
     "text": [
      "Shape of topic3_train : (98000, 1)\n",
      "Shape of topic3_cv : (42000, 1)\n",
      "Shape of topic3_test : (97320, 1)\n"
     ]
    }
   ],
   "source": [
    "# Vectorizing topic-3\n",
    "\n",
    "topic_scaler.fit(train_df['Topic-3'].values.reshape(-1,1))\n",
    "topic_scaler.fit(cv_df['Topic-3'].values.reshape(-1,1))\n",
    "topic_scaler.fit(df_test['Topic-3'].values.reshape(-1,1))\n",
    "\n",
    "topic3_train = topic_scaler.transform(train_df['Topic-3'].values.reshape(-1,1))\n",
    "topic3_cv = topic_scaler.transform(cv_df['Topic-3'].values.reshape(-1,1))\n",
    "topic3_test = topic_scaler.transform(df_test['Topic-3'].values.reshape(-1,1))\n",
    "\n",
    "print('Shape of topic3_train :', topic3_train.shape)\n",
    "print('Shape of topic3_cv :', topic3_cv.shape)\n",
    "print('Shape of topic3_test :', topic3_test.shape)"
   ]
  },
  {
   "cell_type": "code",
   "execution_count": 116,
   "metadata": {},
   "outputs": [
    {
     "name": "stdout",
     "output_type": "stream",
     "text": [
      "Shape of topic4_train : (98000, 1)\n",
      "Shape of topic4_cv : (42000, 1)\n",
      "Shape of topic4_test : (97320, 1)\n"
     ]
    }
   ],
   "source": [
    "# Vectorizing topic-4\n",
    "\n",
    "topic_scaler.fit(train_df['Topic-4'].values.reshape(-1,1))\n",
    "topic_scaler.fit(cv_df['Topic-4'].values.reshape(-1,1))\n",
    "topic_scaler.fit(df_test['Topic-4'].values.reshape(-1,1))\n",
    "\n",
    "topic4_train = topic_scaler.transform(train_df['Topic-4'].values.reshape(-1,1))\n",
    "topic4_cv = topic_scaler.transform(cv_df['Topic-4'].values.reshape(-1,1))\n",
    "topic4_test = topic_scaler.transform(df_test['Topic-4'].values.reshape(-1,1))\n",
    "\n",
    "print('Shape of topic4_train :', topic4_train.shape)\n",
    "print('Shape of topic4_cv :', topic4_cv.shape)\n",
    "print('Shape of topic4_test :', topic4_test.shape)"
   ]
  },
  {
   "cell_type": "code",
   "execution_count": 117,
   "metadata": {},
   "outputs": [
    {
     "name": "stdout",
     "output_type": "stream",
     "text": [
      "Shape of topic5_train : (98000, 1)\n",
      "Shape of topic5_cv : (42000, 1)\n",
      "Shape of topic5_test : (97320, 1)\n"
     ]
    }
   ],
   "source": [
    "# Vectorizing topic-5\n",
    "\n",
    "topic_scaler.fit(train_df['Topic-5'].values.reshape(-1,1))\n",
    "topic_scaler.fit(cv_df['Topic-5'].values.reshape(-1,1))\n",
    "topic_scaler.fit(df_test['Topic-5'].values.reshape(-1,1))\n",
    "\n",
    "topic5_train = topic_scaler.transform(train_df['Topic-5'].values.reshape(-1,1))\n",
    "topic5_cv = topic_scaler.transform(cv_df['Topic-5'].values.reshape(-1,1))\n",
    "topic5_test = topic_scaler.transform(df_test['Topic-5'].values.reshape(-1,1))\n",
    "\n",
    "print('Shape of topic5_train :', topic5_train.shape)\n",
    "print('Shape of topic5_cv :', topic5_cv.shape)\n",
    "print('Shape of topic5_test :', topic5_test.shape)"
   ]
  },
  {
   "cell_type": "markdown",
   "metadata": {
    "colab_type": "text",
    "id": "8Uui3rvb9ogG"
   },
   "source": [
    "### 6.5) Merging all the features"
   ]
  },
  {
   "cell_type": "code",
   "execution_count": 119,
   "metadata": {
    "colab": {
     "base_uri": "https://localhost:8080/",
     "height": 52
    },
    "colab_type": "code",
    "executionInfo": {
     "elapsed": 972,
     "status": "ok",
     "timestamp": 1564777162110,
     "user": {
      "displayName": "Sonali",
      "photoUrl": "https://lh6.googleusercontent.com/-29UuJKP2sCU/AAAAAAAAAAI/AAAAAAAAFFE/Z_0wtF2tqiQ/s64/photo.jpg",
      "userId": "16260148040418897175"
     },
     "user_tz": -330
    },
    "id": "JNijo8Xi9vFR",
    "outputId": "bde29758-f4db-4d78-a2b7-d67038b5f0f9"
   },
   "outputs": [
    {
     "name": "stdout",
     "output_type": "stream",
     "text": [
      "Shape of X train dataset :  (98000, 2010)\n",
      "Shape of CV dataset :  (42000, 2010)\n",
      "Shape of X test dataset :  (97320, 2010)\n"
     ]
    }
   ],
   "source": [
    "from scipy.sparse import hstack\n",
    "\n",
    "X_train = hstack((tfidf_train,neg_train,neu_train,pos_train,comp_train,len_train,topic1_train,topic2_train,topic3_train,topic4_train,topic5_train))\n",
    "X_cv = hstack((tfidf_cv,neg_cv,neu_cv,pos_cv,comp_cv,len_cv,topic1_cv,topic2_cv,topic3_cv,topic4_cv,topic5_cv))\n",
    "X_test = hstack((tfidf_test,neg_test,neu_test,pos_test,comp_test,len_test,topic1_test,topic2_test,topic3_test,topic4_test,topic5_test))\n",
    "\n",
    "print(\"Shape of X train dataset : \", X_train.shape)\n",
    "print(\"Shape of CV dataset : \", X_cv.shape)\n",
    "print(\"Shape of X test dataset : \", X_test.shape)"
   ]
  },
  {
   "cell_type": "markdown",
   "metadata": {},
   "source": [
    "## 7) Logistic Regression Model"
   ]
  },
  {
   "cell_type": "markdown",
   "metadata": {
    "colab_type": "text",
    "id": "U6-67hAz_1JP"
   },
   "source": [
    "### 7.1) Hyperparameter tuning for Logistic Regression"
   ]
  },
  {
   "cell_type": "code",
   "execution_count": 121,
   "metadata": {
    "colab": {
     "base_uri": "https://localhost:8080/",
     "height": 318
    },
    "colab_type": "code",
    "executionInfo": {
     "elapsed": 17408,
     "status": "ok",
     "timestamp": 1564778719931,
     "user": {
      "displayName": "Sonali",
      "photoUrl": "https://lh6.googleusercontent.com/-29UuJKP2sCU/AAAAAAAAAAI/AAAAAAAAFFE/Z_0wtF2tqiQ/s64/photo.jpg",
      "userId": "16260148040418897175"
     },
     "user_tz": -330
    },
    "id": "iEl5kd4o_-j4",
    "outputId": "00a93a9b-2654-42fb-8203-8300b4b17242"
   },
   "outputs": [
    {
     "name": "stdout",
     "output_type": "stream",
     "text": [
      "\n",
      "for alpha = 1e-08\n",
      "Log Loss of CV : 0.41668673721378185\n",
      "\n",
      "for alpha = 1e-07\n",
      "Log Loss of CV : 0.4321146967261984\n",
      "\n",
      "for alpha = 1e-06\n",
      "Log Loss of CV : 0.43082204239810423\n",
      "\n",
      "for alpha = 1e-05\n",
      "Log Loss of CV : 0.39602725582535103\n",
      "\n",
      "for alpha = 0.0001\n",
      "Log Loss of CV : 0.4181462237531971\n",
      "\n",
      "for alpha = 0.001\n",
      "Log Loss of CV : 0.5378674068954763\n",
      "\n",
      "for alpha = 0.01\n",
      "Log Loss of CV : 0.6089163604391875\n",
      "\n",
      "for alpha = 0.1\n",
      "Log Loss of CV : 0.6479240818195409\n",
      "\n",
      "for alpha = 1\n",
      "Log Loss of CV : 0.6633622609451172\n",
      "\n",
      "for alpha = 10\n",
      "Log Loss of CV : 0.6662396520133426\n",
      "\n",
      "for alpha = 100\n",
      "Log Loss of CV : 0.6665801425094038\n"
     ]
    },
    {
     "data": {
      "image/png": "[encoded data removed]",
      "text/plain": [
       "<Figure size 432x288 with 1 Axes>"
      ]
     },
     "metadata": {},
     "output_type": "display_data"
    },
    {
     "name": "stdout",
     "output_type": "stream",
     "text": [
      "\n",
      "The best alpha is :  1e-05\n"
     ]
    }
   ],
   "source": [
    "from sklearn.linear_model import SGDClassifier\n",
    "from sklearn.calibration import CalibratedClassifierCV\n",
    "from sklearn.metrics.classification import accuracy_score, log_loss\n",
    "import warnings\n",
    "warnings.filterwarnings(\"ignore\")\n",
    "\n",
    "alpha = [10 ** x for x in range(-8, 3)]\n",
    "cv_log_error_array = []\n",
    "for i in alpha:\n",
    "    print(\"\\nfor alpha =\", i)\n",
    "    clf = SGDClassifier(class_weight='balanced', alpha=i, penalty='l2', loss='log', random_state=42, n_jobs=-1)\n",
    "    clf.fit(X_train, y_train)\n",
    "    sig_clf = CalibratedClassifierCV(clf, method=\"sigmoid\")\n",
    "    sig_clf.fit(X_train, y_train)\n",
    "    sig_clf_probs = sig_clf.predict_proba(X_cv)\n",
    "    cv_log_error_array.append(log_loss(y_cv, sig_clf_probs, labels=clf.classes_, eps=1e-15))\n",
    "    # to avoid rounding error while multiplying probabilites we use log-probability estimates\n",
    "    print(\"Log Loss of CV :\",log_loss(y_cv, sig_clf_probs)) \n",
    "\n",
    "fig, ax = plt.subplots()\n",
    "ax.plot(alpha, cv_log_error_array,c='g')\n",
    "for i, txt in enumerate(np.round(cv_log_error_array,3)):\n",
    "    ax.annotate((alpha[i],str(txt)), (alpha[i],cv_log_error_array[i]))\n",
    "plt.grid()\n",
    "plt.title(\"Cross Validation Error for each alpha\")\n",
    "plt.xlabel(\"Alpha i's\")\n",
    "plt.ylabel(\"Error measure\")\n",
    "plt.show()\n",
    "\n",
    "best_alpha = np.argmin(cv_log_error_array)\n",
    "print(\"\\nThe best alpha is : \",alpha[best_alpha])"
   ]
  },
  {
   "cell_type": "markdown",
   "metadata": {},
   "source": [
    "### 7.2) Confusion matrix for Cross Validate"
   ]
  },
  {
   "cell_type": "code",
   "execution_count": 122,
   "metadata": {},
   "outputs": [],
   "source": [
    "import matplotlib.pyplot as plt\n",
    "import seaborn as sns\n",
    "import pandas as pd\n",
    "\n",
    "def plot_confusion_matrixas_HeatMap(confusion_matrix):\n",
    "    col = [\"Predicted project rejected\",\"Prediction project approved\"]\n",
    "    ind = [\"Actual project rejected\",\"Actual project approved\"]\n",
    "    df_cm = pd.DataFrame(confusion_matrix, index=ind, columns=col)\n",
    "    fig = plt.figure(figsize=(4,4))\n",
    "    plt.close()\n",
    "    heatmap = sns.heatmap(df_cm, annot=True, fmt=\"d\")\n",
    "    heatmap.yaxis.set_ticklabels(heatmap.yaxis.get_ticklabels(), rotation=0, ha='right', fontsize=14)\n",
    "    heatmap.xaxis.set_ticklabels(heatmap.xaxis.get_ticklabels(), rotation=45, ha='right', fontsize=14)\n",
    "    plt.ylabel('Predicted label')\n",
    "    plt.xlabel('True label')\n",
    "    return fig"
   ]
  },
  {
   "cell_type": "code",
   "execution_count": 123,
   "metadata": {
    "colab": {
     "base_uri": "https://localhost:8080/",
     "height": 52
    },
    "colab_type": "code",
    "executionInfo": {
     "elapsed": 985,
     "status": "ok",
     "timestamp": 1564778807577,
     "user": {
      "displayName": "Sonali",
      "photoUrl": "https://lh6.googleusercontent.com/-29UuJKP2sCU/AAAAAAAAAAI/AAAAAAAAFFE/Z_0wtF2tqiQ/s64/photo.jpg",
      "userId": "16260148040418897175"
     },
     "user_tz": -330
    },
    "id": "klXFYQGsFE4D",
    "outputId": "7a8d5081-19c0-466a-aa71-37fdc1684eb4"
   },
   "outputs": [
    {
     "data": {
      "text/plain": [
       "<Figure size 288x288 with 0 Axes>"
      ]
     },
     "execution_count": 123,
     "metadata": {},
     "output_type": "execute_result"
    },
    {
     "data": {
      "image/png": "[encoded data removed]",
      "text/plain": [
       "<Figure size 432x288 with 2 Axes>"
      ]
     },
     "metadata": {},
     "output_type": "display_data"
    }
   ],
   "source": [
    "from sklearn.metrics import confusion_matrix\n",
    "# Confusion Matrix for cross validate data\n",
    "\n",
    "y_predictedCV = sig_clf.predict(X_cv)\n",
    "cm = confusion_matrix(y_cv, y_predictedCV)\n",
    "plot_confusion_matrixas_HeatMap(cm)"
   ]
  },
  {
   "cell_type": "markdown",
   "metadata": {},
   "source": [
    "### 7.3) Receiver operating characteristic (ROC) curve"
   ]
  },
  {
   "cell_type": "code",
   "execution_count": 124,
   "metadata": {},
   "outputs": [
    {
     "data": {
      "image/png": "[encoded data removed]",
      "text/plain": [
       "<Figure size 432x288 with 1 Axes>"
      ]
     },
     "metadata": {},
     "output_type": "display_data"
    }
   ],
   "source": [
    "from sklearn.metrics import roc_curve, auc\n",
    "\n",
    "y_predictedtrain = sig_clf.predict(X_train)\n",
    "y_predictedCV = sig_clf.predict(X_cv)\n",
    "\n",
    "train_fpr, train_tpr, tr_thresholds = roc_curve(y_train, y_predictedtrain)\n",
    "test_fpr, test_tpr, te_thresholds = roc_curve(y_cv, y_predictedCV)\n",
    "plt.plot(train_fpr, train_tpr, label=\"train AUC =\"+str(auc(train_fpr, train_tpr)))\n",
    "plt.plot(test_fpr, test_tpr, label=\"CV AUC =\"+str(auc(test_fpr, test_tpr)))\n",
    "plt.legend()\n",
    "plt.xlabel(\"ROC Curve for Train and CV data\")\n",
    "plt.ylabel(\"AUC\")\n",
    "plt.title(\"ERROR PLOTS\")\n",
    "plt.grid()\n",
    "plt.show()"
   ]
  },
  {
   "cell_type": "markdown",
   "metadata": {
    "colab_type": "text",
    "id": "7FVcKz52FhGI"
   },
   "source": [
    "## 8) Testing the model"
   ]
  },
  {
   "cell_type": "code",
   "execution_count": 125,
   "metadata": {
    "colab": {
     "base_uri": "https://localhost:8080/",
     "height": 90
    },
    "colab_type": "code",
    "executionInfo": {
     "elapsed": 1044,
     "status": "ok",
     "timestamp": 1564780429495,
     "user": {
      "displayName": "Sonali",
      "photoUrl": "https://lh6.googleusercontent.com/-29UuJKP2sCU/AAAAAAAAAAI/AAAAAAAAFFE/Z_0wtF2tqiQ/s64/photo.jpg",
      "userId": "16260148040418897175"
     },
     "user_tz": -330
    },
    "id": "wmEIf8hrFfqJ",
    "outputId": "5424bfa3-4094-4670-c228-85233a6f756f"
   },
   "outputs": [
    {
     "name": "stdout",
     "output_type": "stream",
     "text": [
      "[0 0 0 0 0 0 1 1 0 0 0 0 0 0 1 0 0 0 0 0]\n"
     ]
    }
   ],
   "source": [
    "from sklearn.metrics import confusion_matrix\n",
    "\n",
    "clf = SGDClassifier(class_weight='balanced', alpha=alpha[best_alpha], penalty='l2', loss='log', random_state=42)\n",
    "clf.fit(X_train,y_train)\n",
    "\n",
    "sig_clf = CalibratedClassifierCV(clf, method=\"sigmoid\")\n",
    "sig_clf.fit(X_train, y_train)\n",
    "\n",
    "y_predicted_test = sig_clf.predict(X_test)\n",
    "y_predict_proba_test = sig_clf.predict_proba(X_test)\n",
    "\n",
    "print(y_predicted_test[:20])"
   ]
  },
  {
   "cell_type": "code",
   "execution_count": 126,
   "metadata": {},
   "outputs": [
    {
     "data": {
      "text/plain": [
       "'work togeth dream on liber alreadi busi creat next scandal crime accus presid trump sinc lose polici debat everi time snivel statist traitor ground dirt never ever let qwest destroy countri mean avail sure'"
      ]
     },
     "execution_count": 126,
     "metadata": {},
     "output_type": "execute_result"
    }
   ],
   "source": [
    "df_test['comment_text'][7] "
   ]
  },
  {
   "cell_type": "code",
   "execution_count": 127,
   "metadata": {
    "colab": {
     "base_uri": "https://localhost:8080/",
     "height": 34
    },
    "colab_type": "code",
    "executionInfo": {
     "elapsed": 1015,
     "status": "ok",
     "timestamp": 1564780508243,
     "user": {
      "displayName": "Sonali",
      "photoUrl": "https://lh6.googleusercontent.com/-29UuJKP2sCU/AAAAAAAAAAI/AAAAAAAAFFE/Z_0wtF2tqiQ/s64/photo.jpg",
      "userId": "16260148040418897175"
     },
     "user_tz": -330
    },
    "id": "vumESpLRLsjw",
    "outputId": "f4a73765-676b-499f-8f45-1a0de561be12"
   },
   "outputs": [
    {
     "name": "stdout",
     "output_type": "stream",
     "text": [
      "0.8405510204081633\n",
      "0.8321190476190476\n"
     ]
    }
   ],
   "source": [
    "# Scores for traning and cross validate data\n",
    "\n",
    "print(sig_clf.score(X=X_train,y=y_train))\n",
    "print(sig_clf.score(X=X_cv,y=y_cv))"
   ]
  },
  {
   "cell_type": "code",
   "execution_count": 128,
   "metadata": {},
   "outputs": [
    {
     "name": "stdout",
     "output_type": "stream",
     "text": [
      "[[0.84518576 0.15481424]\n",
      " [0.73954805 0.26045195]\n",
      " [0.79896495 0.20103505]\n",
      " ...\n",
      " [0.81166511 0.18833489]\n",
      " [0.33395895 0.66604105]\n",
      " [0.91555654 0.08444346]]\n"
     ]
    }
   ],
   "source": [
    "print(y_predict_proba_test)"
   ]
  },
  {
   "cell_type": "code",
   "execution_count": 129,
   "metadata": {},
   "outputs": [],
   "source": [
    "# Merging the predicted Y class and probability to the test dataframe\n",
    "\n",
    "df_test['Y_Predicted_class'] = list(y_predicted_test)\n",
    "df_test['Y_predictClass_probability'] = list(y_predict_proba_test)"
   ]
  },
  {
   "cell_type": "code",
   "execution_count": 130,
   "metadata": {},
   "outputs": [
    {
     "data": {
      "text/html": [
       "<div>\n",
       "<style scoped>\n",
       "    .dataframe tbody tr th:only-of-type {\n",
       "        vertical-align: middle;\n",
       "    }\n",
       "\n",
       "    .dataframe tbody tr th {\n",
       "        vertical-align: top;\n",
       "    }\n",
       "\n",
       "    .dataframe thead th {\n",
       "        text-align: right;\n",
       "    }\n",
       "</style>\n",
       "<table border=\"1\" class=\"dataframe\">\n",
       "  <thead>\n",
       "    <tr style=\"text-align: right;\">\n",
       "      <th></th>\n",
       "      <th>id</th>\n",
       "      <th>comment_text</th>\n",
       "      <th>Topic-1</th>\n",
       "      <th>Topic-2</th>\n",
       "      <th>Topic-3</th>\n",
       "      <th>Topic-4</th>\n",
       "      <th>Topic-5</th>\n",
       "      <th>text_NegScore</th>\n",
       "      <th>text_NeuScore</th>\n",
       "      <th>text_PosScore</th>\n",
       "      <th>text_compoundScore</th>\n",
       "      <th>Comment_Len</th>\n",
       "      <th>Y_Predicted_class</th>\n",
       "      <th>Y_predictClass_probability</th>\n",
       "    </tr>\n",
       "  </thead>\n",
       "  <tbody>\n",
       "    <tr>\n",
       "      <th>0</th>\n",
       "      <td>7097320</td>\n",
       "      <td>integr mean pay debt doe appli presid trump too</td>\n",
       "      <td>0.280907</td>\n",
       "      <td>0.214380</td>\n",
       "      <td>0.117785</td>\n",
       "      <td>0.304614</td>\n",
       "      <td>0.082313</td>\n",
       "      <td>0.358</td>\n",
       "      <td>0.642</td>\n",
       "      <td>0.000</td>\n",
       "      <td>-0.4404</td>\n",
       "      <td>9</td>\n",
       "      <td>0</td>\n",
       "      <td>[0.8451857561609457, 0.15481424383905426]</td>\n",
       "    </tr>\n",
       "    <tr>\n",
       "      <th>1</th>\n",
       "      <td>7097321</td>\n",
       "      <td>malfeas administr board wast money</td>\n",
       "      <td>0.248677</td>\n",
       "      <td>0.245883</td>\n",
       "      <td>0.098337</td>\n",
       "      <td>0.312666</td>\n",
       "      <td>0.094437</td>\n",
       "      <td>0.000</td>\n",
       "      <td>1.000</td>\n",
       "      <td>0.000</td>\n",
       "      <td>0.0000</td>\n",
       "      <td>5</td>\n",
       "      <td>0</td>\n",
       "      <td>[0.739548053041451, 0.26045194695854895]</td>\n",
       "    </tr>\n",
       "    <tr>\n",
       "      <th>2</th>\n",
       "      <td>7097322</td>\n",
       "      <td>rmiller101 spoken like true elitist look bud r...</td>\n",
       "      <td>0.334971</td>\n",
       "      <td>0.241341</td>\n",
       "      <td>0.041727</td>\n",
       "      <td>0.268602</td>\n",
       "      <td>0.113358</td>\n",
       "      <td>0.000</td>\n",
       "      <td>0.751</td>\n",
       "      <td>0.249</td>\n",
       "      <td>0.6486</td>\n",
       "      <td>18</td>\n",
       "      <td>0</td>\n",
       "      <td>[0.7989649515741338, 0.20103504842586628]</td>\n",
       "    </tr>\n",
       "    <tr>\n",
       "      <th>3</th>\n",
       "      <td>7097323</td>\n",
       "      <td>paul thank kind word do inde strong belief hid...</td>\n",
       "      <td>0.455623</td>\n",
       "      <td>0.211189</td>\n",
       "      <td>0.014229</td>\n",
       "      <td>0.253877</td>\n",
       "      <td>0.065082</td>\n",
       "      <td>0.143</td>\n",
       "      <td>0.681</td>\n",
       "      <td>0.176</td>\n",
       "      <td>0.8402</td>\n",
       "      <td>101</td>\n",
       "      <td>0</td>\n",
       "      <td>[0.8425833829012106, 0.15741661709878943]</td>\n",
       "    </tr>\n",
       "    <tr>\n",
       "      <th>4</th>\n",
       "      <td>7097324</td>\n",
       "      <td>sorri miss high school eisenhow sent troop vie...</td>\n",
       "      <td>0.187604</td>\n",
       "      <td>0.243004</td>\n",
       "      <td>0.058416</td>\n",
       "      <td>0.270976</td>\n",
       "      <td>0.240000</td>\n",
       "      <td>0.272</td>\n",
       "      <td>0.568</td>\n",
       "      <td>0.160</td>\n",
       "      <td>-0.6486</td>\n",
       "      <td>33</td>\n",
       "      <td>0</td>\n",
       "      <td>[0.8123087373271365, 0.18769126267286348]</td>\n",
       "    </tr>\n",
       "    <tr>\n",
       "      <th>5</th>\n",
       "      <td>7097325</td>\n",
       "      <td>let s see understand this berkowitz announc 14...</td>\n",
       "      <td>0.188055</td>\n",
       "      <td>0.068528</td>\n",
       "      <td>0.238741</td>\n",
       "      <td>0.382697</td>\n",
       "      <td>0.121979</td>\n",
       "      <td>0.000</td>\n",
       "      <td>0.846</td>\n",
       "      <td>0.154</td>\n",
       "      <td>0.8979</td>\n",
       "      <td>80</td>\n",
       "      <td>0</td>\n",
       "      <td>[0.7500868663311184, 0.24991313366888154]</td>\n",
       "    </tr>\n",
       "    <tr>\n",
       "      <th>6</th>\n",
       "      <td>7097326</td>\n",
       "      <td>oil read presid take differ tactic deal corrup...</td>\n",
       "      <td>0.265763</td>\n",
       "      <td>0.216136</td>\n",
       "      <td>0.068971</td>\n",
       "      <td>0.360366</td>\n",
       "      <td>0.088764</td>\n",
       "      <td>0.234</td>\n",
       "      <td>0.766</td>\n",
       "      <td>0.000</td>\n",
       "      <td>-0.6369</td>\n",
       "      <td>19</td>\n",
       "      <td>1</td>\n",
       "      <td>[0.04118796671656333, 0.9588120332834368]</td>\n",
       "    </tr>\n",
       "    <tr>\n",
       "      <th>7</th>\n",
       "      <td>7097327</td>\n",
       "      <td>work togeth dream on liber alreadi busi creat ...</td>\n",
       "      <td>0.175877</td>\n",
       "      <td>0.155650</td>\n",
       "      <td>0.079265</td>\n",
       "      <td>0.486930</td>\n",
       "      <td>0.102278</td>\n",
       "      <td>0.324</td>\n",
       "      <td>0.583</td>\n",
       "      <td>0.093</td>\n",
       "      <td>-0.8934</td>\n",
       "      <td>34</td>\n",
       "      <td>1</td>\n",
       "      <td>[0.3716110448860346, 0.6283889551139654]</td>\n",
       "    </tr>\n",
       "    <tr>\n",
       "      <th>8</th>\n",
       "      <td>7097328</td>\n",
       "      <td>would jerri prevo think stori exact think his</td>\n",
       "      <td>0.368264</td>\n",
       "      <td>0.155240</td>\n",
       "      <td>0.055441</td>\n",
       "      <td>0.336004</td>\n",
       "      <td>0.085050</td>\n",
       "      <td>0.000</td>\n",
       "      <td>1.000</td>\n",
       "      <td>0.000</td>\n",
       "      <td>0.0000</td>\n",
       "      <td>8</td>\n",
       "      <td>0</td>\n",
       "      <td>[0.8933022905622799, 0.10669770943771995]</td>\n",
       "    </tr>\n",
       "    <tr>\n",
       "      <th>9</th>\n",
       "      <td>7097329</td>\n",
       "      <td>wil indigen account take respons instead blame...</td>\n",
       "      <td>0.304088</td>\n",
       "      <td>0.107805</td>\n",
       "      <td>0.117821</td>\n",
       "      <td>0.336683</td>\n",
       "      <td>0.133603</td>\n",
       "      <td>0.275</td>\n",
       "      <td>0.725</td>\n",
       "      <td>0.000</td>\n",
       "      <td>-0.4215</td>\n",
       "      <td>12</td>\n",
       "      <td>0</td>\n",
       "      <td>[0.8315710159286976, 0.16842898407130236]</td>\n",
       "    </tr>\n",
       "    <tr>\n",
       "      <th>10</th>\n",
       "      <td>7097330</td>\n",
       "      <td>peopl o leari peopl against trump brexit not g...</td>\n",
       "      <td>0.250409</td>\n",
       "      <td>0.243401</td>\n",
       "      <td>0.052168</td>\n",
       "      <td>0.346532</td>\n",
       "      <td>0.107490</td>\n",
       "      <td>0.194</td>\n",
       "      <td>0.806</td>\n",
       "      <td>0.000</td>\n",
       "      <td>-0.3412</td>\n",
       "      <td>13</td>\n",
       "      <td>0</td>\n",
       "      <td>[0.6279591674149408, 0.37204083258505904]</td>\n",
       "    </tr>\n",
       "    <tr>\n",
       "      <th>11</th>\n",
       "      <td>7097331</td>\n",
       "      <td>racist eastman slappi wilson wasilla deleg emb...</td>\n",
       "      <td>0.359584</td>\n",
       "      <td>0.304937</td>\n",
       "      <td>0.062230</td>\n",
       "      <td>0.207592</td>\n",
       "      <td>0.065658</td>\n",
       "      <td>0.370</td>\n",
       "      <td>0.630</td>\n",
       "      <td>0.000</td>\n",
       "      <td>-0.9559</td>\n",
       "      <td>39</td>\n",
       "      <td>0</td>\n",
       "      <td>[0.5642926918553816, 0.4357073081446184]</td>\n",
       "    </tr>\n",
       "    <tr>\n",
       "      <th>12</th>\n",
       "      <td>7097332</td>\n",
       "      <td>sinc whine lifeblood onlin comment site pope s...</td>\n",
       "      <td>0.313351</td>\n",
       "      <td>0.144857</td>\n",
       "      <td>0.046645</td>\n",
       "      <td>0.316450</td>\n",
       "      <td>0.178697</td>\n",
       "      <td>0.192</td>\n",
       "      <td>0.651</td>\n",
       "      <td>0.157</td>\n",
       "      <td>-0.2500</td>\n",
       "      <td>45</td>\n",
       "      <td>0</td>\n",
       "      <td>[0.5651082770894104, 0.4348917229105897]</td>\n",
       "    </tr>\n",
       "    <tr>\n",
       "      <th>13</th>\n",
       "      <td>7097333</td>\n",
       "      <td>sue blue jean get learn world pleas you</td>\n",
       "      <td>0.323346</td>\n",
       "      <td>0.155210</td>\n",
       "      <td>0.055425</td>\n",
       "      <td>0.347947</td>\n",
       "      <td>0.118072</td>\n",
       "      <td>0.000</td>\n",
       "      <td>1.000</td>\n",
       "      <td>0.000</td>\n",
       "      <td>0.0000</td>\n",
       "      <td>8</td>\n",
       "      <td>0</td>\n",
       "      <td>[0.6514918952621956, 0.34850810473780447]</td>\n",
       "    </tr>\n",
       "    <tr>\n",
       "      <th>14</th>\n",
       "      <td>7097334</td>\n",
       "      <td>debat never end howev real hypocrisi md s addr...</td>\n",
       "      <td>0.249340</td>\n",
       "      <td>0.122237</td>\n",
       "      <td>0.126795</td>\n",
       "      <td>0.373890</td>\n",
       "      <td>0.127738</td>\n",
       "      <td>0.141</td>\n",
       "      <td>0.793</td>\n",
       "      <td>0.066</td>\n",
       "      <td>-0.5267</td>\n",
       "      <td>40</td>\n",
       "      <td>1</td>\n",
       "      <td>[0.4988314549506245, 0.5011685450493756]</td>\n",
       "    </tr>\n",
       "    <tr>\n",
       "      <th>15</th>\n",
       "      <td>7097335</td>\n",
       "      <td>doa collin announc intent vote no</td>\n",
       "      <td>0.276976</td>\n",
       "      <td>0.237204</td>\n",
       "      <td>0.128612</td>\n",
       "      <td>0.266104</td>\n",
       "      <td>0.091103</td>\n",
       "      <td>0.579</td>\n",
       "      <td>0.421</td>\n",
       "      <td>0.000</td>\n",
       "      <td>-0.6705</td>\n",
       "      <td>6</td>\n",
       "      <td>0</td>\n",
       "      <td>[0.7085162926820975, 0.2914837073179025]</td>\n",
       "    </tr>\n",
       "    <tr>\n",
       "      <th>16</th>\n",
       "      <td>7097336</td>\n",
       "      <td>word senseless act god help learn evil lurk ev...</td>\n",
       "      <td>0.313873</td>\n",
       "      <td>0.207420</td>\n",
       "      <td>0.036224</td>\n",
       "      <td>0.319726</td>\n",
       "      <td>0.122756</td>\n",
       "      <td>0.173</td>\n",
       "      <td>0.474</td>\n",
       "      <td>0.354</td>\n",
       "      <td>0.6705</td>\n",
       "      <td>24</td>\n",
       "      <td>0</td>\n",
       "      <td>[0.5076743998306376, 0.4923256001693625]</td>\n",
       "    </tr>\n",
       "    <tr>\n",
       "      <th>17</th>\n",
       "      <td>7097337</td>\n",
       "      <td>terrif stori japan peopl design live treasur r...</td>\n",
       "      <td>0.336068</td>\n",
       "      <td>0.130738</td>\n",
       "      <td>0.096666</td>\n",
       "      <td>0.326429</td>\n",
       "      <td>0.110098</td>\n",
       "      <td>0.000</td>\n",
       "      <td>0.854</td>\n",
       "      <td>0.146</td>\n",
       "      <td>0.5859</td>\n",
       "      <td>30</td>\n",
       "      <td>0</td>\n",
       "      <td>[0.9208202764272317, 0.07917972357276819]</td>\n",
       "    </tr>\n",
       "    <tr>\n",
       "      <th>18</th>\n",
       "      <td>7097338</td>\n",
       "      <td>donald said nobodi knew health care could comp...</td>\n",
       "      <td>0.332479</td>\n",
       "      <td>0.128798</td>\n",
       "      <td>0.086906</td>\n",
       "      <td>0.371093</td>\n",
       "      <td>0.080725</td>\n",
       "      <td>0.104</td>\n",
       "      <td>0.772</td>\n",
       "      <td>0.124</td>\n",
       "      <td>0.1280</td>\n",
       "      <td>22</td>\n",
       "      <td>0</td>\n",
       "      <td>[0.7201376385038268, 0.2798623614961732]</td>\n",
       "    </tr>\n",
       "    <tr>\n",
       "      <th>19</th>\n",
       "      <td>7097339</td>\n",
       "      <td>well again let s continu subsid cost power cos...</td>\n",
       "      <td>0.209910</td>\n",
       "      <td>0.111505</td>\n",
       "      <td>0.313725</td>\n",
       "      <td>0.293368</td>\n",
       "      <td>0.071492</td>\n",
       "      <td>0.265</td>\n",
       "      <td>0.597</td>\n",
       "      <td>0.138</td>\n",
       "      <td>-0.8225</td>\n",
       "      <td>58</td>\n",
       "      <td>0</td>\n",
       "      <td>[0.5072151819788225, 0.4927848180211776]</td>\n",
       "    </tr>\n",
       "  </tbody>\n",
       "</table>\n",
       "</div>"
      ],
      "text/plain": [
       "         id                                       comment_text   Topic-1  \\\n",
       "0   7097320    integr mean pay debt doe appli presid trump too  0.280907   \n",
       "1   7097321                 malfeas administr board wast money  0.248677   \n",
       "2   7097322  rmiller101 spoken like true elitist look bud r...  0.334971   \n",
       "3   7097323  paul thank kind word do inde strong belief hid...  0.455623   \n",
       "4   7097324  sorri miss high school eisenhow sent troop vie...  0.187604   \n",
       "5   7097325  let s see understand this berkowitz announc 14...  0.188055   \n",
       "6   7097326  oil read presid take differ tactic deal corrup...  0.265763   \n",
       "7   7097327  work togeth dream on liber alreadi busi creat ...  0.175877   \n",
       "8   7097328      would jerri prevo think stori exact think his  0.368264   \n",
       "9   7097329  wil indigen account take respons instead blame...  0.304088   \n",
       "10  7097330  peopl o leari peopl against trump brexit not g...  0.250409   \n",
       "11  7097331  racist eastman slappi wilson wasilla deleg emb...  0.359584   \n",
       "12  7097332  sinc whine lifeblood onlin comment site pope s...  0.313351   \n",
       "13  7097333            sue blue jean get learn world pleas you  0.323346   \n",
       "14  7097334  debat never end howev real hypocrisi md s addr...  0.249340   \n",
       "15  7097335                  doa collin announc intent vote no  0.276976   \n",
       "16  7097336  word senseless act god help learn evil lurk ev...  0.313873   \n",
       "17  7097337  terrif stori japan peopl design live treasur r...  0.336068   \n",
       "18  7097338  donald said nobodi knew health care could comp...  0.332479   \n",
       "19  7097339  well again let s continu subsid cost power cos...  0.209910   \n",
       "\n",
       "     Topic-2   Topic-3   Topic-4   Topic-5  text_NegScore  text_NeuScore  \\\n",
       "0   0.214380  0.117785  0.304614  0.082313          0.358          0.642   \n",
       "1   0.245883  0.098337  0.312666  0.094437          0.000          1.000   \n",
       "2   0.241341  0.041727  0.268602  0.113358          0.000          0.751   \n",
       "3   0.211189  0.014229  0.253877  0.065082          0.143          0.681   \n",
       "4   0.243004  0.058416  0.270976  0.240000          0.272          0.568   \n",
       "5   0.068528  0.238741  0.382697  0.121979          0.000          0.846   \n",
       "6   0.216136  0.068971  0.360366  0.088764          0.234          0.766   \n",
       "7   0.155650  0.079265  0.486930  0.102278          0.324          0.583   \n",
       "8   0.155240  0.055441  0.336004  0.085050          0.000          1.000   \n",
       "9   0.107805  0.117821  0.336683  0.133603          0.275          0.725   \n",
       "10  0.243401  0.052168  0.346532  0.107490          0.194          0.806   \n",
       "11  0.304937  0.062230  0.207592  0.065658          0.370          0.630   \n",
       "12  0.144857  0.046645  0.316450  0.178697          0.192          0.651   \n",
       "13  0.155210  0.055425  0.347947  0.118072          0.000          1.000   \n",
       "14  0.122237  0.126795  0.373890  0.127738          0.141          0.793   \n",
       "15  0.237204  0.128612  0.266104  0.091103          0.579          0.421   \n",
       "16  0.207420  0.036224  0.319726  0.122756          0.173          0.474   \n",
       "17  0.130738  0.096666  0.326429  0.110098          0.000          0.854   \n",
       "18  0.128798  0.086906  0.371093  0.080725          0.104          0.772   \n",
       "19  0.111505  0.313725  0.293368  0.071492          0.265          0.597   \n",
       "\n",
       "    text_PosScore  text_compoundScore  Comment_Len  Y_Predicted_class  \\\n",
       "0           0.000             -0.4404            9                  0   \n",
       "1           0.000              0.0000            5                  0   \n",
       "2           0.249              0.6486           18                  0   \n",
       "3           0.176              0.8402          101                  0   \n",
       "4           0.160             -0.6486           33                  0   \n",
       "5           0.154              0.8979           80                  0   \n",
       "6           0.000             -0.6369           19                  1   \n",
       "7           0.093             -0.8934           34                  1   \n",
       "8           0.000              0.0000            8                  0   \n",
       "9           0.000             -0.4215           12                  0   \n",
       "10          0.000             -0.3412           13                  0   \n",
       "11          0.000             -0.9559           39                  0   \n",
       "12          0.157             -0.2500           45                  0   \n",
       "13          0.000              0.0000            8                  0   \n",
       "14          0.066             -0.5267           40                  1   \n",
       "15          0.000             -0.6705            6                  0   \n",
       "16          0.354              0.6705           24                  0   \n",
       "17          0.146              0.5859           30                  0   \n",
       "18          0.124              0.1280           22                  0   \n",
       "19          0.138             -0.8225           58                  0   \n",
       "\n",
       "                   Y_predictClass_probability  \n",
       "0   [0.8451857561609457, 0.15481424383905426]  \n",
       "1    [0.739548053041451, 0.26045194695854895]  \n",
       "2   [0.7989649515741338, 0.20103504842586628]  \n",
       "3   [0.8425833829012106, 0.15741661709878943]  \n",
       "4   [0.8123087373271365, 0.18769126267286348]  \n",
       "5   [0.7500868663311184, 0.24991313366888154]  \n",
       "6   [0.04118796671656333, 0.9588120332834368]  \n",
       "7    [0.3716110448860346, 0.6283889551139654]  \n",
       "8   [0.8933022905622799, 0.10669770943771995]  \n",
       "9   [0.8315710159286976, 0.16842898407130236]  \n",
       "10  [0.6279591674149408, 0.37204083258505904]  \n",
       "11   [0.5642926918553816, 0.4357073081446184]  \n",
       "12   [0.5651082770894104, 0.4348917229105897]  \n",
       "13  [0.6514918952621956, 0.34850810473780447]  \n",
       "14   [0.4988314549506245, 0.5011685450493756]  \n",
       "15   [0.7085162926820975, 0.2914837073179025]  \n",
       "16   [0.5076743998306376, 0.4923256001693625]  \n",
       "17  [0.9208202764272317, 0.07917972357276819]  \n",
       "18   [0.7201376385038268, 0.2798623614961732]  \n",
       "19   [0.5072151819788225, 0.4927848180211776]  "
      ]
     },
     "execution_count": 130,
     "metadata": {},
     "output_type": "execute_result"
    }
   ],
   "source": [
    "df_test.head(20)"
   ]
  },
  {
   "cell_type": "code",
   "execution_count": 131,
   "metadata": {},
   "outputs": [],
   "source": [
    "df_test.to_csv('G:\\\\Ipynotebook\\\\jigsaw-unintended-bias-in-toxicity-classification\\\\test_resultV1.csv',index=False)"
   ]
  }
 ],
 "metadata": {
  "accelerator": "GPU",
  "colab": {
   "collapsed_sections": [],
   "name": "Jigsaw_UnIntended_Bias_Toxicity_Classification-Copy1.ipynb",
   "provenance": [],
   "toc_visible": true,
   "version": "0.3.2"
  },
  "kernelspec": {
   "display_name": "Python 3",
   "language": "python",
   "name": "python3"
  },
  "language_info": {
   "codemirror_mode": {
    "name": "ipython",
    "version": 3
   },
   "file_extension": ".py",
   "mimetype": "text/x-python",
   "name": "python",
   "nbconvert_exporter": "python",
   "pygments_lexer": "ipython3",
   "version": "3.6.5"
  }
 },
 "nbformat": 4,
 "nbformat_minor": 1
}
